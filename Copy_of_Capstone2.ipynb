{
  "nbformat": 4,
  "nbformat_minor": 0,
  "metadata": {
    "colab": {
      "name": "Copy of Capstone2.ipynb",
      "provenance": [],
      "authorship_tag": "ABX9TyPi5GzB/jwsl+bgMxfXkEgT",
      "include_colab_link": true
    },
    "kernelspec": {
      "name": "python3",
      "display_name": "Python 3"
    },
    "language_info": {
      "name": "python"
    },
    "widgets": {
      "application/vnd.jupyter.widget-state+json": {
        "88ab3781076146dd9ac0a202aca5bfee": {
          "model_module": "@jupyter-widgets/controls",
          "model_name": "HBoxModel",
          "model_module_version": "1.5.0",
          "state": {
            "_view_name": "HBoxView",
            "_dom_classes": [],
            "_model_name": "HBoxModel",
            "_view_module": "@jupyter-widgets/controls",
            "_model_module_version": "1.5.0",
            "_view_count": null,
            "_view_module_version": "1.5.0",
            "box_style": "",
            "layout": "IPY_MODEL_1752dfe049ae4554b6cf196830b68270",
            "_model_module": "@jupyter-widgets/controls",
            "children": [
              "IPY_MODEL_8be1816ae6a54325b71c55bf9da7bea6",
              "IPY_MODEL_58be453f5afe48a5bda206507c2d620f"
            ]
          }
        },
        "1752dfe049ae4554b6cf196830b68270": {
          "model_module": "@jupyter-widgets/base",
          "model_name": "LayoutModel",
          "model_module_version": "1.2.0",
          "state": {
            "_view_name": "LayoutView",
            "grid_template_rows": null,
            "right": null,
            "justify_content": null,
            "_view_module": "@jupyter-widgets/base",
            "overflow": null,
            "_model_module_version": "1.2.0",
            "_view_count": null,
            "flex_flow": null,
            "width": null,
            "min_width": null,
            "border": null,
            "align_items": null,
            "bottom": null,
            "_model_module": "@jupyter-widgets/base",
            "top": null,
            "grid_column": null,
            "overflow_y": null,
            "overflow_x": null,
            "grid_auto_flow": null,
            "grid_area": null,
            "grid_template_columns": null,
            "flex": null,
            "_model_name": "LayoutModel",
            "justify_items": null,
            "grid_row": null,
            "max_height": null,
            "align_content": null,
            "visibility": null,
            "align_self": null,
            "height": null,
            "min_height": null,
            "padding": null,
            "grid_auto_rows": null,
            "grid_gap": null,
            "max_width": null,
            "order": null,
            "_view_module_version": "1.2.0",
            "grid_template_areas": null,
            "object_position": null,
            "object_fit": null,
            "grid_auto_columns": null,
            "margin": null,
            "display": null,
            "left": null
          }
        },
        "8be1816ae6a54325b71c55bf9da7bea6": {
          "model_module": "@jupyter-widgets/controls",
          "model_name": "FloatProgressModel",
          "model_module_version": "1.5.0",
          "state": {
            "_view_name": "ProgressView",
            "style": "IPY_MODEL_4d0a0e57491c485f9a4b9b3dde727bff",
            "_dom_classes": [],
            "description": "100%",
            "_model_name": "FloatProgressModel",
            "bar_style": "success",
            "max": 2,
            "_view_module": "@jupyter-widgets/controls",
            "_model_module_version": "1.5.0",
            "value": 2,
            "_view_count": null,
            "_view_module_version": "1.5.0",
            "orientation": "horizontal",
            "min": 0,
            "description_tooltip": null,
            "_model_module": "@jupyter-widgets/controls",
            "layout": "IPY_MODEL_2d4826acf08b4dbba55cc7fbd3b8062a"
          }
        },
        "58be453f5afe48a5bda206507c2d620f": {
          "model_module": "@jupyter-widgets/controls",
          "model_name": "HTMLModel",
          "model_module_version": "1.5.0",
          "state": {
            "_view_name": "HTMLView",
            "style": "IPY_MODEL_5a10894df3294a2884b95ad82db16100",
            "_dom_classes": [],
            "description": "",
            "_model_name": "HTMLModel",
            "placeholder": "​",
            "_view_module": "@jupyter-widgets/controls",
            "_model_module_version": "1.5.0",
            "value": " 2/2 [02:41&lt;00:00, 80.69s/it]",
            "_view_count": null,
            "_view_module_version": "1.5.0",
            "description_tooltip": null,
            "_model_module": "@jupyter-widgets/controls",
            "layout": "IPY_MODEL_2a0d0ce1adf9468884b7958e8f856b8e"
          }
        },
        "4d0a0e57491c485f9a4b9b3dde727bff": {
          "model_module": "@jupyter-widgets/controls",
          "model_name": "ProgressStyleModel",
          "model_module_version": "1.5.0",
          "state": {
            "_view_name": "StyleView",
            "_model_name": "ProgressStyleModel",
            "description_width": "initial",
            "_view_module": "@jupyter-widgets/base",
            "_model_module_version": "1.5.0",
            "_view_count": null,
            "_view_module_version": "1.2.0",
            "bar_color": null,
            "_model_module": "@jupyter-widgets/controls"
          }
        },
        "2d4826acf08b4dbba55cc7fbd3b8062a": {
          "model_module": "@jupyter-widgets/base",
          "model_name": "LayoutModel",
          "model_module_version": "1.2.0",
          "state": {
            "_view_name": "LayoutView",
            "grid_template_rows": null,
            "right": null,
            "justify_content": null,
            "_view_module": "@jupyter-widgets/base",
            "overflow": null,
            "_model_module_version": "1.2.0",
            "_view_count": null,
            "flex_flow": null,
            "width": null,
            "min_width": null,
            "border": null,
            "align_items": null,
            "bottom": null,
            "_model_module": "@jupyter-widgets/base",
            "top": null,
            "grid_column": null,
            "overflow_y": null,
            "overflow_x": null,
            "grid_auto_flow": null,
            "grid_area": null,
            "grid_template_columns": null,
            "flex": null,
            "_model_name": "LayoutModel",
            "justify_items": null,
            "grid_row": null,
            "max_height": null,
            "align_content": null,
            "visibility": null,
            "align_self": null,
            "height": null,
            "min_height": null,
            "padding": null,
            "grid_auto_rows": null,
            "grid_gap": null,
            "max_width": null,
            "order": null,
            "_view_module_version": "1.2.0",
            "grid_template_areas": null,
            "object_position": null,
            "object_fit": null,
            "grid_auto_columns": null,
            "margin": null,
            "display": null,
            "left": null
          }
        },
        "5a10894df3294a2884b95ad82db16100": {
          "model_module": "@jupyter-widgets/controls",
          "model_name": "DescriptionStyleModel",
          "model_module_version": "1.5.0",
          "state": {
            "_view_name": "StyleView",
            "_model_name": "DescriptionStyleModel",
            "description_width": "",
            "_view_module": "@jupyter-widgets/base",
            "_model_module_version": "1.5.0",
            "_view_count": null,
            "_view_module_version": "1.2.0",
            "_model_module": "@jupyter-widgets/controls"
          }
        },
        "2a0d0ce1adf9468884b7958e8f856b8e": {
          "model_module": "@jupyter-widgets/base",
          "model_name": "LayoutModel",
          "model_module_version": "1.2.0",
          "state": {
            "_view_name": "LayoutView",
            "grid_template_rows": null,
            "right": null,
            "justify_content": null,
            "_view_module": "@jupyter-widgets/base",
            "overflow": null,
            "_model_module_version": "1.2.0",
            "_view_count": null,
            "flex_flow": null,
            "width": null,
            "min_width": null,
            "border": null,
            "align_items": null,
            "bottom": null,
            "_model_module": "@jupyter-widgets/base",
            "top": null,
            "grid_column": null,
            "overflow_y": null,
            "overflow_x": null,
            "grid_auto_flow": null,
            "grid_area": null,
            "grid_template_columns": null,
            "flex": null,
            "_model_name": "LayoutModel",
            "justify_items": null,
            "grid_row": null,
            "max_height": null,
            "align_content": null,
            "visibility": null,
            "align_self": null,
            "height": null,
            "min_height": null,
            "padding": null,
            "grid_auto_rows": null,
            "grid_gap": null,
            "max_width": null,
            "order": null,
            "_view_module_version": "1.2.0",
            "grid_template_areas": null,
            "object_position": null,
            "object_fit": null,
            "grid_auto_columns": null,
            "margin": null,
            "display": null,
            "left": null
          }
        }
      }
    }
  },
  "cells": [
    {
      "cell_type": "markdown",
      "metadata": {
        "id": "view-in-github",
        "colab_type": "text"
      },
      "source": [
        "<a href=\"https://colab.research.google.com/github/Mahmood81s/Attempt2/blob/main/Copy_of_Capstone2.ipynb\" target=\"_parent\"><img src=\"https://colab.research.google.com/assets/colab-badge.svg\" alt=\"Open In Colab\"/></a>"
      ]
    },
    {
      "cell_type": "markdown",
      "metadata": {
        "id": "tWF9NeiBZcgY"
      },
      "source": [
        "# Introduction: \n",
        "Data : \n",
        "* Analysing the reasons of customers churn.\n",
        "This is a fictional data set made by IBM data scientists. this dataset is from kaggle and is about uncovering the facts which has caused customers leaving or unsubscribing from the services that they have been subscribed to. the dataset has 7043 entries with total of 33 variables(columns). the reasons which make this dataset interesting are the facts that we can analyse what can cause customers churn. customer churn is a critical metric because it is much less expensive to retain existing customers than it is to acquire new customers – earning business from new customers means working leads all the way through the sales funnel, utilizing your marketing and sales resources throughout the process. Customer retention, on the other hand, is generally more cost-effective as you’ve already earned the trust and loyalty of existing customers. this reasearch proposal can be benefitial to any kind of marktet and industries, telecommunication industry, any suppliers, CEO's, Executives,Stakeholders, etc. this is classification task and categorical variables are explained and categorized as shown below for the ease of analysis. \n",
        "\n",
        "\n",
        "A fictional telco company that provided home phone and Internet services to 7043 customers in California in Q3.\n",
        "\n",
        "Data Description\n",
        "7043 observations with 33 variables\n",
        "\n",
        "*  CustomerID: A unique ID that identifies each customer.\n",
        "\n",
        "* Count: A value used in reporting/dashboarding to sum up the number of customers in a filtered set.\n",
        "\n",
        "* Country: The country of the customer’s primary residence.\n",
        "\n",
        "* State: The state of the customer’s primary residence.\n",
        "\n",
        "* City: The city of the customer’s primary residence.\n",
        "\n",
        "* Zip Code: The zip code of the customer’s primary residence.\n",
        "\n",
        "* Lat Long: The combined latitude and longitude of the customer’s primary residence.\n",
        "\n",
        "* Latitude: The latitude of the customer’s primary residence.\n",
        "\n",
        "* Longitude: The longitude of the customer’s primary residence.\n",
        "\n",
        "* Gender: The customer’s gender: Male, Female\n",
        "\n",
        "* Senior Citizen: Indicates if the customer is 65 or older: Yes, No\n",
        "\n",
        "* Partner: Indicate if the customer has a partner: Yes, No\n",
        "\n",
        "* Dependents: Indicates if the customer lives with any dependents: Yes, No. Dependents could be children, parents, grandparents, etc.\n",
        "\n",
        "* Tenure Months: Indicates the total amount of months that the customer has been with the company by the end of the quarter specified above.\n",
        "\n",
        "* Phone Service: Indicates if the customer subscribes to home phone service with the company: Yes, No\n",
        "\n",
        "* Multiple Lines: Indicates if the customer subscribes to multiple telephone lines with the company: Yes, No\n",
        "\n",
        "* Internet Service: Indicates if the customer subscribes to Internet service with the company: No, DSL, Fiber Optic, Cable.\n",
        "\n",
        "* Online Security: Indicates if the customer subscribes to an additional online security service provided by the company: Yes, No\n",
        "\n",
        "* Online Backup: Indicates if the customer subscribes to an additional online backup service provided by the company: Yes, No\n",
        "\n",
        "* Device Protection: Indicates if the customer subscribes to an additional device protection plan for their Internet equipment provided by the company: Yes, No\n",
        "\n",
        "* Tech Support: Indicates if the customer subscribes to an additional technical support plan from the company with reduced wait times: Yes, No\n",
        "\n",
        "* Streaming TV: Indicates if the customer uses their Internet service to stream television programing from a third party provider: Yes, No. The company does not charge an additional fee for this service.\n",
        "\n",
        "* Streaming Movies: Indicates if the customer uses their Internet service to stream movies from a third party provider: Yes, No. The company does not charge an additional fee for this service.\n",
        "\n",
        "* Contract: Indicates the customer’s current contract type: Month-to-Month, One Year, Two Year.\n",
        "\n",
        "* Paperless Billing: Indicates if the customer has chosen paperless billing: Yes, No\n",
        "\n",
        "* Payment Method: Indicates how the customer pays their bill: Bank Withdrawal, Credit Card, Mailed Check\n",
        "\n",
        "* Monthly Charge: Indicates the customer’s current total monthly charge for all their services from the company.\n",
        "\n",
        "* Total Charges: Indicates the customer’s total charges, calculated to the end of the quarter specified above.\n",
        "\n",
        "* Churn Label: Yes = the customer left the company this quarter. No = the customer remained with the company. Directly related to Churn Value.\n",
        "\n",
        "* Churn Value: 1 = the customer left the company this quarter. 0 = the customer remained with the company. Directly related to Churn Label.\n",
        "\n",
        "* Churn Score: A value from 0-100 that is calculated using the predictive tool IBM SPSS Modeler. The model incorporates multiple factors known to cause churn. The higher the score, the more likely the customer will churn.\n",
        "\n",
        "* CLTV: Customer Lifetime Value. A predicted CLTV is calculated using corporate formulas and existing data. The higher the value, the more valuable the customer. High value customers should be monitored for churn.\n",
        "\n",
        "* Churn Reason: A customer’s specific reason for leaving the company. Directly related to Churn Category.\n",
        "\n",
        "Link: https://www.kaggle.com/yeanzc/telco-customer-churn-ibm-dataset\n",
        "\n",
        "Research Design : \n",
        "\n",
        "1. data exploration, cleaning and scaling\n",
        "2. Class balancing\n",
        "   * Over sampling\n",
        "3. Feature selection by SelectKBeat and information gain\n",
        "   * Hyperparameter tuning by GridSearchCV \n",
        "      * Logistic Regression\n",
        "      * Random Forest\n",
        "      * Support Vector Machine\n",
        "      * Decision Tree\n",
        "      * Gradient Boosting\n",
        "4. Feature selection by PCA\n",
        "   * Hyperparameter tuning by GridSearchCV \n",
        "      * Logistic Regression\n",
        "      * Random Forest\n",
        "      * Support Vector Machine\n",
        "      * Decision Tree\n",
        "      * Gradient Boosting \n",
        "5. Model evaluation\n",
        "   * Accuracy score\n",
        "   * classification report\n",
        "   * Confusion matrix\n",
        "   * Cross_validation         \n",
        "6. Analysis and comparison\n",
        "7. Conclusion\n",
        "\n",
        "\n",
        "\n",
        "\n",
        "\n",
        "\n"
      ]
    },
    {
      "cell_type": "markdown",
      "metadata": {
        "id": "zAfawFe_3CtI"
      },
      "source": [
        ""
      ]
    },
    {
      "cell_type": "code",
      "metadata": {
        "id": "z0sqVPGOv-Eg"
      },
      "source": [
        "import pandas as pd\n",
        "import numpy as np\n",
        "from matplotlib import pyplot as plt\n",
        "%matplotlib inline"
      ],
      "execution_count": null,
      "outputs": []
    },
    {
      "cell_type": "markdown",
      "metadata": {
        "id": "EVDmok7CDv_G"
      },
      "source": [
        "### Dataset"
      ]
    },
    {
      "cell_type": "code",
      "metadata": {
        "id": "BRfRflNjxm9F"
      },
      "source": [
        "! pip install -q kaggle"
      ],
      "execution_count": null,
      "outputs": []
    },
    {
      "cell_type": "code",
      "metadata": {
        "colab": {
          "resources": {
            "http://localhost:8080/nbextensions/google.colab/files.js": {
              "data": "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",
              "ok": true,
              "headers": [
                [
                  "content-type",
                  "application/javascript"
                ]
              ],
              "status": 200,
              "status_text": ""
            }
          },
          "base_uri": "https://localhost:8080/",
          "height": 89
        },
        "id": "70-mK8h1yle2",
        "outputId": "05a0e3ee-6839-4fb1-ff9f-7b4c643f7022"
      },
      "source": [
        "from google.colab import files\n",
        "files.upload()"
      ],
      "execution_count": null,
      "outputs": [
        {
          "output_type": "display_data",
          "data": {
            "text/html": [
              "\n",
              "     <input type=\"file\" id=\"files-890a8823-d7d2-463f-9f64-b61e331e6694\" name=\"files[]\" multiple disabled\n",
              "        style=\"border:none\" />\n",
              "     <output id=\"result-890a8823-d7d2-463f-9f64-b61e331e6694\">\n",
              "      Upload widget is only available when the cell has been executed in the\n",
              "      current browser session. Please rerun this cell to enable.\n",
              "      </output>\n",
              "      <script src=\"/nbextensions/google.colab/files.js\"></script> "
            ],
            "text/plain": [
              "<IPython.core.display.HTML object>"
            ]
          },
          "metadata": {
            "tags": []
          }
        },
        {
          "output_type": "stream",
          "text": [
            "Saving kaggle.json to kaggle (1).json\n"
          ],
          "name": "stdout"
        },
        {
          "output_type": "execute_result",
          "data": {
            "text/plain": [
              "{'kaggle.json': b'{\"username\":\"mahmoodsardari\",\"key\":\"485b41ec3c6ba6bf1094f8f5af7b03a6\"}'}"
            ]
          },
          "metadata": {
            "tags": []
          },
          "execution_count": 328
        }
      ]
    },
    {
      "cell_type": "code",
      "metadata": {
        "id": "CjF_I49Py6si",
        "colab": {
          "base_uri": "https://localhost:8080/"
        },
        "outputId": "9154cd92-31d2-4760-9663-fe1e15e7bfc6"
      },
      "source": [
        "! mkdir ~/.kaggle\n",
        "\n",
        "! cp kaggle.json ~/.kaggle/"
      ],
      "execution_count": null,
      "outputs": [
        {
          "output_type": "stream",
          "text": [
            "mkdir: cannot create directory ‘/root/.kaggle’: File exists\n"
          ],
          "name": "stdout"
        }
      ]
    },
    {
      "cell_type": "code",
      "metadata": {
        "id": "DeIMTGr9y9x3"
      },
      "source": [
        "! chmod 600 ~/.kaggle/kaggle.json"
      ],
      "execution_count": null,
      "outputs": []
    },
    {
      "cell_type": "code",
      "metadata": {
        "colab": {
          "base_uri": "https://localhost:8080/"
        },
        "id": "e3DuYjCezB5J",
        "outputId": "4aa23ed1-d59e-45c3-e7d3-5cb2f1bfba0d"
      },
      "source": [
        "! kaggle datasets list"
      ],
      "execution_count": null,
      "outputs": [
        {
          "output_type": "stream",
          "text": [
            "Warning: Looks like you're using an outdated API Version, please consider updating (server 1.5.12 / client 1.5.4)\n",
            "ref                                                         title                                              size  lastUpdated          downloadCount  \n",
            "----------------------------------------------------------  ------------------------------------------------  -----  -------------------  -------------  \n",
            "gpreda/reddit-vaccine-myths                                 Reddit Vaccine Myths                              233KB  2021-07-07 19:18:09           9089  \n",
            "crowww/a-large-scale-fish-dataset                           A Large Scale Fish Dataset                          3GB  2021-04-28 17:03:01           5555  \n",
            "imsparsh/musicnet-dataset                                   MusicNet Dataset                                   22GB  2021-02-18 14:12:19           2009  \n",
            "dhruvildave/wikibooks-dataset                               Wikibooks Dataset                                   2GB  2021-07-03 18:37:20           2391  \n",
            "promptcloud/careerbuilder-job-listing-2020                  Careerbuilder Job Listing 2020                     42MB  2021-03-05 06:59:52           1328  \n",
            "nickuzmenkov/nih-chest-xrays-tfrecords                      NIH Chest X-rays TFRecords                         11GB  2021-03-09 04:49:23            723  \n",
            "fatiimaezzahra/famous-iconic-women                          Famous Iconic Women                               838MB  2021-02-28 14:56:00            934  \n",
            "coloradokb/dandelionimages                                  DandelionImages                                     4GB  2021-02-19 20:03:47            677  \n",
            "alsgroup/end-als                                            End ALS Kaggle Challenge                           12GB  2021-04-08 12:16:37            772  \n",
            "mathurinache/twitter-edge-nodes                             Twitter Edge Nodes                                342MB  2021-03-08 06:43:04            627  \n",
            "simiotic/github-code-snippets                               GitHub Code Snippets                                7GB  2021-03-03 11:34:39            216  \n",
            "landrykezebou/lvzhdr-tone-mapping-benchmark-dataset-tmonet  LVZ-HDR Tone Mapping Benchmark Dataset (TMO-Net)   24GB  2021-03-01 05:03:40            154  \n",
            "mathurinache/the-lj-speech-dataset                          The LJ Speech Dataset                               3GB  2021-02-15 09:19:54            235  \n",
            "imsparsh/accentdb-core-extended                             AccentDB - Core & Extended                          6GB  2021-02-17 14:22:54             92  \n",
            "stuartjames/lights                                          LightS: Light Specularity Dataset                  18GB  2021-02-18 14:32:26             89  \n",
            "nickuzmenkov/ranzcr-clip-kfold-tfrecords                    RANZCR CLiP KFold TFRecords                         2GB  2021-02-21 13:29:51            101  \n",
            "datasnaek/youtube-new                                       Trending YouTube Video Statistics                 201MB  2019-06-03 00:56:47         144298  \n",
            "zynicide/wine-reviews                                       Wine Reviews                                       51MB  2017-11-27 17:08:04         139958  \n",
            "residentmario/ramen-ratings                                 Ramen Ratings                                      40KB  2018-01-11 16:04:39          24826  \n",
            "datasnaek/chess                                             Chess Game Dataset (Lichess)                        3MB  2017-09-04 03:09:09          19859  \n"
          ],
          "name": "stdout"
        }
      ]
    },
    {
      "cell_type": "code",
      "metadata": {
        "colab": {
          "base_uri": "https://localhost:8080/"
        },
        "id": "VQQRUC5fzGHI",
        "outputId": "94412d84-51fe-4eba-b916-71e275f0ade6"
      },
      "source": [
        "! kaggle datasets download -d yeanzc/telco-customer-churn-ibm-dataset"
      ],
      "execution_count": null,
      "outputs": [
        {
          "output_type": "stream",
          "text": [
            "Downloading telco-customer-churn-ibm-dataset.zip to /content\n",
            "\r  0% 0.00/1.25M [00:00<?, ?B/s]\n",
            "\r100% 1.25M/1.25M [00:00<00:00, 41.8MB/s]\n"
          ],
          "name": "stdout"
        }
      ]
    },
    {
      "cell_type": "code",
      "metadata": {
        "colab": {
          "base_uri": "https://localhost:8080/"
        },
        "id": "DHMuvMI6zJsy",
        "outputId": "a947a744-d4a5-4202-d262-c022c7c398f0"
      },
      "source": [
        "!unzip \\*.zip  && rm *.zip"
      ],
      "execution_count": null,
      "outputs": [
        {
          "output_type": "stream",
          "text": [
            "Archive:  telco-customer-churn-ibm-dataset.zip\n",
            "replace Telco_customer_churn.xlsx? [y]es, [n]o, [A]ll, [N]one, [r]ename: n\n"
          ],
          "name": "stdout"
        }
      ]
    },
    {
      "cell_type": "code",
      "metadata": {
        "colab": {
          "resources": {
            "http://localhost:8080/nbextensions/google.colab/files.js": {
              "data": "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",
              "ok": true,
              "headers": [
                [
                  "content-type",
                  "application/javascript"
                ]
              ],
              "status": 200,
              "status_text": ""
            }
          },
          "base_uri": "https://localhost:8080/",
          "height": 73
        },
        "id": "cLQOXH6kzPEC",
        "outputId": "872beacf-1596-4b5f-aa5a-f2eaa1aa00a9"
      },
      "source": [
        "from google.colab import files\n",
        "uploaded = files.upload()"
      ],
      "execution_count": null,
      "outputs": [
        {
          "output_type": "display_data",
          "data": {
            "text/html": [
              "\n",
              "     <input type=\"file\" id=\"files-348adf29-8ade-4834-a966-706ac2eb5870\" name=\"files[]\" multiple disabled\n",
              "        style=\"border:none\" />\n",
              "     <output id=\"result-348adf29-8ade-4834-a966-706ac2eb5870\">\n",
              "      Upload widget is only available when the cell has been executed in the\n",
              "      current browser session. Please rerun this cell to enable.\n",
              "      </output>\n",
              "      <script src=\"/nbextensions/google.colab/files.js\"></script> "
            ],
            "text/plain": [
              "<IPython.core.display.HTML object>"
            ]
          },
          "metadata": {
            "tags": []
          }
        },
        {
          "output_type": "stream",
          "text": [
            "Saving Telco_customer_churn.xlsx to Telco_customer_churn (2).xlsx\n"
          ],
          "name": "stdout"
        }
      ]
    },
    {
      "cell_type": "code",
      "metadata": {
        "id": "J_vm2j0qzWWa"
      },
      "source": [
        "import io\n",
        "df = pd.read_excel(io.BytesIO(uploaded['Telco_customer_churn.xlsx']))"
      ],
      "execution_count": null,
      "outputs": []
    },
    {
      "cell_type": "markdown",
      "metadata": {
        "id": "LjIWnlRNVt1N"
      },
      "source": [
        "### Data Claening & Data Exploration"
      ]
    },
    {
      "cell_type": "code",
      "metadata": {
        "colab": {
          "base_uri": "https://localhost:8080/"
        },
        "id": "LhdKOyvfzbEm",
        "outputId": "1d6d3673-e4ad-4d38-c215-2682c674bd01"
      },
      "source": [
        "df.info()"
      ],
      "execution_count": null,
      "outputs": [
        {
          "output_type": "stream",
          "text": [
            "<class 'pandas.core.frame.DataFrame'>\n",
            "RangeIndex: 7043 entries, 0 to 7042\n",
            "Data columns (total 33 columns):\n",
            " #   Column             Non-Null Count  Dtype  \n",
            "---  ------             --------------  -----  \n",
            " 0   CustomerID         7043 non-null   object \n",
            " 1   Count              7043 non-null   int64  \n",
            " 2   Country            7043 non-null   object \n",
            " 3   State              7043 non-null   object \n",
            " 4   City               7043 non-null   object \n",
            " 5   Zip Code           7043 non-null   int64  \n",
            " 6   Lat Long           7043 non-null   object \n",
            " 7   Latitude           7043 non-null   float64\n",
            " 8   Longitude          7043 non-null   float64\n",
            " 9   Gender             7043 non-null   object \n",
            " 10  Senior Citizen     7043 non-null   object \n",
            " 11  Partner            7043 non-null   object \n",
            " 12  Dependents         7043 non-null   object \n",
            " 13  Tenure Months      7043 non-null   int64  \n",
            " 14  Phone Service      7043 non-null   object \n",
            " 15  Multiple Lines     7043 non-null   object \n",
            " 16  Internet Service   7043 non-null   object \n",
            " 17  Online Security    7043 non-null   object \n",
            " 18  Online Backup      7043 non-null   object \n",
            " 19  Device Protection  7043 non-null   object \n",
            " 20  Tech Support       7043 non-null   object \n",
            " 21  Streaming TV       7043 non-null   object \n",
            " 22  Streaming Movies   7043 non-null   object \n",
            " 23  Contract           7043 non-null   object \n",
            " 24  Paperless Billing  7043 non-null   object \n",
            " 25  Payment Method     7043 non-null   object \n",
            " 26  Monthly Charges    7043 non-null   float64\n",
            " 27  Total Charges      7043 non-null   object \n",
            " 28  Churn Label        7043 non-null   object \n",
            " 29  Churn Value        7043 non-null   int64  \n",
            " 30  Churn Score        7043 non-null   int64  \n",
            " 31  CLTV               7043 non-null   int64  \n",
            " 32  Churn Reason       1869 non-null   object \n",
            "dtypes: float64(3), int64(6), object(24)\n",
            "memory usage: 1.8+ MB\n"
          ],
          "name": "stdout"
        }
      ]
    },
    {
      "cell_type": "code",
      "metadata": {
        "id": "Y-n6xmqLNVkU"
      },
      "source": [
        "df.columns = df.columns.map(lambda x: x.replace(' ', ''))"
      ],
      "execution_count": null,
      "outputs": []
    },
    {
      "cell_type": "code",
      "metadata": {
        "id": "3rVytkCLqZGu",
        "colab": {
          "base_uri": "https://localhost:8080/"
        },
        "outputId": "0d800234-c017-4565-fdb0-da4dce90a197"
      },
      "source": [
        "df.columns"
      ],
      "execution_count": null,
      "outputs": [
        {
          "output_type": "execute_result",
          "data": {
            "text/plain": [
              "Index(['CustomerID', 'Count', 'Country', 'State', 'City', 'ZipCode', 'LatLong',\n",
              "       'Latitude', 'Longitude', 'Gender', 'SeniorCitizen', 'Partner',\n",
              "       'Dependents', 'TenureMonths', 'PhoneService', 'MultipleLines',\n",
              "       'InternetService', 'OnlineSecurity', 'OnlineBackup', 'DeviceProtection',\n",
              "       'TechSupport', 'StreamingTV', 'StreamingMovies', 'Contract',\n",
              "       'PaperlessBilling', 'PaymentMethod', 'MonthlyCharges', 'TotalCharges',\n",
              "       'ChurnLabel', 'ChurnValue', 'ChurnScore', 'CLTV', 'ChurnReason'],\n",
              "      dtype='object')"
            ]
          },
          "metadata": {
            "tags": []
          },
          "execution_count": 338
        }
      ]
    },
    {
      "cell_type": "code",
      "metadata": {
        "id": "P7jLyWTqORC6"
      },
      "source": [
        "df.drop('CustomerID Count Country State City ZipCode LatLong Latitude Longitude ChurnReason'.split(), axis=1 , inplace=True)"
      ],
      "execution_count": null,
      "outputs": []
    },
    {
      "cell_type": "code",
      "metadata": {
        "colab": {
          "base_uri": "https://localhost:8080/"
        },
        "id": "qu8taq33PCzC",
        "outputId": "59b80408-0038-4451-e55e-d076e86f8305"
      },
      "source": [
        "df.info()"
      ],
      "execution_count": null,
      "outputs": [
        {
          "output_type": "stream",
          "text": [
            "<class 'pandas.core.frame.DataFrame'>\n",
            "RangeIndex: 7043 entries, 0 to 7042\n",
            "Data columns (total 23 columns):\n",
            " #   Column            Non-Null Count  Dtype  \n",
            "---  ------            --------------  -----  \n",
            " 0   Gender            7043 non-null   object \n",
            " 1   SeniorCitizen     7043 non-null   object \n",
            " 2   Partner           7043 non-null   object \n",
            " 3   Dependents        7043 non-null   object \n",
            " 4   TenureMonths      7043 non-null   int64  \n",
            " 5   PhoneService      7043 non-null   object \n",
            " 6   MultipleLines     7043 non-null   object \n",
            " 7   InternetService   7043 non-null   object \n",
            " 8   OnlineSecurity    7043 non-null   object \n",
            " 9   OnlineBackup      7043 non-null   object \n",
            " 10  DeviceProtection  7043 non-null   object \n",
            " 11  TechSupport       7043 non-null   object \n",
            " 12  StreamingTV       7043 non-null   object \n",
            " 13  StreamingMovies   7043 non-null   object \n",
            " 14  Contract          7043 non-null   object \n",
            " 15  PaperlessBilling  7043 non-null   object \n",
            " 16  PaymentMethod     7043 non-null   object \n",
            " 17  MonthlyCharges    7043 non-null   float64\n",
            " 18  TotalCharges      7043 non-null   object \n",
            " 19  ChurnLabel        7043 non-null   object \n",
            " 20  ChurnValue        7043 non-null   int64  \n",
            " 21  ChurnScore        7043 non-null   int64  \n",
            " 22  CLTV              7043 non-null   int64  \n",
            "dtypes: float64(1), int64(4), object(18)\n",
            "memory usage: 1.2+ MB\n"
          ],
          "name": "stdout"
        }
      ]
    },
    {
      "cell_type": "code",
      "metadata": {
        "colab": {
          "base_uri": "https://localhost:8080/"
        },
        "id": "fmmqStE_PI06",
        "outputId": "ae8ba943-20b4-44cc-c863-79f9b967e443"
      },
      "source": [
        "df.dtypes"
      ],
      "execution_count": null,
      "outputs": [
        {
          "output_type": "execute_result",
          "data": {
            "text/plain": [
              "Gender               object\n",
              "SeniorCitizen        object\n",
              "Partner              object\n",
              "Dependents           object\n",
              "TenureMonths          int64\n",
              "PhoneService         object\n",
              "MultipleLines        object\n",
              "InternetService      object\n",
              "OnlineSecurity       object\n",
              "OnlineBackup         object\n",
              "DeviceProtection     object\n",
              "TechSupport          object\n",
              "StreamingTV          object\n",
              "StreamingMovies      object\n",
              "Contract             object\n",
              "PaperlessBilling     object\n",
              "PaymentMethod        object\n",
              "MonthlyCharges      float64\n",
              "TotalCharges         object\n",
              "ChurnLabel           object\n",
              "ChurnValue            int64\n",
              "ChurnScore            int64\n",
              "CLTV                  int64\n",
              "dtype: object"
            ]
          },
          "metadata": {
            "tags": []
          },
          "execution_count": 341
        }
      ]
    },
    {
      "cell_type": "code",
      "metadata": {
        "colab": {
          "base_uri": "https://localhost:8080/"
        },
        "id": "hU2vpTPCPS77",
        "outputId": "47159df6-3151-4ebc-fb8b-4d96b10be158"
      },
      "source": [
        "df.TotalCharges.values"
      ],
      "execution_count": null,
      "outputs": [
        {
          "output_type": "execute_result",
          "data": {
            "text/plain": [
              "array([108.15, 151.65, 820.5, ..., 7362.9, 346.45, 6844.5], dtype=object)"
            ]
          },
          "metadata": {
            "tags": []
          },
          "execution_count": 342
        }
      ]
    },
    {
      "cell_type": "code",
      "metadata": {
        "colab": {
          "base_uri": "https://localhost:8080/",
          "height": 546
        },
        "id": "ZonEcnoLPZpD",
        "outputId": "1be2b506-63f2-46aa-e28a-1246f449bfba"
      },
      "source": [
        "# pd.to_numeric(df.TotalCharges,errors='coerce')\n",
        "df[pd.to_numeric(df.TotalCharges,errors='coerce').isnull()]\n",
        "# df[pd.to_numeric(df.TotalCharges,errors='coerce').isnull()].shape"
      ],
      "execution_count": null,
      "outputs": [
        {
          "output_type": "execute_result",
          "data": {
            "text/html": [
              "<div>\n",
              "<style scoped>\n",
              "    .dataframe tbody tr th:only-of-type {\n",
              "        vertical-align: middle;\n",
              "    }\n",
              "\n",
              "    .dataframe tbody tr th {\n",
              "        vertical-align: top;\n",
              "    }\n",
              "\n",
              "    .dataframe thead th {\n",
              "        text-align: right;\n",
              "    }\n",
              "</style>\n",
              "<table border=\"1\" class=\"dataframe\">\n",
              "  <thead>\n",
              "    <tr style=\"text-align: right;\">\n",
              "      <th></th>\n",
              "      <th>Gender</th>\n",
              "      <th>SeniorCitizen</th>\n",
              "      <th>Partner</th>\n",
              "      <th>Dependents</th>\n",
              "      <th>TenureMonths</th>\n",
              "      <th>PhoneService</th>\n",
              "      <th>MultipleLines</th>\n",
              "      <th>InternetService</th>\n",
              "      <th>OnlineSecurity</th>\n",
              "      <th>OnlineBackup</th>\n",
              "      <th>DeviceProtection</th>\n",
              "      <th>TechSupport</th>\n",
              "      <th>StreamingTV</th>\n",
              "      <th>StreamingMovies</th>\n",
              "      <th>Contract</th>\n",
              "      <th>PaperlessBilling</th>\n",
              "      <th>PaymentMethod</th>\n",
              "      <th>MonthlyCharges</th>\n",
              "      <th>TotalCharges</th>\n",
              "      <th>ChurnLabel</th>\n",
              "      <th>ChurnValue</th>\n",
              "      <th>ChurnScore</th>\n",
              "      <th>CLTV</th>\n",
              "    </tr>\n",
              "  </thead>\n",
              "  <tbody>\n",
              "    <tr>\n",
              "      <th>2234</th>\n",
              "      <td>Female</td>\n",
              "      <td>No</td>\n",
              "      <td>Yes</td>\n",
              "      <td>No</td>\n",
              "      <td>0</td>\n",
              "      <td>No</td>\n",
              "      <td>No phone service</td>\n",
              "      <td>DSL</td>\n",
              "      <td>Yes</td>\n",
              "      <td>No</td>\n",
              "      <td>Yes</td>\n",
              "      <td>Yes</td>\n",
              "      <td>Yes</td>\n",
              "      <td>No</td>\n",
              "      <td>Two year</td>\n",
              "      <td>Yes</td>\n",
              "      <td>Bank transfer (automatic)</td>\n",
              "      <td>52.55</td>\n",
              "      <td></td>\n",
              "      <td>No</td>\n",
              "      <td>0</td>\n",
              "      <td>36</td>\n",
              "      <td>2578</td>\n",
              "    </tr>\n",
              "    <tr>\n",
              "      <th>2438</th>\n",
              "      <td>Male</td>\n",
              "      <td>No</td>\n",
              "      <td>No</td>\n",
              "      <td>No</td>\n",
              "      <td>0</td>\n",
              "      <td>Yes</td>\n",
              "      <td>No</td>\n",
              "      <td>No</td>\n",
              "      <td>No internet service</td>\n",
              "      <td>No internet service</td>\n",
              "      <td>No internet service</td>\n",
              "      <td>No internet service</td>\n",
              "      <td>No internet service</td>\n",
              "      <td>No internet service</td>\n",
              "      <td>Two year</td>\n",
              "      <td>No</td>\n",
              "      <td>Mailed check</td>\n",
              "      <td>20.25</td>\n",
              "      <td></td>\n",
              "      <td>No</td>\n",
              "      <td>0</td>\n",
              "      <td>68</td>\n",
              "      <td>5504</td>\n",
              "    </tr>\n",
              "    <tr>\n",
              "      <th>2568</th>\n",
              "      <td>Female</td>\n",
              "      <td>No</td>\n",
              "      <td>Yes</td>\n",
              "      <td>No</td>\n",
              "      <td>0</td>\n",
              "      <td>Yes</td>\n",
              "      <td>No</td>\n",
              "      <td>DSL</td>\n",
              "      <td>Yes</td>\n",
              "      <td>Yes</td>\n",
              "      <td>Yes</td>\n",
              "      <td>No</td>\n",
              "      <td>Yes</td>\n",
              "      <td>Yes</td>\n",
              "      <td>Two year</td>\n",
              "      <td>No</td>\n",
              "      <td>Mailed check</td>\n",
              "      <td>80.85</td>\n",
              "      <td></td>\n",
              "      <td>No</td>\n",
              "      <td>0</td>\n",
              "      <td>45</td>\n",
              "      <td>2048</td>\n",
              "    </tr>\n",
              "    <tr>\n",
              "      <th>2667</th>\n",
              "      <td>Male</td>\n",
              "      <td>No</td>\n",
              "      <td>Yes</td>\n",
              "      <td>Yes</td>\n",
              "      <td>0</td>\n",
              "      <td>Yes</td>\n",
              "      <td>Yes</td>\n",
              "      <td>No</td>\n",
              "      <td>No internet service</td>\n",
              "      <td>No internet service</td>\n",
              "      <td>No internet service</td>\n",
              "      <td>No internet service</td>\n",
              "      <td>No internet service</td>\n",
              "      <td>No internet service</td>\n",
              "      <td>Two year</td>\n",
              "      <td>No</td>\n",
              "      <td>Mailed check</td>\n",
              "      <td>25.75</td>\n",
              "      <td></td>\n",
              "      <td>No</td>\n",
              "      <td>0</td>\n",
              "      <td>48</td>\n",
              "      <td>4950</td>\n",
              "    </tr>\n",
              "    <tr>\n",
              "      <th>2856</th>\n",
              "      <td>Female</td>\n",
              "      <td>No</td>\n",
              "      <td>Yes</td>\n",
              "      <td>No</td>\n",
              "      <td>0</td>\n",
              "      <td>No</td>\n",
              "      <td>No phone service</td>\n",
              "      <td>DSL</td>\n",
              "      <td>Yes</td>\n",
              "      <td>Yes</td>\n",
              "      <td>Yes</td>\n",
              "      <td>Yes</td>\n",
              "      <td>Yes</td>\n",
              "      <td>No</td>\n",
              "      <td>Two year</td>\n",
              "      <td>No</td>\n",
              "      <td>Credit card (automatic)</td>\n",
              "      <td>56.05</td>\n",
              "      <td></td>\n",
              "      <td>No</td>\n",
              "      <td>0</td>\n",
              "      <td>30</td>\n",
              "      <td>4740</td>\n",
              "    </tr>\n",
              "    <tr>\n",
              "      <th>4331</th>\n",
              "      <td>Male</td>\n",
              "      <td>No</td>\n",
              "      <td>Yes</td>\n",
              "      <td>Yes</td>\n",
              "      <td>0</td>\n",
              "      <td>Yes</td>\n",
              "      <td>No</td>\n",
              "      <td>No</td>\n",
              "      <td>No internet service</td>\n",
              "      <td>No internet service</td>\n",
              "      <td>No internet service</td>\n",
              "      <td>No internet service</td>\n",
              "      <td>No internet service</td>\n",
              "      <td>No internet service</td>\n",
              "      <td>Two year</td>\n",
              "      <td>No</td>\n",
              "      <td>Mailed check</td>\n",
              "      <td>19.85</td>\n",
              "      <td></td>\n",
              "      <td>No</td>\n",
              "      <td>0</td>\n",
              "      <td>53</td>\n",
              "      <td>2019</td>\n",
              "    </tr>\n",
              "    <tr>\n",
              "      <th>4687</th>\n",
              "      <td>Male</td>\n",
              "      <td>No</td>\n",
              "      <td>Yes</td>\n",
              "      <td>Yes</td>\n",
              "      <td>0</td>\n",
              "      <td>Yes</td>\n",
              "      <td>Yes</td>\n",
              "      <td>No</td>\n",
              "      <td>No internet service</td>\n",
              "      <td>No internet service</td>\n",
              "      <td>No internet service</td>\n",
              "      <td>No internet service</td>\n",
              "      <td>No internet service</td>\n",
              "      <td>No internet service</td>\n",
              "      <td>Two year</td>\n",
              "      <td>No</td>\n",
              "      <td>Mailed check</td>\n",
              "      <td>25.35</td>\n",
              "      <td></td>\n",
              "      <td>No</td>\n",
              "      <td>0</td>\n",
              "      <td>49</td>\n",
              "      <td>2299</td>\n",
              "    </tr>\n",
              "    <tr>\n",
              "      <th>5104</th>\n",
              "      <td>Female</td>\n",
              "      <td>No</td>\n",
              "      <td>Yes</td>\n",
              "      <td>Yes</td>\n",
              "      <td>0</td>\n",
              "      <td>Yes</td>\n",
              "      <td>No</td>\n",
              "      <td>No</td>\n",
              "      <td>No internet service</td>\n",
              "      <td>No internet service</td>\n",
              "      <td>No internet service</td>\n",
              "      <td>No internet service</td>\n",
              "      <td>No internet service</td>\n",
              "      <td>No internet service</td>\n",
              "      <td>Two year</td>\n",
              "      <td>No</td>\n",
              "      <td>Mailed check</td>\n",
              "      <td>20.00</td>\n",
              "      <td></td>\n",
              "      <td>No</td>\n",
              "      <td>0</td>\n",
              "      <td>27</td>\n",
              "      <td>3763</td>\n",
              "    </tr>\n",
              "    <tr>\n",
              "      <th>5719</th>\n",
              "      <td>Male</td>\n",
              "      <td>No</td>\n",
              "      <td>Yes</td>\n",
              "      <td>Yes</td>\n",
              "      <td>0</td>\n",
              "      <td>Yes</td>\n",
              "      <td>No</td>\n",
              "      <td>No</td>\n",
              "      <td>No internet service</td>\n",
              "      <td>No internet service</td>\n",
              "      <td>No internet service</td>\n",
              "      <td>No internet service</td>\n",
              "      <td>No internet service</td>\n",
              "      <td>No internet service</td>\n",
              "      <td>One year</td>\n",
              "      <td>Yes</td>\n",
              "      <td>Mailed check</td>\n",
              "      <td>19.70</td>\n",
              "      <td></td>\n",
              "      <td>No</td>\n",
              "      <td>0</td>\n",
              "      <td>69</td>\n",
              "      <td>4890</td>\n",
              "    </tr>\n",
              "    <tr>\n",
              "      <th>6772</th>\n",
              "      <td>Female</td>\n",
              "      <td>No</td>\n",
              "      <td>Yes</td>\n",
              "      <td>Yes</td>\n",
              "      <td>0</td>\n",
              "      <td>Yes</td>\n",
              "      <td>Yes</td>\n",
              "      <td>DSL</td>\n",
              "      <td>No</td>\n",
              "      <td>Yes</td>\n",
              "      <td>Yes</td>\n",
              "      <td>Yes</td>\n",
              "      <td>Yes</td>\n",
              "      <td>No</td>\n",
              "      <td>Two year</td>\n",
              "      <td>No</td>\n",
              "      <td>Mailed check</td>\n",
              "      <td>73.35</td>\n",
              "      <td></td>\n",
              "      <td>No</td>\n",
              "      <td>0</td>\n",
              "      <td>44</td>\n",
              "      <td>2342</td>\n",
              "    </tr>\n",
              "    <tr>\n",
              "      <th>6840</th>\n",
              "      <td>Male</td>\n",
              "      <td>No</td>\n",
              "      <td>No</td>\n",
              "      <td>Yes</td>\n",
              "      <td>0</td>\n",
              "      <td>Yes</td>\n",
              "      <td>Yes</td>\n",
              "      <td>DSL</td>\n",
              "      <td>Yes</td>\n",
              "      <td>Yes</td>\n",
              "      <td>No</td>\n",
              "      <td>Yes</td>\n",
              "      <td>No</td>\n",
              "      <td>No</td>\n",
              "      <td>Two year</td>\n",
              "      <td>Yes</td>\n",
              "      <td>Bank transfer (automatic)</td>\n",
              "      <td>61.90</td>\n",
              "      <td></td>\n",
              "      <td>No</td>\n",
              "      <td>0</td>\n",
              "      <td>65</td>\n",
              "      <td>5188</td>\n",
              "    </tr>\n",
              "  </tbody>\n",
              "</table>\n",
              "</div>"
            ],
            "text/plain": [
              "      Gender SeniorCitizen Partner  ... ChurnValue  ChurnScore  CLTV\n",
              "2234  Female            No     Yes  ...          0          36  2578\n",
              "2438    Male            No      No  ...          0          68  5504\n",
              "2568  Female            No     Yes  ...          0          45  2048\n",
              "2667    Male            No     Yes  ...          0          48  4950\n",
              "2856  Female            No     Yes  ...          0          30  4740\n",
              "4331    Male            No     Yes  ...          0          53  2019\n",
              "4687    Male            No     Yes  ...          0          49  2299\n",
              "5104  Female            No     Yes  ...          0          27  3763\n",
              "5719    Male            No     Yes  ...          0          69  4890\n",
              "6772  Female            No     Yes  ...          0          44  2342\n",
              "6840    Male            No      No  ...          0          65  5188\n",
              "\n",
              "[11 rows x 23 columns]"
            ]
          },
          "metadata": {
            "tags": []
          },
          "execution_count": 343
        }
      ]
    },
    {
      "cell_type": "code",
      "metadata": {
        "colab": {
          "base_uri": "https://localhost:8080/",
          "height": 35
        },
        "id": "Xp2KC1AcQLJk",
        "outputId": "6063998e-3d76-46e3-d183-43b66072b6b5"
      },
      "source": [
        "df.iloc[2234]['TotalCharges']\n",
        "# df.iloc[2234]"
      ],
      "execution_count": null,
      "outputs": [
        {
          "output_type": "execute_result",
          "data": {
            "application/vnd.google.colaboratory.intrinsic+json": {
              "type": "string"
            },
            "text/plain": [
              "' '"
            ]
          },
          "metadata": {
            "tags": []
          },
          "execution_count": 344
        }
      ]
    },
    {
      "cell_type": "code",
      "metadata": {
        "id": "IBFSBbK_RHHs"
      },
      "source": [
        "df1 = df[df.TotalCharges!=' ']"
      ],
      "execution_count": null,
      "outputs": []
    },
    {
      "cell_type": "code",
      "metadata": {
        "colab": {
          "base_uri": "https://localhost:8080/"
        },
        "id": "c--2o-ZuRzMv",
        "outputId": "8be42ae7-95d1-47f8-e531-46ad5c299c29"
      },
      "source": [
        "df1.shape"
      ],
      "execution_count": null,
      "outputs": [
        {
          "output_type": "execute_result",
          "data": {
            "text/plain": [
              "(7032, 23)"
            ]
          },
          "metadata": {
            "tags": []
          },
          "execution_count": 346
        }
      ]
    },
    {
      "cell_type": "code",
      "metadata": {
        "colab": {
          "base_uri": "https://localhost:8080/"
        },
        "id": "XpMinqvnR4y9",
        "outputId": "ecf4e987-9d35-456a-db1d-f95651c0dc47"
      },
      "source": [
        "df.shape"
      ],
      "execution_count": null,
      "outputs": [
        {
          "output_type": "execute_result",
          "data": {
            "text/plain": [
              "(7043, 23)"
            ]
          },
          "metadata": {
            "tags": []
          },
          "execution_count": 347
        }
      ]
    },
    {
      "cell_type": "code",
      "metadata": {
        "colab": {
          "base_uri": "https://localhost:8080/"
        },
        "id": "i5OeW2ofR65R",
        "outputId": "14cad17f-b5fe-4aa9-c956-712d15419039"
      },
      "source": [
        "df1.dtypes"
      ],
      "execution_count": null,
      "outputs": [
        {
          "output_type": "execute_result",
          "data": {
            "text/plain": [
              "Gender               object\n",
              "SeniorCitizen        object\n",
              "Partner              object\n",
              "Dependents           object\n",
              "TenureMonths          int64\n",
              "PhoneService         object\n",
              "MultipleLines        object\n",
              "InternetService      object\n",
              "OnlineSecurity       object\n",
              "OnlineBackup         object\n",
              "DeviceProtection     object\n",
              "TechSupport          object\n",
              "StreamingTV          object\n",
              "StreamingMovies      object\n",
              "Contract             object\n",
              "PaperlessBilling     object\n",
              "PaymentMethod        object\n",
              "MonthlyCharges      float64\n",
              "TotalCharges         object\n",
              "ChurnLabel           object\n",
              "ChurnValue            int64\n",
              "ChurnScore            int64\n",
              "CLTV                  int64\n",
              "dtype: object"
            ]
          },
          "metadata": {
            "tags": []
          },
          "execution_count": 348
        }
      ]
    },
    {
      "cell_type": "code",
      "metadata": {
        "id": "fMfNWSU_R_ea"
      },
      "source": [
        "df1.TotalCharges = pd.to_numeric(df1.TotalCharges)"
      ],
      "execution_count": null,
      "outputs": []
    },
    {
      "cell_type": "code",
      "metadata": {
        "colab": {
          "base_uri": "https://localhost:8080/"
        },
        "id": "rUiMUjCNSYUN",
        "outputId": "0696918f-bf98-47ea-8949-b3515ea612c6"
      },
      "source": [
        "df1.dtypes"
      ],
      "execution_count": null,
      "outputs": [
        {
          "output_type": "execute_result",
          "data": {
            "text/plain": [
              "Gender               object\n",
              "SeniorCitizen        object\n",
              "Partner              object\n",
              "Dependents           object\n",
              "TenureMonths          int64\n",
              "PhoneService         object\n",
              "MultipleLines        object\n",
              "InternetService      object\n",
              "OnlineSecurity       object\n",
              "OnlineBackup         object\n",
              "DeviceProtection     object\n",
              "TechSupport          object\n",
              "StreamingTV          object\n",
              "StreamingMovies      object\n",
              "Contract             object\n",
              "PaperlessBilling     object\n",
              "PaymentMethod        object\n",
              "MonthlyCharges      float64\n",
              "TotalCharges        float64\n",
              "ChurnLabel           object\n",
              "ChurnValue            int64\n",
              "ChurnScore            int64\n",
              "CLTV                  int64\n",
              "dtype: object"
            ]
          },
          "metadata": {
            "tags": []
          },
          "execution_count": 350
        }
      ]
    },
    {
      "cell_type": "code",
      "metadata": {
        "colab": {
          "base_uri": "https://localhost:8080/",
          "height": 558
        },
        "id": "oIdgjtAISelh",
        "outputId": "bc9f0095-d272-4f1e-c49f-0ed67627096e"
      },
      "source": [
        "df1[df1.ChurnLabel=='No']"
      ],
      "execution_count": null,
      "outputs": [
        {
          "output_type": "execute_result",
          "data": {
            "text/html": [
              "<div>\n",
              "<style scoped>\n",
              "    .dataframe tbody tr th:only-of-type {\n",
              "        vertical-align: middle;\n",
              "    }\n",
              "\n",
              "    .dataframe tbody tr th {\n",
              "        vertical-align: top;\n",
              "    }\n",
              "\n",
              "    .dataframe thead th {\n",
              "        text-align: right;\n",
              "    }\n",
              "</style>\n",
              "<table border=\"1\" class=\"dataframe\">\n",
              "  <thead>\n",
              "    <tr style=\"text-align: right;\">\n",
              "      <th></th>\n",
              "      <th>Gender</th>\n",
              "      <th>SeniorCitizen</th>\n",
              "      <th>Partner</th>\n",
              "      <th>Dependents</th>\n",
              "      <th>TenureMonths</th>\n",
              "      <th>PhoneService</th>\n",
              "      <th>MultipleLines</th>\n",
              "      <th>InternetService</th>\n",
              "      <th>OnlineSecurity</th>\n",
              "      <th>OnlineBackup</th>\n",
              "      <th>DeviceProtection</th>\n",
              "      <th>TechSupport</th>\n",
              "      <th>StreamingTV</th>\n",
              "      <th>StreamingMovies</th>\n",
              "      <th>Contract</th>\n",
              "      <th>PaperlessBilling</th>\n",
              "      <th>PaymentMethod</th>\n",
              "      <th>MonthlyCharges</th>\n",
              "      <th>TotalCharges</th>\n",
              "      <th>ChurnLabel</th>\n",
              "      <th>ChurnValue</th>\n",
              "      <th>ChurnScore</th>\n",
              "      <th>CLTV</th>\n",
              "    </tr>\n",
              "  </thead>\n",
              "  <tbody>\n",
              "    <tr>\n",
              "      <th>1869</th>\n",
              "      <td>Female</td>\n",
              "      <td>No</td>\n",
              "      <td>Yes</td>\n",
              "      <td>No</td>\n",
              "      <td>1</td>\n",
              "      <td>No</td>\n",
              "      <td>No phone service</td>\n",
              "      <td>DSL</td>\n",
              "      <td>No</td>\n",
              "      <td>Yes</td>\n",
              "      <td>No</td>\n",
              "      <td>No</td>\n",
              "      <td>No</td>\n",
              "      <td>No</td>\n",
              "      <td>Month-to-month</td>\n",
              "      <td>Yes</td>\n",
              "      <td>Electronic check</td>\n",
              "      <td>29.85</td>\n",
              "      <td>29.85</td>\n",
              "      <td>No</td>\n",
              "      <td>0</td>\n",
              "      <td>27</td>\n",
              "      <td>3964</td>\n",
              "    </tr>\n",
              "    <tr>\n",
              "      <th>1870</th>\n",
              "      <td>Male</td>\n",
              "      <td>No</td>\n",
              "      <td>No</td>\n",
              "      <td>No</td>\n",
              "      <td>34</td>\n",
              "      <td>Yes</td>\n",
              "      <td>No</td>\n",
              "      <td>DSL</td>\n",
              "      <td>Yes</td>\n",
              "      <td>No</td>\n",
              "      <td>Yes</td>\n",
              "      <td>No</td>\n",
              "      <td>No</td>\n",
              "      <td>No</td>\n",
              "      <td>One year</td>\n",
              "      <td>No</td>\n",
              "      <td>Mailed check</td>\n",
              "      <td>56.95</td>\n",
              "      <td>1889.50</td>\n",
              "      <td>No</td>\n",
              "      <td>0</td>\n",
              "      <td>61</td>\n",
              "      <td>3441</td>\n",
              "    </tr>\n",
              "    <tr>\n",
              "      <th>1871</th>\n",
              "      <td>Male</td>\n",
              "      <td>No</td>\n",
              "      <td>No</td>\n",
              "      <td>No</td>\n",
              "      <td>45</td>\n",
              "      <td>No</td>\n",
              "      <td>No phone service</td>\n",
              "      <td>DSL</td>\n",
              "      <td>Yes</td>\n",
              "      <td>No</td>\n",
              "      <td>Yes</td>\n",
              "      <td>Yes</td>\n",
              "      <td>No</td>\n",
              "      <td>No</td>\n",
              "      <td>One year</td>\n",
              "      <td>No</td>\n",
              "      <td>Bank transfer (automatic)</td>\n",
              "      <td>42.30</td>\n",
              "      <td>1840.75</td>\n",
              "      <td>No</td>\n",
              "      <td>0</td>\n",
              "      <td>66</td>\n",
              "      <td>4307</td>\n",
              "    </tr>\n",
              "    <tr>\n",
              "      <th>1872</th>\n",
              "      <td>Male</td>\n",
              "      <td>No</td>\n",
              "      <td>No</td>\n",
              "      <td>Yes</td>\n",
              "      <td>22</td>\n",
              "      <td>Yes</td>\n",
              "      <td>Yes</td>\n",
              "      <td>Fiber optic</td>\n",
              "      <td>No</td>\n",
              "      <td>Yes</td>\n",
              "      <td>No</td>\n",
              "      <td>No</td>\n",
              "      <td>Yes</td>\n",
              "      <td>No</td>\n",
              "      <td>Month-to-month</td>\n",
              "      <td>Yes</td>\n",
              "      <td>Credit card (automatic)</td>\n",
              "      <td>89.10</td>\n",
              "      <td>1949.40</td>\n",
              "      <td>No</td>\n",
              "      <td>0</td>\n",
              "      <td>43</td>\n",
              "      <td>4459</td>\n",
              "    </tr>\n",
              "    <tr>\n",
              "      <th>1873</th>\n",
              "      <td>Female</td>\n",
              "      <td>No</td>\n",
              "      <td>No</td>\n",
              "      <td>No</td>\n",
              "      <td>10</td>\n",
              "      <td>No</td>\n",
              "      <td>No phone service</td>\n",
              "      <td>DSL</td>\n",
              "      <td>Yes</td>\n",
              "      <td>No</td>\n",
              "      <td>No</td>\n",
              "      <td>No</td>\n",
              "      <td>No</td>\n",
              "      <td>No</td>\n",
              "      <td>Month-to-month</td>\n",
              "      <td>No</td>\n",
              "      <td>Mailed check</td>\n",
              "      <td>29.75</td>\n",
              "      <td>301.90</td>\n",
              "      <td>No</td>\n",
              "      <td>0</td>\n",
              "      <td>51</td>\n",
              "      <td>2013</td>\n",
              "    </tr>\n",
              "    <tr>\n",
              "      <th>...</th>\n",
              "      <td>...</td>\n",
              "      <td>...</td>\n",
              "      <td>...</td>\n",
              "      <td>...</td>\n",
              "      <td>...</td>\n",
              "      <td>...</td>\n",
              "      <td>...</td>\n",
              "      <td>...</td>\n",
              "      <td>...</td>\n",
              "      <td>...</td>\n",
              "      <td>...</td>\n",
              "      <td>...</td>\n",
              "      <td>...</td>\n",
              "      <td>...</td>\n",
              "      <td>...</td>\n",
              "      <td>...</td>\n",
              "      <td>...</td>\n",
              "      <td>...</td>\n",
              "      <td>...</td>\n",
              "      <td>...</td>\n",
              "      <td>...</td>\n",
              "      <td>...</td>\n",
              "      <td>...</td>\n",
              "    </tr>\n",
              "    <tr>\n",
              "      <th>7038</th>\n",
              "      <td>Female</td>\n",
              "      <td>No</td>\n",
              "      <td>No</td>\n",
              "      <td>No</td>\n",
              "      <td>72</td>\n",
              "      <td>Yes</td>\n",
              "      <td>No</td>\n",
              "      <td>No</td>\n",
              "      <td>No internet service</td>\n",
              "      <td>No internet service</td>\n",
              "      <td>No internet service</td>\n",
              "      <td>No internet service</td>\n",
              "      <td>No internet service</td>\n",
              "      <td>No internet service</td>\n",
              "      <td>Two year</td>\n",
              "      <td>Yes</td>\n",
              "      <td>Bank transfer (automatic)</td>\n",
              "      <td>21.15</td>\n",
              "      <td>1419.40</td>\n",
              "      <td>No</td>\n",
              "      <td>0</td>\n",
              "      <td>45</td>\n",
              "      <td>5306</td>\n",
              "    </tr>\n",
              "    <tr>\n",
              "      <th>7039</th>\n",
              "      <td>Male</td>\n",
              "      <td>No</td>\n",
              "      <td>Yes</td>\n",
              "      <td>Yes</td>\n",
              "      <td>24</td>\n",
              "      <td>Yes</td>\n",
              "      <td>Yes</td>\n",
              "      <td>DSL</td>\n",
              "      <td>Yes</td>\n",
              "      <td>No</td>\n",
              "      <td>Yes</td>\n",
              "      <td>Yes</td>\n",
              "      <td>Yes</td>\n",
              "      <td>Yes</td>\n",
              "      <td>One year</td>\n",
              "      <td>Yes</td>\n",
              "      <td>Mailed check</td>\n",
              "      <td>84.80</td>\n",
              "      <td>1990.50</td>\n",
              "      <td>No</td>\n",
              "      <td>0</td>\n",
              "      <td>59</td>\n",
              "      <td>2140</td>\n",
              "    </tr>\n",
              "    <tr>\n",
              "      <th>7040</th>\n",
              "      <td>Female</td>\n",
              "      <td>No</td>\n",
              "      <td>Yes</td>\n",
              "      <td>Yes</td>\n",
              "      <td>72</td>\n",
              "      <td>Yes</td>\n",
              "      <td>Yes</td>\n",
              "      <td>Fiber optic</td>\n",
              "      <td>No</td>\n",
              "      <td>Yes</td>\n",
              "      <td>Yes</td>\n",
              "      <td>No</td>\n",
              "      <td>Yes</td>\n",
              "      <td>Yes</td>\n",
              "      <td>One year</td>\n",
              "      <td>Yes</td>\n",
              "      <td>Credit card (automatic)</td>\n",
              "      <td>103.20</td>\n",
              "      <td>7362.90</td>\n",
              "      <td>No</td>\n",
              "      <td>0</td>\n",
              "      <td>71</td>\n",
              "      <td>5560</td>\n",
              "    </tr>\n",
              "    <tr>\n",
              "      <th>7041</th>\n",
              "      <td>Female</td>\n",
              "      <td>No</td>\n",
              "      <td>Yes</td>\n",
              "      <td>Yes</td>\n",
              "      <td>11</td>\n",
              "      <td>No</td>\n",
              "      <td>No phone service</td>\n",
              "      <td>DSL</td>\n",
              "      <td>Yes</td>\n",
              "      <td>No</td>\n",
              "      <td>No</td>\n",
              "      <td>No</td>\n",
              "      <td>No</td>\n",
              "      <td>No</td>\n",
              "      <td>Month-to-month</td>\n",
              "      <td>Yes</td>\n",
              "      <td>Electronic check</td>\n",
              "      <td>29.60</td>\n",
              "      <td>346.45</td>\n",
              "      <td>No</td>\n",
              "      <td>0</td>\n",
              "      <td>59</td>\n",
              "      <td>2793</td>\n",
              "    </tr>\n",
              "    <tr>\n",
              "      <th>7042</th>\n",
              "      <td>Male</td>\n",
              "      <td>No</td>\n",
              "      <td>No</td>\n",
              "      <td>No</td>\n",
              "      <td>66</td>\n",
              "      <td>Yes</td>\n",
              "      <td>No</td>\n",
              "      <td>Fiber optic</td>\n",
              "      <td>Yes</td>\n",
              "      <td>No</td>\n",
              "      <td>Yes</td>\n",
              "      <td>Yes</td>\n",
              "      <td>Yes</td>\n",
              "      <td>Yes</td>\n",
              "      <td>Two year</td>\n",
              "      <td>Yes</td>\n",
              "      <td>Bank transfer (automatic)</td>\n",
              "      <td>105.65</td>\n",
              "      <td>6844.50</td>\n",
              "      <td>No</td>\n",
              "      <td>0</td>\n",
              "      <td>38</td>\n",
              "      <td>5097</td>\n",
              "    </tr>\n",
              "  </tbody>\n",
              "</table>\n",
              "<p>5163 rows × 23 columns</p>\n",
              "</div>"
            ],
            "text/plain": [
              "      Gender SeniorCitizen Partner  ... ChurnValue  ChurnScore  CLTV\n",
              "1869  Female            No     Yes  ...          0          27  3964\n",
              "1870    Male            No      No  ...          0          61  3441\n",
              "1871    Male            No      No  ...          0          66  4307\n",
              "1872    Male            No      No  ...          0          43  4459\n",
              "1873  Female            No      No  ...          0          51  2013\n",
              "...      ...           ...     ...  ...        ...         ...   ...\n",
              "7038  Female            No      No  ...          0          45  5306\n",
              "7039    Male            No     Yes  ...          0          59  2140\n",
              "7040  Female            No     Yes  ...          0          71  5560\n",
              "7041  Female            No     Yes  ...          0          59  2793\n",
              "7042    Male            No      No  ...          0          38  5097\n",
              "\n",
              "[5163 rows x 23 columns]"
            ]
          },
          "metadata": {
            "tags": []
          },
          "execution_count": 351
        }
      ]
    },
    {
      "cell_type": "code",
      "metadata": {
        "colab": {
          "base_uri": "https://localhost:8080/",
          "height": 312
        },
        "id": "EbTGgvbJbci4",
        "outputId": "68d02876-a351-48fb-ce89-88ecc1d15e57"
      },
      "source": [
        "Tenure_ChurnLabel_No = df1[df1.ChurnLabel=='No'].TenureMonths\n",
        "Tenure_ChurnLabel_yes = df1[df1.ChurnLabel=='Yes'].TenureMonths\n",
        "\n",
        "plt.xlabel('Tenure Months')\n",
        "plt.ylabel('number of customers')\n",
        "plt.title('customer churn table')\n",
        "plt.hist([Tenure_ChurnLabel_yes, Tenure_ChurnLabel_No], color=['blue' ,'red'], label=['Churn= yes', 'churn=no'])\n",
        "plt.legend()"
      ],
      "execution_count": null,
      "outputs": [
        {
          "output_type": "execute_result",
          "data": {
            "text/plain": [
              "<matplotlib.legend.Legend at 0x7fa5230afad0>"
            ]
          },
          "metadata": {
            "tags": []
          },
          "execution_count": 352
        },
        {
          "output_type": "display_data",
          "data": {
            "image/png": "[encoded data removed]",
            "text/plain": [
              "<Figure size 432x288 with 1 Axes>"
            ]
          },
          "metadata": {
            "tags": [],
            "needs_background": "light"
          }
        }
      ]
    },
    {
      "cell_type": "code",
      "metadata": {
        "colab": {
          "base_uri": "https://localhost:8080/",
          "height": 312
        },
        "id": "Yc9WqIb2cTOM",
        "outputId": "81d757fc-e1bb-476d-bd42-54db1edc1b7f"
      },
      "source": [
        "Senior_No = df1[df1.ChurnLabel=='No'].SeniorCitizen\n",
        "Senior_yes = df1[df1.ChurnLabel=='Yes'].SeniorCitizen\n",
        "\n",
        "plt.xlabel('SeniorCitizen')\n",
        "plt.ylabel('number of customers')\n",
        "plt.title('customer churn table')\n",
        "plt.hist([Senior_yes, Senior_No], color=['blue' ,'red'], label=['churn= yes', 'churn =no'])\n",
        "plt.legend()"
      ],
      "execution_count": null,
      "outputs": [
        {
          "output_type": "execute_result",
          "data": {
            "text/plain": [
              "<matplotlib.legend.Legend at 0x7fa518d5ff90>"
            ]
          },
          "metadata": {
            "tags": []
          },
          "execution_count": 353
        },
        {
          "output_type": "display_data",
          "data": {
            "image/png": "[encoded data removed]",
            "text/plain": [
              "<Figure size 432x288 with 1 Axes>"
            ]
          },
          "metadata": {
            "tags": [],
            "needs_background": "light"
          }
        }
      ]
    },
    {
      "cell_type": "code",
      "metadata": {
        "colab": {
          "base_uri": "https://localhost:8080/",
          "height": 312
        },
        "id": "_I4iMX_YgQm3",
        "outputId": "4c2a3779-2181-4b6d-eaff-9b8805f22bff"
      },
      "source": [
        "Senior_No = df1[df1.ChurnLabel=='No'].MonthlyCharges\n",
        "Senior_yes = df1[df1.ChurnLabel=='Yes'].MonthlyCharges\n",
        "\n",
        "plt.xlabel('MonthlyCharges')\n",
        "plt.ylabel('number of customers')\n",
        "plt.title('customer churn table')\n",
        "plt.hist([Senior_yes, Senior_No], color=['blue' ,'red'], label=['churn= yes', 'churn =no'])\n",
        "plt.legend()"
      ],
      "execution_count": null,
      "outputs": [
        {
          "output_type": "execute_result",
          "data": {
            "text/plain": [
              "<matplotlib.legend.Legend at 0x7fa518e8e210>"
            ]
          },
          "metadata": {
            "tags": []
          },
          "execution_count": 354
        },
        {
          "output_type": "display_data",
          "data": {
            "image/png": "[encoded data removed]",
            "text/plain": [
              "<Figure size 432x288 with 1 Axes>"
            ]
          },
          "metadata": {
            "tags": [],
            "needs_background": "light"
          }
        }
      ]
    },
    {
      "cell_type": "code",
      "metadata": {
        "id": "ceqGuPndhOgW"
      },
      "source": [
        "def unique_value(df):\n",
        "  for column in df:\n",
        "    if df[column].dtypes=='object':\n",
        "      print(f'{column} : {df[column].unique()}')"
      ],
      "execution_count": null,
      "outputs": []
    },
    {
      "cell_type": "code",
      "metadata": {
        "colab": {
          "base_uri": "https://localhost:8080/"
        },
        "id": "cOOqstdzi9Eo",
        "outputId": "3a3ed70c-05d1-4aff-ddf9-9d181be48886"
      },
      "source": [
        "unique_value(df1)"
      ],
      "execution_count": null,
      "outputs": [
        {
          "output_type": "stream",
          "text": [
            "Gender : ['Male' 'Female']\n",
            "SeniorCitizen : ['No' 'Yes']\n",
            "Partner : ['No' 'Yes']\n",
            "Dependents : ['No' 'Yes']\n",
            "PhoneService : ['Yes' 'No']\n",
            "MultipleLines : ['No' 'Yes' 'No phone service']\n",
            "InternetService : ['DSL' 'Fiber optic' 'No']\n",
            "OnlineSecurity : ['Yes' 'No' 'No internet service']\n",
            "OnlineBackup : ['Yes' 'No' 'No internet service']\n",
            "DeviceProtection : ['No' 'Yes' 'No internet service']\n",
            "TechSupport : ['No' 'Yes' 'No internet service']\n",
            "StreamingTV : ['No' 'Yes' 'No internet service']\n",
            "StreamingMovies : ['No' 'Yes' 'No internet service']\n",
            "Contract : ['Month-to-month' 'Two year' 'One year']\n",
            "PaperlessBilling : ['Yes' 'No']\n",
            "PaymentMethod : ['Mailed check' 'Electronic check' 'Bank transfer (automatic)'\n",
            " 'Credit card (automatic)']\n",
            "ChurnLabel : ['Yes' 'No']\n"
          ],
          "name": "stdout"
        }
      ]
    },
    {
      "cell_type": "code",
      "metadata": {
        "id": "ZbEhvwy3jdtX"
      },
      "source": [
        "df1.replace('No internet service' , 'No', inplace=True)\n",
        "df1.replace('No phone service' , 'No', inplace=True)"
      ],
      "execution_count": null,
      "outputs": []
    },
    {
      "cell_type": "code",
      "metadata": {
        "colab": {
          "base_uri": "https://localhost:8080/"
        },
        "id": "S4YfUfqkj_ej",
        "outputId": "930f3ea1-1ed4-45ff-abd9-e6eb9df5780b"
      },
      "source": [
        "unique_value(df1)"
      ],
      "execution_count": null,
      "outputs": [
        {
          "output_type": "stream",
          "text": [
            "Gender : ['Male' 'Female']\n",
            "SeniorCitizen : ['No' 'Yes']\n",
            "Partner : ['No' 'Yes']\n",
            "Dependents : ['No' 'Yes']\n",
            "PhoneService : ['Yes' 'No']\n",
            "MultipleLines : ['No' 'Yes']\n",
            "InternetService : ['DSL' 'Fiber optic' 'No']\n",
            "OnlineSecurity : ['Yes' 'No']\n",
            "OnlineBackup : ['Yes' 'No']\n",
            "DeviceProtection : ['No' 'Yes']\n",
            "TechSupport : ['No' 'Yes']\n",
            "StreamingTV : ['No' 'Yes']\n",
            "StreamingMovies : ['No' 'Yes']\n",
            "Contract : ['Month-to-month' 'Two year' 'One year']\n",
            "PaperlessBilling : ['Yes' 'No']\n",
            "PaymentMethod : ['Mailed check' 'Electronic check' 'Bank transfer (automatic)'\n",
            " 'Credit card (automatic)']\n",
            "ChurnLabel : ['Yes' 'No']\n"
          ],
          "name": "stdout"
        }
      ]
    },
    {
      "cell_type": "code",
      "metadata": {
        "id": "QoeHCNt_npcl"
      },
      "source": [
        "from sklearn.preprocessing import LabelEncoder\n",
        "encodeur = LabelEncoder()\n",
        "for col in df1.columns:\n",
        "     if col in ['SeniorCitizen', 'Partner', 'Dependents', 'PhoneService', 'PaperlessBilling','MultipleLines','OnlineSecurity',\n",
        "                'OnlineBackup','DeviceProtection' , 'TechSupport', 'StreamingTV', 'StreamingMovies', 'StreamingTV', 'ChurnLabel', 'Gender']:\n",
        "        df1[col] = encodeur.fit_transform(df1[col])"
      ],
      "execution_count": null,
      "outputs": []
    },
    {
      "cell_type": "code",
      "metadata": {
        "colab": {
          "base_uri": "https://localhost:8080/"
        },
        "id": "aGohRRSzpOnq",
        "outputId": "6aa6cdca-c1b0-4cd8-e813-5bb2d5e1e90f"
      },
      "source": [
        "for col in df1:\n",
        "  print(f'{col}: {df1[col].unique()}')"
      ],
      "execution_count": null,
      "outputs": [
        {
          "output_type": "stream",
          "text": [
            "Gender: [1 0]\n",
            "SeniorCitizen: [0 1]\n",
            "Partner: [0 1]\n",
            "Dependents: [0 1]\n",
            "TenureMonths: [ 2  8 28 49 10  1 47 17  5 34 11 15 18  9  7 12 25 68 55 37  3 27 20  4\n",
            " 58 53 13  6 19 59 16 52 24 32 38 54 43 63 21 69 22 61 60 48 40 23 39 35\n",
            " 56 65 33 30 45 46 62 70 50 44 71 26 14 41 66 64 29 42 67 51 31 57 36 72]\n",
            "PhoneService: [1 0]\n",
            "MultipleLines: [0 1]\n",
            "InternetService: ['DSL' 'Fiber optic' 'No']\n",
            "OnlineSecurity: [1 0]\n",
            "OnlineBackup: [1 0]\n",
            "DeviceProtection: [0 1]\n",
            "TechSupport: [0 1]\n",
            "StreamingTV: [0 1]\n",
            "StreamingMovies: [0 1]\n",
            "Contract: ['Month-to-month' 'Two year' 'One year']\n",
            "PaperlessBilling: [1 0]\n",
            "PaymentMethod: ['Mailed check' 'Electronic check' 'Bank transfer (automatic)'\n",
            " 'Credit card (automatic)']\n",
            "MonthlyCharges: [ 53.85  70.7   99.65 ... 108.35  63.1   78.7 ]\n",
            "TotalCharges: [ 108.15  151.65  820.5  ... 7362.9   346.45 6844.5 ]\n",
            "ChurnLabel: [1 0]\n",
            "ChurnValue: [1 0]\n",
            "ChurnScore: [ 86  67  84  89  78 100  92  77  97  74  66  65  70  90  82  69  81  96\n",
            "  87  88  75  76  95  99  80  73  94  83  98  71  85  68  91  93  72  79\n",
            "  27  61  43  51  58  39  35  57  53  21  38  40  41  22  25  64  49  62\n",
            "  52  59  29  33  20  30  26  54  56  55  28  37   9  60  24  63  23  47\n",
            "  32   8  46  42  48  36  34   7  50  44  31   5  45]\n",
            "CLTV: [3239 2701 5372 ... 2770 4645 5553]\n"
          ],
          "name": "stdout"
        }
      ]
    },
    {
      "cell_type": "code",
      "metadata": {
        "colab": {
          "base_uri": "https://localhost:8080/",
          "height": 592
        },
        "id": "Di-eRIuPqQ7E",
        "outputId": "6e4cec6e-bf64-437b-ea5a-38def88027b5"
      },
      "source": [
        "pd.get_dummies(data=df1, columns=['InternetService'])"
      ],
      "execution_count": null,
      "outputs": [
        {
          "output_type": "execute_result",
          "data": {
            "text/html": [
              "<div>\n",
              "<style scoped>\n",
              "    .dataframe tbody tr th:only-of-type {\n",
              "        vertical-align: middle;\n",
              "    }\n",
              "\n",
              "    .dataframe tbody tr th {\n",
              "        vertical-align: top;\n",
              "    }\n",
              "\n",
              "    .dataframe thead th {\n",
              "        text-align: right;\n",
              "    }\n",
              "</style>\n",
              "<table border=\"1\" class=\"dataframe\">\n",
              "  <thead>\n",
              "    <tr style=\"text-align: right;\">\n",
              "      <th></th>\n",
              "      <th>Gender</th>\n",
              "      <th>SeniorCitizen</th>\n",
              "      <th>Partner</th>\n",
              "      <th>Dependents</th>\n",
              "      <th>TenureMonths</th>\n",
              "      <th>PhoneService</th>\n",
              "      <th>MultipleLines</th>\n",
              "      <th>OnlineSecurity</th>\n",
              "      <th>OnlineBackup</th>\n",
              "      <th>DeviceProtection</th>\n",
              "      <th>TechSupport</th>\n",
              "      <th>StreamingTV</th>\n",
              "      <th>StreamingMovies</th>\n",
              "      <th>Contract</th>\n",
              "      <th>PaperlessBilling</th>\n",
              "      <th>PaymentMethod</th>\n",
              "      <th>MonthlyCharges</th>\n",
              "      <th>TotalCharges</th>\n",
              "      <th>ChurnLabel</th>\n",
              "      <th>ChurnValue</th>\n",
              "      <th>ChurnScore</th>\n",
              "      <th>CLTV</th>\n",
              "      <th>InternetService_DSL</th>\n",
              "      <th>InternetService_Fiber optic</th>\n",
              "      <th>InternetService_No</th>\n",
              "    </tr>\n",
              "  </thead>\n",
              "  <tbody>\n",
              "    <tr>\n",
              "      <th>0</th>\n",
              "      <td>1</td>\n",
              "      <td>0</td>\n",
              "      <td>0</td>\n",
              "      <td>0</td>\n",
              "      <td>2</td>\n",
              "      <td>1</td>\n",
              "      <td>0</td>\n",
              "      <td>1</td>\n",
              "      <td>1</td>\n",
              "      <td>0</td>\n",
              "      <td>0</td>\n",
              "      <td>0</td>\n",
              "      <td>0</td>\n",
              "      <td>Month-to-month</td>\n",
              "      <td>1</td>\n",
              "      <td>Mailed check</td>\n",
              "      <td>53.85</td>\n",
              "      <td>108.15</td>\n",
              "      <td>1</td>\n",
              "      <td>1</td>\n",
              "      <td>86</td>\n",
              "      <td>3239</td>\n",
              "      <td>1</td>\n",
              "      <td>0</td>\n",
              "      <td>0</td>\n",
              "    </tr>\n",
              "    <tr>\n",
              "      <th>1</th>\n",
              "      <td>0</td>\n",
              "      <td>0</td>\n",
              "      <td>0</td>\n",
              "      <td>1</td>\n",
              "      <td>2</td>\n",
              "      <td>1</td>\n",
              "      <td>0</td>\n",
              "      <td>0</td>\n",
              "      <td>0</td>\n",
              "      <td>0</td>\n",
              "      <td>0</td>\n",
              "      <td>0</td>\n",
              "      <td>0</td>\n",
              "      <td>Month-to-month</td>\n",
              "      <td>1</td>\n",
              "      <td>Electronic check</td>\n",
              "      <td>70.70</td>\n",
              "      <td>151.65</td>\n",
              "      <td>1</td>\n",
              "      <td>1</td>\n",
              "      <td>67</td>\n",
              "      <td>2701</td>\n",
              "      <td>0</td>\n",
              "      <td>1</td>\n",
              "      <td>0</td>\n",
              "    </tr>\n",
              "    <tr>\n",
              "      <th>2</th>\n",
              "      <td>0</td>\n",
              "      <td>0</td>\n",
              "      <td>0</td>\n",
              "      <td>1</td>\n",
              "      <td>8</td>\n",
              "      <td>1</td>\n",
              "      <td>1</td>\n",
              "      <td>0</td>\n",
              "      <td>0</td>\n",
              "      <td>1</td>\n",
              "      <td>0</td>\n",
              "      <td>1</td>\n",
              "      <td>1</td>\n",
              "      <td>Month-to-month</td>\n",
              "      <td>1</td>\n",
              "      <td>Electronic check</td>\n",
              "      <td>99.65</td>\n",
              "      <td>820.50</td>\n",
              "      <td>1</td>\n",
              "      <td>1</td>\n",
              "      <td>86</td>\n",
              "      <td>5372</td>\n",
              "      <td>0</td>\n",
              "      <td>1</td>\n",
              "      <td>0</td>\n",
              "    </tr>\n",
              "    <tr>\n",
              "      <th>3</th>\n",
              "      <td>0</td>\n",
              "      <td>0</td>\n",
              "      <td>1</td>\n",
              "      <td>1</td>\n",
              "      <td>28</td>\n",
              "      <td>1</td>\n",
              "      <td>1</td>\n",
              "      <td>0</td>\n",
              "      <td>0</td>\n",
              "      <td>1</td>\n",
              "      <td>1</td>\n",
              "      <td>1</td>\n",
              "      <td>1</td>\n",
              "      <td>Month-to-month</td>\n",
              "      <td>1</td>\n",
              "      <td>Electronic check</td>\n",
              "      <td>104.80</td>\n",
              "      <td>3046.05</td>\n",
              "      <td>1</td>\n",
              "      <td>1</td>\n",
              "      <td>84</td>\n",
              "      <td>5003</td>\n",
              "      <td>0</td>\n",
              "      <td>1</td>\n",
              "      <td>0</td>\n",
              "    </tr>\n",
              "    <tr>\n",
              "      <th>4</th>\n",
              "      <td>1</td>\n",
              "      <td>0</td>\n",
              "      <td>0</td>\n",
              "      <td>1</td>\n",
              "      <td>49</td>\n",
              "      <td>1</td>\n",
              "      <td>1</td>\n",
              "      <td>0</td>\n",
              "      <td>1</td>\n",
              "      <td>1</td>\n",
              "      <td>0</td>\n",
              "      <td>1</td>\n",
              "      <td>1</td>\n",
              "      <td>Month-to-month</td>\n",
              "      <td>1</td>\n",
              "      <td>Bank transfer (automatic)</td>\n",
              "      <td>103.70</td>\n",
              "      <td>5036.30</td>\n",
              "      <td>1</td>\n",
              "      <td>1</td>\n",
              "      <td>89</td>\n",
              "      <td>5340</td>\n",
              "      <td>0</td>\n",
              "      <td>1</td>\n",
              "      <td>0</td>\n",
              "    </tr>\n",
              "    <tr>\n",
              "      <th>...</th>\n",
              "      <td>...</td>\n",
              "      <td>...</td>\n",
              "      <td>...</td>\n",
              "      <td>...</td>\n",
              "      <td>...</td>\n",
              "      <td>...</td>\n",
              "      <td>...</td>\n",
              "      <td>...</td>\n",
              "      <td>...</td>\n",
              "      <td>...</td>\n",
              "      <td>...</td>\n",
              "      <td>...</td>\n",
              "      <td>...</td>\n",
              "      <td>...</td>\n",
              "      <td>...</td>\n",
              "      <td>...</td>\n",
              "      <td>...</td>\n",
              "      <td>...</td>\n",
              "      <td>...</td>\n",
              "      <td>...</td>\n",
              "      <td>...</td>\n",
              "      <td>...</td>\n",
              "      <td>...</td>\n",
              "      <td>...</td>\n",
              "      <td>...</td>\n",
              "    </tr>\n",
              "    <tr>\n",
              "      <th>7038</th>\n",
              "      <td>0</td>\n",
              "      <td>0</td>\n",
              "      <td>0</td>\n",
              "      <td>0</td>\n",
              "      <td>72</td>\n",
              "      <td>1</td>\n",
              "      <td>0</td>\n",
              "      <td>0</td>\n",
              "      <td>0</td>\n",
              "      <td>0</td>\n",
              "      <td>0</td>\n",
              "      <td>0</td>\n",
              "      <td>0</td>\n",
              "      <td>Two year</td>\n",
              "      <td>1</td>\n",
              "      <td>Bank transfer (automatic)</td>\n",
              "      <td>21.15</td>\n",
              "      <td>1419.40</td>\n",
              "      <td>0</td>\n",
              "      <td>0</td>\n",
              "      <td>45</td>\n",
              "      <td>5306</td>\n",
              "      <td>0</td>\n",
              "      <td>0</td>\n",
              "      <td>1</td>\n",
              "    </tr>\n",
              "    <tr>\n",
              "      <th>7039</th>\n",
              "      <td>1</td>\n",
              "      <td>0</td>\n",
              "      <td>1</td>\n",
              "      <td>1</td>\n",
              "      <td>24</td>\n",
              "      <td>1</td>\n",
              "      <td>1</td>\n",
              "      <td>1</td>\n",
              "      <td>0</td>\n",
              "      <td>1</td>\n",
              "      <td>1</td>\n",
              "      <td>1</td>\n",
              "      <td>1</td>\n",
              "      <td>One year</td>\n",
              "      <td>1</td>\n",
              "      <td>Mailed check</td>\n",
              "      <td>84.80</td>\n",
              "      <td>1990.50</td>\n",
              "      <td>0</td>\n",
              "      <td>0</td>\n",
              "      <td>59</td>\n",
              "      <td>2140</td>\n",
              "      <td>1</td>\n",
              "      <td>0</td>\n",
              "      <td>0</td>\n",
              "    </tr>\n",
              "    <tr>\n",
              "      <th>7040</th>\n",
              "      <td>0</td>\n",
              "      <td>0</td>\n",
              "      <td>1</td>\n",
              "      <td>1</td>\n",
              "      <td>72</td>\n",
              "      <td>1</td>\n",
              "      <td>1</td>\n",
              "      <td>0</td>\n",
              "      <td>1</td>\n",
              "      <td>1</td>\n",
              "      <td>0</td>\n",
              "      <td>1</td>\n",
              "      <td>1</td>\n",
              "      <td>One year</td>\n",
              "      <td>1</td>\n",
              "      <td>Credit card (automatic)</td>\n",
              "      <td>103.20</td>\n",
              "      <td>7362.90</td>\n",
              "      <td>0</td>\n",
              "      <td>0</td>\n",
              "      <td>71</td>\n",
              "      <td>5560</td>\n",
              "      <td>0</td>\n",
              "      <td>1</td>\n",
              "      <td>0</td>\n",
              "    </tr>\n",
              "    <tr>\n",
              "      <th>7041</th>\n",
              "      <td>0</td>\n",
              "      <td>0</td>\n",
              "      <td>1</td>\n",
              "      <td>1</td>\n",
              "      <td>11</td>\n",
              "      <td>0</td>\n",
              "      <td>0</td>\n",
              "      <td>1</td>\n",
              "      <td>0</td>\n",
              "      <td>0</td>\n",
              "      <td>0</td>\n",
              "      <td>0</td>\n",
              "      <td>0</td>\n",
              "      <td>Month-to-month</td>\n",
              "      <td>1</td>\n",
              "      <td>Electronic check</td>\n",
              "      <td>29.60</td>\n",
              "      <td>346.45</td>\n",
              "      <td>0</td>\n",
              "      <td>0</td>\n",
              "      <td>59</td>\n",
              "      <td>2793</td>\n",
              "      <td>1</td>\n",
              "      <td>0</td>\n",
              "      <td>0</td>\n",
              "    </tr>\n",
              "    <tr>\n",
              "      <th>7042</th>\n",
              "      <td>1</td>\n",
              "      <td>0</td>\n",
              "      <td>0</td>\n",
              "      <td>0</td>\n",
              "      <td>66</td>\n",
              "      <td>1</td>\n",
              "      <td>0</td>\n",
              "      <td>1</td>\n",
              "      <td>0</td>\n",
              "      <td>1</td>\n",
              "      <td>1</td>\n",
              "      <td>1</td>\n",
              "      <td>1</td>\n",
              "      <td>Two year</td>\n",
              "      <td>1</td>\n",
              "      <td>Bank transfer (automatic)</td>\n",
              "      <td>105.65</td>\n",
              "      <td>6844.50</td>\n",
              "      <td>0</td>\n",
              "      <td>0</td>\n",
              "      <td>38</td>\n",
              "      <td>5097</td>\n",
              "      <td>0</td>\n",
              "      <td>1</td>\n",
              "      <td>0</td>\n",
              "    </tr>\n",
              "  </tbody>\n",
              "</table>\n",
              "<p>7032 rows × 25 columns</p>\n",
              "</div>"
            ],
            "text/plain": [
              "      Gender  SeniorCitizen  ...  InternetService_Fiber optic  InternetService_No\n",
              "0          1              0  ...                            0                   0\n",
              "1          0              0  ...                            1                   0\n",
              "2          0              0  ...                            1                   0\n",
              "3          0              0  ...                            1                   0\n",
              "4          1              0  ...                            1                   0\n",
              "...      ...            ...  ...                          ...                 ...\n",
              "7038       0              0  ...                            0                   1\n",
              "7039       1              0  ...                            0                   0\n",
              "7040       0              0  ...                            1                   0\n",
              "7041       0              0  ...                            0                   0\n",
              "7042       1              0  ...                            1                   0\n",
              "\n",
              "[7032 rows x 25 columns]"
            ]
          },
          "metadata": {
            "tags": []
          },
          "execution_count": 361
        }
      ]
    },
    {
      "cell_type": "code",
      "metadata": {
        "colab": {
          "base_uri": "https://localhost:8080/"
        },
        "id": "oI0dYl-A10NZ",
        "outputId": "7014676d-aeb8-4866-d6af-efc31a8342c2"
      },
      "source": [
        "df2 = pd.get_dummies(data=df1, columns=['InternetService', 'Contract', 'PaymentMethod'])\n",
        "df2.columns"
      ],
      "execution_count": null,
      "outputs": [
        {
          "output_type": "execute_result",
          "data": {
            "text/plain": [
              "Index(['Gender', 'SeniorCitizen', 'Partner', 'Dependents', 'TenureMonths',\n",
              "       'PhoneService', 'MultipleLines', 'OnlineSecurity', 'OnlineBackup',\n",
              "       'DeviceProtection', 'TechSupport', 'StreamingTV', 'StreamingMovies',\n",
              "       'PaperlessBilling', 'MonthlyCharges', 'TotalCharges', 'ChurnLabel',\n",
              "       'ChurnValue', 'ChurnScore', 'CLTV', 'InternetService_DSL',\n",
              "       'InternetService_Fiber optic', 'InternetService_No',\n",
              "       'Contract_Month-to-month', 'Contract_One year', 'Contract_Two year',\n",
              "       'PaymentMethod_Bank transfer (automatic)',\n",
              "       'PaymentMethod_Credit card (automatic)',\n",
              "       'PaymentMethod_Electronic check', 'PaymentMethod_Mailed check'],\n",
              "      dtype='object')"
            ]
          },
          "metadata": {
            "tags": []
          },
          "execution_count": 362
        }
      ]
    },
    {
      "cell_type": "code",
      "metadata": {
        "colab": {
          "base_uri": "https://localhost:8080/",
          "height": 220
        },
        "id": "3rBaMYqu2RPO",
        "outputId": "150dc971-e3a9-44ba-8abe-d32628d23048"
      },
      "source": [
        "df2.sample(4)"
      ],
      "execution_count": null,
      "outputs": [
        {
          "output_type": "execute_result",
          "data": {
            "text/html": [
              "<div>\n",
              "<style scoped>\n",
              "    .dataframe tbody tr th:only-of-type {\n",
              "        vertical-align: middle;\n",
              "    }\n",
              "\n",
              "    .dataframe tbody tr th {\n",
              "        vertical-align: top;\n",
              "    }\n",
              "\n",
              "    .dataframe thead th {\n",
              "        text-align: right;\n",
              "    }\n",
              "</style>\n",
              "<table border=\"1\" class=\"dataframe\">\n",
              "  <thead>\n",
              "    <tr style=\"text-align: right;\">\n",
              "      <th></th>\n",
              "      <th>Gender</th>\n",
              "      <th>SeniorCitizen</th>\n",
              "      <th>Partner</th>\n",
              "      <th>Dependents</th>\n",
              "      <th>TenureMonths</th>\n",
              "      <th>PhoneService</th>\n",
              "      <th>MultipleLines</th>\n",
              "      <th>OnlineSecurity</th>\n",
              "      <th>OnlineBackup</th>\n",
              "      <th>DeviceProtection</th>\n",
              "      <th>TechSupport</th>\n",
              "      <th>StreamingTV</th>\n",
              "      <th>StreamingMovies</th>\n",
              "      <th>PaperlessBilling</th>\n",
              "      <th>MonthlyCharges</th>\n",
              "      <th>TotalCharges</th>\n",
              "      <th>ChurnLabel</th>\n",
              "      <th>ChurnValue</th>\n",
              "      <th>ChurnScore</th>\n",
              "      <th>CLTV</th>\n",
              "      <th>InternetService_DSL</th>\n",
              "      <th>InternetService_Fiber optic</th>\n",
              "      <th>InternetService_No</th>\n",
              "      <th>Contract_Month-to-month</th>\n",
              "      <th>Contract_One year</th>\n",
              "      <th>Contract_Two year</th>\n",
              "      <th>PaymentMethod_Bank transfer (automatic)</th>\n",
              "      <th>PaymentMethod_Credit card (automatic)</th>\n",
              "      <th>PaymentMethod_Electronic check</th>\n",
              "      <th>PaymentMethod_Mailed check</th>\n",
              "    </tr>\n",
              "  </thead>\n",
              "  <tbody>\n",
              "    <tr>\n",
              "      <th>1925</th>\n",
              "      <td>0</td>\n",
              "      <td>1</td>\n",
              "      <td>0</td>\n",
              "      <td>0</td>\n",
              "      <td>56</td>\n",
              "      <td>1</td>\n",
              "      <td>1</td>\n",
              "      <td>1</td>\n",
              "      <td>1</td>\n",
              "      <td>1</td>\n",
              "      <td>0</td>\n",
              "      <td>1</td>\n",
              "      <td>1</td>\n",
              "      <td>0</td>\n",
              "      <td>110.50</td>\n",
              "      <td>6139.50</td>\n",
              "      <td>0</td>\n",
              "      <td>0</td>\n",
              "      <td>21</td>\n",
              "      <td>4463</td>\n",
              "      <td>0</td>\n",
              "      <td>1</td>\n",
              "      <td>0</td>\n",
              "      <td>0</td>\n",
              "      <td>1</td>\n",
              "      <td>0</td>\n",
              "      <td>0</td>\n",
              "      <td>0</td>\n",
              "      <td>1</td>\n",
              "      <td>0</td>\n",
              "    </tr>\n",
              "    <tr>\n",
              "      <th>5467</th>\n",
              "      <td>0</td>\n",
              "      <td>0</td>\n",
              "      <td>1</td>\n",
              "      <td>0</td>\n",
              "      <td>72</td>\n",
              "      <td>1</td>\n",
              "      <td>1</td>\n",
              "      <td>1</td>\n",
              "      <td>0</td>\n",
              "      <td>1</td>\n",
              "      <td>1</td>\n",
              "      <td>1</td>\n",
              "      <td>1</td>\n",
              "      <td>1</td>\n",
              "      <td>84.90</td>\n",
              "      <td>6065.30</td>\n",
              "      <td>0</td>\n",
              "      <td>0</td>\n",
              "      <td>65</td>\n",
              "      <td>4447</td>\n",
              "      <td>1</td>\n",
              "      <td>0</td>\n",
              "      <td>0</td>\n",
              "      <td>0</td>\n",
              "      <td>0</td>\n",
              "      <td>1</td>\n",
              "      <td>1</td>\n",
              "      <td>0</td>\n",
              "      <td>0</td>\n",
              "      <td>0</td>\n",
              "    </tr>\n",
              "    <tr>\n",
              "      <th>5885</th>\n",
              "      <td>0</td>\n",
              "      <td>0</td>\n",
              "      <td>0</td>\n",
              "      <td>0</td>\n",
              "      <td>3</td>\n",
              "      <td>1</td>\n",
              "      <td>0</td>\n",
              "      <td>0</td>\n",
              "      <td>0</td>\n",
              "      <td>0</td>\n",
              "      <td>0</td>\n",
              "      <td>0</td>\n",
              "      <td>0</td>\n",
              "      <td>0</td>\n",
              "      <td>44.75</td>\n",
              "      <td>148.05</td>\n",
              "      <td>0</td>\n",
              "      <td>0</td>\n",
              "      <td>20</td>\n",
              "      <td>3422</td>\n",
              "      <td>1</td>\n",
              "      <td>0</td>\n",
              "      <td>0</td>\n",
              "      <td>1</td>\n",
              "      <td>0</td>\n",
              "      <td>0</td>\n",
              "      <td>0</td>\n",
              "      <td>0</td>\n",
              "      <td>0</td>\n",
              "      <td>1</td>\n",
              "    </tr>\n",
              "    <tr>\n",
              "      <th>4323</th>\n",
              "      <td>1</td>\n",
              "      <td>0</td>\n",
              "      <td>1</td>\n",
              "      <td>0</td>\n",
              "      <td>63</td>\n",
              "      <td>1</td>\n",
              "      <td>0</td>\n",
              "      <td>1</td>\n",
              "      <td>1</td>\n",
              "      <td>0</td>\n",
              "      <td>1</td>\n",
              "      <td>1</td>\n",
              "      <td>0</td>\n",
              "      <td>0</td>\n",
              "      <td>70.80</td>\n",
              "      <td>4448.80</td>\n",
              "      <td>0</td>\n",
              "      <td>0</td>\n",
              "      <td>44</td>\n",
              "      <td>5114</td>\n",
              "      <td>1</td>\n",
              "      <td>0</td>\n",
              "      <td>0</td>\n",
              "      <td>0</td>\n",
              "      <td>1</td>\n",
              "      <td>0</td>\n",
              "      <td>0</td>\n",
              "      <td>1</td>\n",
              "      <td>0</td>\n",
              "      <td>0</td>\n",
              "    </tr>\n",
              "  </tbody>\n",
              "</table>\n",
              "</div>"
            ],
            "text/plain": [
              "      Gender  ...  PaymentMethod_Mailed check\n",
              "1925       0  ...                           0\n",
              "5467       0  ...                           0\n",
              "5885       0  ...                           1\n",
              "4323       1  ...                           0\n",
              "\n",
              "[4 rows x 30 columns]"
            ]
          },
          "metadata": {
            "tags": []
          },
          "execution_count": 363
        }
      ]
    },
    {
      "cell_type": "code",
      "metadata": {
        "colab": {
          "base_uri": "https://localhost:8080/"
        },
        "id": "Q3zPcSg82X3n",
        "outputId": "b0d43a1d-3b9c-48c7-ec66-e6ce802572ac"
      },
      "source": [
        "df2.dtypes"
      ],
      "execution_count": null,
      "outputs": [
        {
          "output_type": "execute_result",
          "data": {
            "text/plain": [
              "Gender                                       int64\n",
              "SeniorCitizen                                int64\n",
              "Partner                                      int64\n",
              "Dependents                                   int64\n",
              "TenureMonths                                 int64\n",
              "PhoneService                                 int64\n",
              "MultipleLines                                int64\n",
              "OnlineSecurity                               int64\n",
              "OnlineBackup                                 int64\n",
              "DeviceProtection                             int64\n",
              "TechSupport                                  int64\n",
              "StreamingTV                                  int64\n",
              "StreamingMovies                              int64\n",
              "PaperlessBilling                             int64\n",
              "MonthlyCharges                             float64\n",
              "TotalCharges                               float64\n",
              "ChurnLabel                                   int64\n",
              "ChurnValue                                   int64\n",
              "ChurnScore                                   int64\n",
              "CLTV                                         int64\n",
              "InternetService_DSL                          uint8\n",
              "InternetService_Fiber optic                  uint8\n",
              "InternetService_No                           uint8\n",
              "Contract_Month-to-month                      uint8\n",
              "Contract_One year                            uint8\n",
              "Contract_Two year                            uint8\n",
              "PaymentMethod_Bank transfer (automatic)      uint8\n",
              "PaymentMethod_Credit card (automatic)        uint8\n",
              "PaymentMethod_Electronic check               uint8\n",
              "PaymentMethod_Mailed check                   uint8\n",
              "dtype: object"
            ]
          },
          "metadata": {
            "tags": []
          },
          "execution_count": 364
        }
      ]
    },
    {
      "cell_type": "markdown",
      "metadata": {
        "id": "BYDHP2GaEJeV"
      },
      "source": [
        "### Feature Sclaing"
      ]
    },
    {
      "cell_type": "code",
      "metadata": {
        "id": "JC91CkmJ2oGH"
      },
      "source": [
        "# feature scaling\n",
        "cols_to_scale = ['TenureMonths', 'MonthlyCharges', 'TotalCharges', 'ChurnScore', 'CLTV']\n",
        "\n",
        "from sklearn.preprocessing import MinMaxScaler\n",
        "scaler = MinMaxScaler()\n",
        "\n",
        "df2[cols_to_scale] = scaler.fit_transform(df2[cols_to_scale])"
      ],
      "execution_count": null,
      "outputs": []
    },
    {
      "cell_type": "code",
      "metadata": {
        "colab": {
          "base_uri": "https://localhost:8080/"
        },
        "id": "wNqRcA_W4Jbr",
        "outputId": "b3f41098-325b-43b9-f28f-8e4ae6405356"
      },
      "source": [
        "df2.sample(4)"
      ],
      "execution_count": null,
      "outputs": [
        {
          "output_type": "execute_result",
          "data": {
            "text/html": [
              "<div>\n",
              "<style scoped>\n",
              "    .dataframe tbody tr th:only-of-type {\n",
              "        vertical-align: middle;\n",
              "    }\n",
              "\n",
              "    .dataframe tbody tr th {\n",
              "        vertical-align: top;\n",
              "    }\n",
              "\n",
              "    .dataframe thead th {\n",
              "        text-align: right;\n",
              "    }\n",
              "</style>\n",
              "<table border=\"1\" class=\"dataframe\">\n",
              "  <thead>\n",
              "    <tr style=\"text-align: right;\">\n",
              "      <th></th>\n",
              "      <th>Gender</th>\n",
              "      <th>SeniorCitizen</th>\n",
              "      <th>Partner</th>\n",
              "      <th>Dependents</th>\n",
              "      <th>TenureMonths</th>\n",
              "      <th>PhoneService</th>\n",
              "      <th>MultipleLines</th>\n",
              "      <th>OnlineSecurity</th>\n",
              "      <th>OnlineBackup</th>\n",
              "      <th>DeviceProtection</th>\n",
              "      <th>TechSupport</th>\n",
              "      <th>StreamingTV</th>\n",
              "      <th>StreamingMovies</th>\n",
              "      <th>PaperlessBilling</th>\n",
              "      <th>MonthlyCharges</th>\n",
              "      <th>TotalCharges</th>\n",
              "      <th>ChurnLabel</th>\n",
              "      <th>ChurnValue</th>\n",
              "      <th>ChurnScore</th>\n",
              "      <th>CLTV</th>\n",
              "      <th>InternetService_DSL</th>\n",
              "      <th>InternetService_Fiber optic</th>\n",
              "      <th>InternetService_No</th>\n",
              "      <th>Contract_Month-to-month</th>\n",
              "      <th>Contract_One year</th>\n",
              "      <th>Contract_Two year</th>\n",
              "      <th>PaymentMethod_Bank transfer (automatic)</th>\n",
              "      <th>PaymentMethod_Credit card (automatic)</th>\n",
              "      <th>PaymentMethod_Electronic check</th>\n",
              "      <th>PaymentMethod_Mailed check</th>\n",
              "    </tr>\n",
              "  </thead>\n",
              "  <tbody>\n",
              "    <tr>\n",
              "      <th>581</th>\n",
              "      <td>1</td>\n",
              "      <td>0</td>\n",
              "      <td>1</td>\n",
              "      <td>0</td>\n",
              "      <td>0.929577</td>\n",
              "      <td>1</td>\n",
              "      <td>1</td>\n",
              "      <td>1</td>\n",
              "      <td>1</td>\n",
              "      <td>1</td>\n",
              "      <td>0</td>\n",
              "      <td>1</td>\n",
              "      <td>1</td>\n",
              "      <td>1</td>\n",
              "      <td>0.925871</td>\n",
              "      <td>0.861216</td>\n",
              "      <td>1</td>\n",
              "      <td>1</td>\n",
              "      <td>0.842105</td>\n",
              "      <td>0.476540</td>\n",
              "      <td>0</td>\n",
              "      <td>1</td>\n",
              "      <td>0</td>\n",
              "      <td>0</td>\n",
              "      <td>1</td>\n",
              "      <td>0</td>\n",
              "      <td>0</td>\n",
              "      <td>0</td>\n",
              "      <td>1</td>\n",
              "      <td>0</td>\n",
              "    </tr>\n",
              "    <tr>\n",
              "      <th>2632</th>\n",
              "      <td>0</td>\n",
              "      <td>0</td>\n",
              "      <td>0</td>\n",
              "      <td>0</td>\n",
              "      <td>0.647887</td>\n",
              "      <td>1</td>\n",
              "      <td>1</td>\n",
              "      <td>1</td>\n",
              "      <td>0</td>\n",
              "      <td>1</td>\n",
              "      <td>0</td>\n",
              "      <td>1</td>\n",
              "      <td>0</td>\n",
              "      <td>0</td>\n",
              "      <td>0.762687</td>\n",
              "      <td>0.530400</td>\n",
              "      <td>0</td>\n",
              "      <td>0</td>\n",
              "      <td>0.494737</td>\n",
              "      <td>0.557483</td>\n",
              "      <td>0</td>\n",
              "      <td>1</td>\n",
              "      <td>0</td>\n",
              "      <td>0</td>\n",
              "      <td>1</td>\n",
              "      <td>0</td>\n",
              "      <td>0</td>\n",
              "      <td>1</td>\n",
              "      <td>0</td>\n",
              "      <td>0</td>\n",
              "    </tr>\n",
              "    <tr>\n",
              "      <th>5566</th>\n",
              "      <td>1</td>\n",
              "      <td>1</td>\n",
              "      <td>1</td>\n",
              "      <td>0</td>\n",
              "      <td>0.985915</td>\n",
              "      <td>0</td>\n",
              "      <td>0</td>\n",
              "      <td>0</td>\n",
              "      <td>1</td>\n",
              "      <td>1</td>\n",
              "      <td>0</td>\n",
              "      <td>1</td>\n",
              "      <td>1</td>\n",
              "      <td>1</td>\n",
              "      <td>0.338806</td>\n",
              "      <td>0.432293</td>\n",
              "      <td>0</td>\n",
              "      <td>0</td>\n",
              "      <td>0.484211</td>\n",
              "      <td>0.775628</td>\n",
              "      <td>1</td>\n",
              "      <td>0</td>\n",
              "      <td>0</td>\n",
              "      <td>1</td>\n",
              "      <td>0</td>\n",
              "      <td>0</td>\n",
              "      <td>1</td>\n",
              "      <td>0</td>\n",
              "      <td>0</td>\n",
              "      <td>0</td>\n",
              "    </tr>\n",
              "    <tr>\n",
              "      <th>4778</th>\n",
              "      <td>0</td>\n",
              "      <td>0</td>\n",
              "      <td>0</td>\n",
              "      <td>0</td>\n",
              "      <td>1.000000</td>\n",
              "      <td>1</td>\n",
              "      <td>1</td>\n",
              "      <td>0</td>\n",
              "      <td>1</td>\n",
              "      <td>1</td>\n",
              "      <td>1</td>\n",
              "      <td>1</td>\n",
              "      <td>1</td>\n",
              "      <td>1</td>\n",
              "      <td>0.893532</td>\n",
              "      <td>0.898661</td>\n",
              "      <td>0</td>\n",
              "      <td>0</td>\n",
              "      <td>0.242105</td>\n",
              "      <td>0.762064</td>\n",
              "      <td>0</td>\n",
              "      <td>1</td>\n",
              "      <td>0</td>\n",
              "      <td>0</td>\n",
              "      <td>0</td>\n",
              "      <td>1</td>\n",
              "      <td>0</td>\n",
              "      <td>1</td>\n",
              "      <td>0</td>\n",
              "      <td>0</td>\n",
              "    </tr>\n",
              "  </tbody>\n",
              "</table>\n",
              "</div>"
            ],
            "text/plain": [
              "      Gender  ...  PaymentMethod_Mailed check\n",
              "581        1  ...                           0\n",
              "2632       0  ...                           0\n",
              "5566       1  ...                           0\n",
              "4778       0  ...                           0\n",
              "\n",
              "[4 rows x 30 columns]"
            ]
          },
          "metadata": {
            "tags": []
          },
          "execution_count": 366
        }
      ]
    },
    {
      "cell_type": "code",
      "metadata": {
        "colab": {
          "base_uri": "https://localhost:8080/"
        },
        "id": "7eSnuGTx4Xz1",
        "outputId": "571219dd-1ecf-4613-9f51-9d7af8c892a3"
      },
      "source": [
        "for col in df2:\n",
        "  print(f'{col}: {df2[col].unique()}')"
      ],
      "execution_count": null,
      "outputs": [
        {
          "output_type": "stream",
          "text": [
            "Gender: [1 0]\n",
            "SeniorCitizen: [0 1]\n",
            "Partner: [0 1]\n",
            "Dependents: [0 1]\n",
            "TenureMonths: [0.014 0.099 0.38  0.676 0.127 0.    0.648 0.225 0.056 0.465 0.141 0.197\n",
            " 0.239 0.113 0.085 0.155 0.338 0.944 0.761 0.507 0.028 0.366 0.268 0.042\n",
            " 0.803 0.732 0.169 0.07  0.254 0.817 0.211 0.718 0.324 0.437 0.521 0.746\n",
            " 0.592 0.873 0.282 0.958 0.296 0.845 0.831 0.662 0.549 0.31  0.535 0.479\n",
            " 0.775 0.901 0.451 0.408 0.62  0.634 0.859 0.972 0.69  0.606 0.986 0.352\n",
            " 0.183 0.563 0.915 0.887 0.394 0.577 0.93  0.704 0.423 0.789 0.493 1.   ]\n",
            "PhoneService: [1 0]\n",
            "MultipleLines: [0 1]\n",
            "OnlineSecurity: [1 0]\n",
            "OnlineBackup: [1 0]\n",
            "DeviceProtection: [0 1]\n",
            "TechSupport: [0 1]\n",
            "StreamingTV: [0 1]\n",
            "StreamingMovies: [0 1]\n",
            "PaperlessBilling: [1 0]\n",
            "MonthlyCharges: [0.354 0.522 0.81  ... 0.897 0.446 0.601]\n",
            "TotalCharges: [0.01  0.015 0.093 ... 0.847 0.038 0.788]\n",
            "ChurnLabel: [1 0]\n",
            "ChurnValue: [1 0]\n",
            "ChurnScore: [0.853 0.653 0.832 0.884 0.768 1.    0.916 0.758 0.968 0.726 0.642 0.632\n",
            " 0.684 0.895 0.811 0.674 0.8   0.958 0.863 0.874 0.737 0.747 0.947 0.989\n",
            " 0.789 0.716 0.937 0.821 0.979 0.695 0.842 0.663 0.905 0.926 0.705 0.779\n",
            " 0.232 0.589 0.4   0.484 0.558 0.358 0.316 0.547 0.505 0.168 0.347 0.368\n",
            " 0.379 0.179 0.211 0.621 0.463 0.6   0.495 0.568 0.253 0.295 0.158 0.263\n",
            " 0.221 0.516 0.537 0.526 0.242 0.337 0.042 0.579 0.2   0.611 0.189 0.442\n",
            " 0.284 0.032 0.432 0.389 0.453 0.326 0.305 0.021 0.474 0.411 0.274 0.\n",
            " 0.421]\n",
            "CLTV: [0.275 0.155 0.749 ... 0.171 0.588 0.789]\n",
            "InternetService_DSL: [1 0]\n",
            "InternetService_Fiber optic: [0 1]\n",
            "InternetService_No: [0 1]\n",
            "Contract_Month-to-month: [1 0]\n",
            "Contract_One year: [0 1]\n",
            "Contract_Two year: [0 1]\n",
            "PaymentMethod_Bank transfer (automatic): [0 1]\n",
            "PaymentMethod_Credit card (automatic): [0 1]\n",
            "PaymentMethod_Electronic check: [0 1]\n",
            "PaymentMethod_Mailed check: [1 0]\n"
          ],
          "name": "stdout"
        }
      ]
    },
    {
      "cell_type": "code",
      "metadata": {
        "id": "5vlnOqvgYBPy"
      },
      "source": [
        "df2.drop('ChurnValue', axis=1, inplace=True)"
      ],
      "execution_count": null,
      "outputs": []
    },
    {
      "cell_type": "code",
      "metadata": {
        "id": "cbRkHJ9XXsHF"
      },
      "source": [
        "X = df2.drop('ChurnLabel', axis='columns')\n",
        "y = df2['ChurnLabel']"
      ],
      "execution_count": null,
      "outputs": []
    },
    {
      "cell_type": "code",
      "metadata": {
        "id": "4PUi9QAxUrjT"
      },
      "source": [
        "from sklearn.model_selection import train_test_split\n",
        "X_train, X_test, y_train, y_test = train_test_split(X, y ,test_size=0.2, random_state=5)"
      ],
      "execution_count": null,
      "outputs": []
    },
    {
      "cell_type": "code",
      "metadata": {
        "colab": {
          "base_uri": "https://localhost:8080/"
        },
        "id": "c_UCSwRYY9nK",
        "outputId": "4664e9a1-bc2f-4681-80e0-34e7415c5c15"
      },
      "source": [
        "X_train.shape, y_train.shape"
      ],
      "execution_count": null,
      "outputs": [
        {
          "output_type": "execute_result",
          "data": {
            "text/plain": [
              "((5625, 28), (5625,))"
            ]
          },
          "metadata": {
            "tags": []
          },
          "execution_count": 371
        }
      ]
    },
    {
      "cell_type": "code",
      "metadata": {
        "colab": {
          "base_uri": "https://localhost:8080/"
        },
        "id": "oMKUJ7cVZFbO",
        "outputId": "384e5924-bca7-46c8-fae3-2dfa63a005ee"
      },
      "source": [
        "X_test.shape"
      ],
      "execution_count": null,
      "outputs": [
        {
          "output_type": "execute_result",
          "data": {
            "text/plain": [
              "(1407, 28)"
            ]
          },
          "metadata": {
            "tags": []
          },
          "execution_count": 372
        }
      ]
    },
    {
      "cell_type": "code",
      "metadata": {
        "colab": {
          "base_uri": "https://localhost:8080/"
        },
        "id": "RKVBrJjtZQDV",
        "outputId": "797f4648-8d46-4e05-ab65-737d58bf99bb"
      },
      "source": [
        "X_train[:3]"
      ],
      "execution_count": null,
      "outputs": [
        {
          "output_type": "execute_result",
          "data": {
            "text/html": [
              "<div>\n",
              "<style scoped>\n",
              "    .dataframe tbody tr th:only-of-type {\n",
              "        vertical-align: middle;\n",
              "    }\n",
              "\n",
              "    .dataframe tbody tr th {\n",
              "        vertical-align: top;\n",
              "    }\n",
              "\n",
              "    .dataframe thead th {\n",
              "        text-align: right;\n",
              "    }\n",
              "</style>\n",
              "<table border=\"1\" class=\"dataframe\">\n",
              "  <thead>\n",
              "    <tr style=\"text-align: right;\">\n",
              "      <th></th>\n",
              "      <th>Gender</th>\n",
              "      <th>SeniorCitizen</th>\n",
              "      <th>Partner</th>\n",
              "      <th>Dependents</th>\n",
              "      <th>TenureMonths</th>\n",
              "      <th>PhoneService</th>\n",
              "      <th>MultipleLines</th>\n",
              "      <th>OnlineSecurity</th>\n",
              "      <th>OnlineBackup</th>\n",
              "      <th>DeviceProtection</th>\n",
              "      <th>TechSupport</th>\n",
              "      <th>StreamingTV</th>\n",
              "      <th>StreamingMovies</th>\n",
              "      <th>PaperlessBilling</th>\n",
              "      <th>MonthlyCharges</th>\n",
              "      <th>TotalCharges</th>\n",
              "      <th>ChurnScore</th>\n",
              "      <th>CLTV</th>\n",
              "      <th>InternetService_DSL</th>\n",
              "      <th>InternetService_Fiber optic</th>\n",
              "      <th>InternetService_No</th>\n",
              "      <th>Contract_Month-to-month</th>\n",
              "      <th>Contract_One year</th>\n",
              "      <th>Contract_Two year</th>\n",
              "      <th>PaymentMethod_Bank transfer (automatic)</th>\n",
              "      <th>PaymentMethod_Credit card (automatic)</th>\n",
              "      <th>PaymentMethod_Electronic check</th>\n",
              "      <th>PaymentMethod_Mailed check</th>\n",
              "    </tr>\n",
              "  </thead>\n",
              "  <tbody>\n",
              "    <tr>\n",
              "      <th>5663</th>\n",
              "      <td>1</td>\n",
              "      <td>0</td>\n",
              "      <td>0</td>\n",
              "      <td>1</td>\n",
              "      <td>0.140845</td>\n",
              "      <td>1</td>\n",
              "      <td>1</td>\n",
              "      <td>0</td>\n",
              "      <td>0</td>\n",
              "      <td>0</td>\n",
              "      <td>0</td>\n",
              "      <td>0</td>\n",
              "      <td>1</td>\n",
              "      <td>0</td>\n",
              "      <td>0.676119</td>\n",
              "      <td>0.100900</td>\n",
              "      <td>0.378947</td>\n",
              "      <td>0.256616</td>\n",
              "      <td>0</td>\n",
              "      <td>1</td>\n",
              "      <td>0</td>\n",
              "      <td>1</td>\n",
              "      <td>0</td>\n",
              "      <td>0</td>\n",
              "      <td>0</td>\n",
              "      <td>0</td>\n",
              "      <td>1</td>\n",
              "      <td>0</td>\n",
              "    </tr>\n",
              "    <tr>\n",
              "      <th>101</th>\n",
              "      <td>0</td>\n",
              "      <td>0</td>\n",
              "      <td>0</td>\n",
              "      <td>0</td>\n",
              "      <td>0.464789</td>\n",
              "      <td>1</td>\n",
              "      <td>0</td>\n",
              "      <td>0</td>\n",
              "      <td>1</td>\n",
              "      <td>0</td>\n",
              "      <td>0</td>\n",
              "      <td>0</td>\n",
              "      <td>0</td>\n",
              "      <td>1</td>\n",
              "      <td>0.554229</td>\n",
              "      <td>0.289136</td>\n",
              "      <td>0.936842</td>\n",
              "      <td>0.843229</td>\n",
              "      <td>0</td>\n",
              "      <td>1</td>\n",
              "      <td>0</td>\n",
              "      <td>1</td>\n",
              "      <td>0</td>\n",
              "      <td>0</td>\n",
              "      <td>0</td>\n",
              "      <td>1</td>\n",
              "      <td>0</td>\n",
              "      <td>0</td>\n",
              "    </tr>\n",
              "    <tr>\n",
              "      <th>2619</th>\n",
              "      <td>0</td>\n",
              "      <td>0</td>\n",
              "      <td>1</td>\n",
              "      <td>0</td>\n",
              "      <td>0.985915</td>\n",
              "      <td>0</td>\n",
              "      <td>0</td>\n",
              "      <td>1</td>\n",
              "      <td>1</td>\n",
              "      <td>0</td>\n",
              "      <td>1</td>\n",
              "      <td>1</td>\n",
              "      <td>1</td>\n",
              "      <td>0</td>\n",
              "      <td>0.401990</td>\n",
              "      <td>0.476165</td>\n",
              "      <td>0.452632</td>\n",
              "      <td>0.477652</td>\n",
              "      <td>1</td>\n",
              "      <td>0</td>\n",
              "      <td>0</td>\n",
              "      <td>0</td>\n",
              "      <td>0</td>\n",
              "      <td>1</td>\n",
              "      <td>0</td>\n",
              "      <td>0</td>\n",
              "      <td>0</td>\n",
              "      <td>1</td>\n",
              "    </tr>\n",
              "  </tbody>\n",
              "</table>\n",
              "</div>"
            ],
            "text/plain": [
              "      Gender  ...  PaymentMethod_Mailed check\n",
              "5663       1  ...                           0\n",
              "101        0  ...                           0\n",
              "2619       0  ...                           1\n",
              "\n",
              "[3 rows x 28 columns]"
            ]
          },
          "metadata": {
            "tags": []
          },
          "execution_count": 373
        }
      ]
    },
    {
      "cell_type": "code",
      "metadata": {
        "colab": {
          "base_uri": "https://localhost:8080/"
        },
        "id": "8ta0qCTVZgEU",
        "outputId": "a4398953-d3c8-42d4-8274-aac90ff1ba31"
      },
      "source": [
        "len(X_train.columns)"
      ],
      "execution_count": null,
      "outputs": [
        {
          "output_type": "execute_result",
          "data": {
            "text/plain": [
              "28"
            ]
          },
          "metadata": {
            "tags": []
          },
          "execution_count": 374
        }
      ]
    },
    {
      "cell_type": "markdown",
      "metadata": {
        "id": "R4TFSMrY-020"
      },
      "source": [
        "### class balancing"
      ]
    },
    {
      "cell_type": "markdown",
      "metadata": {
        "id": "kIY0Mhwrk96a"
      },
      "source": [
        "###**Class Balancing: Over sampling** with SMOT"
      ]
    },
    {
      "cell_type": "code",
      "metadata": {
        "colab": {
          "base_uri": "https://localhost:8080/"
        },
        "id": "OsOCDujcig6O",
        "outputId": "e39b758d-7aba-4d08-d26e-3fe3f91804b2"
      },
      "source": [
        "count_classes = pd.value_counts(df2['ChurnLabel'], sort=True)\n",
        "count_classes.plot(kind='bar', rot =0 )"
      ],
      "execution_count": null,
      "outputs": [
        {
          "output_type": "execute_result",
          "data": {
            "text/plain": [
              "<matplotlib.axes._subplots.AxesSubplot at 0x7fa51b290390>"
            ]
          },
          "metadata": {
            "tags": []
          },
          "execution_count": 375
        },
        {
          "output_type": "display_data",
          "data": {
            "image/png": "[encoded data removed]",
            "text/plain": [
              "<Figure size 432x288 with 1 Axes>"
            ]
          },
          "metadata": {
            "tags": [],
            "needs_background": "light"
          }
        }
      ]
    },
    {
      "cell_type": "code",
      "metadata": {
        "id": "RUWAiZd85aI7"
      },
      "source": [
        "X = df2.drop('ChurnLabel', axis='columns')\n",
        "y = df2['ChurnLabel']"
      ],
      "execution_count": null,
      "outputs": []
    },
    {
      "cell_type": "code",
      "metadata": {
        "id": "XSe0ajVU5jAO"
      },
      "source": [
        "from imblearn.combine import SMOTETomek"
      ],
      "execution_count": null,
      "outputs": []
    },
    {
      "cell_type": "code",
      "metadata": {
        "id": "zAU5FGk953ft"
      },
      "source": [
        "#implementing oversampling\n",
        "smk = SMOTETomek(sampling_strategy = 'minority', random_state=42)\n",
        "X_sm, y_sm = smk.fit_sample(X,y)\n"
      ],
      "execution_count": null,
      "outputs": []
    },
    {
      "cell_type": "code",
      "metadata": {
        "id": "BPZx2FIR9wSe"
      },
      "source": [
        "from sklearn.model_selection import train_test_split\n",
        "X_train, X_test, y_train, y_test = train_test_split(X_sm, y_sm ,test_size=0.2, random_state=15, stratify=y_sm)"
      ],
      "execution_count": null,
      "outputs": []
    },
    {
      "cell_type": "code",
      "metadata": {
        "colab": {
          "base_uri": "https://localhost:8080/"
        },
        "id": "oWpV-YML8dpu",
        "outputId": "bf292d87-724d-4614-f61c-fdd89ecd6291"
      },
      "source": [
        ">>> unique, counts = np.unique(y_sm, return_counts=True)\n",
        ">>> dict(zip(unique, counts))"
      ],
      "execution_count": null,
      "outputs": [
        {
          "output_type": "execute_result",
          "data": {
            "text/plain": [
              "{0: 5050, 1: 5050}"
            ]
          },
          "metadata": {
            "tags": []
          },
          "execution_count": 380
        }
      ]
    },
    {
      "cell_type": "code",
      "metadata": {
        "colab": {
          "base_uri": "https://localhost:8080/"
        },
        "id": "_PECa0xD6Yy7",
        "outputId": "674d553c-96ff-40f2-ca54-75f378dcfc4f"
      },
      "source": [
        "y.value_counts()"
      ],
      "execution_count": null,
      "outputs": [
        {
          "output_type": "execute_result",
          "data": {
            "text/plain": [
              "0    5163\n",
              "1    1869\n",
              "Name: ChurnLabel, dtype: int64"
            ]
          },
          "metadata": {
            "tags": []
          },
          "execution_count": 381
        }
      ]
    },
    {
      "cell_type": "code",
      "metadata": {
        "id": "S6AJC5L_3gZF",
        "colab": {
          "base_uri": "https://localhost:8080/"
        },
        "outputId": "d1d532b6-4ef3-4a86-d8a0-88327eabdc2f"
      },
      "source": [
        ">>> unique, counts = np.unique(X_sm, return_counts=True)\n",
        ">>> dict(zip(unique, counts))"
      ],
      "execution_count": null,
      "outputs": [
        {
          "output_type": "execute_result",
          "data": {
            "text/plain": [
              "{0.0: 148151,\n",
              " 5.769674590352849e-06: 2,\n",
              " 1.1539349180705698e-05: 1,\n",
              " 1.312309224753031e-05: 1,\n",
              " 2.3078698361412263e-05: 1,\n",
              " 2.8848372951765545e-05: 1,\n",
              " 3.43638595264774e-05: 1,\n",
              " 3.4618047542118394e-05: 3,\n",
              " 3.768155672254535e-05: 1,\n",
              " 4.038772213247124e-05: 1,\n",
              " 4.6157396722824526e-05: 4,\n",
              " 4.892522818846293e-05: 1,\n",
              " 5.192707131317781e-05: 3,\n",
              " 5.4974953491149337e-05: 1,\n",
              " 5.769674590353109e-05: 4,\n",
              " 5.8011321311489186e-05: 1,\n",
              " 6.220921931183346e-05: 1,\n",
              " 6.557004888283965e-05: 1,\n",
              " 6.677470910242437e-05: 1,\n",
              " 6.923609508423679e-05: 2,\n",
              " 7.500576967459007e-05: 5,\n",
              " 8.077544426494335e-05: 4,\n",
              " 8.654511885529664e-05: 6,\n",
              " 9.231479344564949e-05: 2,\n",
              " 9.49337827517424e-05: 1,\n",
              " 9.808446803600233e-05: 6,\n",
              " 0.00010385414262635562: 2,\n",
              " 0.0001044059789626298: 1,\n",
              " 0.00010536313035747973: 1,\n",
              " 0.0001089102205927896: 1,\n",
              " 0.0001096238172167089: 8,\n",
              " 0.00011035555055706438: 1,\n",
              " 0.00011098874937703315: 1,\n",
              " 0.00011539349180706175: 2,\n",
              " 0.0001163373231689646: 1,\n",
              " 0.00011644350625740814: 1,\n",
              " 0.00011847214817332466: 1,\n",
              " 0.00012116316639741503: 4,\n",
              " 0.0001238524727980442: 1,\n",
              " 0.00012388321496471503: 1,\n",
              " 0.00012671531299328912: 1,\n",
              " 0.00012693284098776788: 7,\n",
              " 0.0001281914123845866: 1,\n",
              " 0.00012946467136027483: 1,\n",
              " 0.0001307728910274743: 1,\n",
              " 0.00013270251557812116: 4,\n",
              " 0.00013416994288983306: 1,\n",
              " 0.00013571254611080162: 1,\n",
              " 0.0001364694101993831: 1,\n",
              " 0.00013847219016847444: 3,\n",
              " 0.0001409080129549187: 1,\n",
              " 0.0001415016257797652: 1,\n",
              " 0.00014218512332065886: 1,\n",
              " 0.0001425993841515895: 1,\n",
              " 0.0001436509549222265: 1,\n",
              " 0.0001442418647588273: 8,\n",
              " 0.0001474403654907846: 1,\n",
              " 0.00014751430775582718: 1,\n",
              " 0.00014999921160131592: 1,\n",
              " 0.00015001153934918058: 3,\n",
              " 0.00015002672241261144: 1,\n",
              " 0.00015353962563405583: 1,\n",
              " 0.00015442026185517071: 1,\n",
              " 0.00015578121393953342: 5,\n",
              " 0.00015639465937192094: 1,\n",
              " 0.0001570305241169552: 1,\n",
              " 0.00015777875475373815: 1,\n",
              " 0.0001587203813943947: 1,\n",
              " 0.000160645136069359: 1,\n",
              " 0.00016126650813943756: 1,\n",
              " 0.0001615508885298867: 11,\n",
              " 0.00016350751182655606: 1,\n",
              " 0.0001651875017256596: 1,\n",
              " 0.00016627755030923464: 1,\n",
              " 0.00016732056312024: 6,\n",
              " 0.00017184903622346782: 1,\n",
              " 0.00017309023771059284: 5,\n",
              " 0.00017885991230094612: 4,\n",
              " 0.00018404989296920508: 1,\n",
              " 0.00018462958689129897: 4,\n",
              " 0.0001880847348811803: 1,\n",
              " 0.00019025228655772844: 1,\n",
              " 0.00019039926148165225: 5,\n",
              " 0.0001911318504495977: 1,\n",
              " 0.00019312578166615408: 1,\n",
              " 0.00019330094829301368: 1,\n",
              " 0.00019616893607200554: 3,\n",
              " 0.00019662958027483784: 1,\n",
              " 0.00019747565243659752: 1,\n",
              " 0.00020193861066235838: 3,\n",
              " 0.00020329763785284434: 1,\n",
              " 0.00020770828525271167: 2,\n",
              " 0.0002096072679164592: 1,\n",
              " 0.00021347795984306452: 2,\n",
              " 0.00021917052492802144: 1,\n",
              " 0.0002192476344334178: 1,\n",
              " 0.00022237046920170478: 3,\n",
              " 0.00022501730902377065: 2,\n",
              " 0.00022554642754251335: 1,\n",
              " 0.00022976426701990362: 1,\n",
              " 0.00023078698361412393: 1,\n",
              " 0.00023190616393993217: 1,\n",
              " 0.00023279359007664544: 1,\n",
              " 0.0002365566582044772: 1,\n",
              " 0.00024232633279483006: 3,\n",
              " 0.00024809600738518334: 1,\n",
              " 0.0002538656819755362: 1,\n",
              " 0.00025392970364665127: 1,\n",
              " 0.0002596353565658895: 1,\n",
              " 0.00026540503115624276: 1,\n",
              " 0.00028970411086456417: 1,\n",
              " 0.0002965161147230732: 1,\n",
              " 0.00035747043480011185: 1,\n",
              " 0.00036964794279469926: 1,\n",
              " 0.00037832420339925163: 1,\n",
              " 0.0003893859920085993: 1,\n",
              " 0.0003963464886043433: 1,\n",
              " 0.000403555317995134: 1,\n",
              " 0.00041280512652241324: 1,\n",
              " 0.00045733481255983495: 1,\n",
              " 0.0004642918978007577: 1,\n",
              " 0.0004945285674184878: 1,\n",
              " 0.0005365797369028384: 1,\n",
              " 0.0005393189403268828: 1,\n",
              " 0.0005426224435042142: 1,\n",
              " 0.0005647965018229127: 1,\n",
              " 0.0006000461573967227: 1,\n",
              " 0.0006082835310093904: 1,\n",
              " 0.000623124855758135: 1,\n",
              " 0.0006288945303484883: 1,\n",
              " 0.0006315830325766157: 1,\n",
              " 0.0006462035541195473: 3,\n",
              " 0.0006496995277998074: 1,\n",
              " 0.0006519732287099005: 1,\n",
              " 0.0006530618615536686: 1,\n",
              " 0.0006533907612995549: 2,\n",
              " 0.0006671114076050588: 1,\n",
              " 0.0006808216016616661: 1,\n",
              " 0.0006832414616149817: 1,\n",
              " 0.0006865912762520194: 1,\n",
              " 0.0006923609508423722: 4,\n",
              " 0.0006945596203078719: 1,\n",
              " 0.0007039003000230784: 1,\n",
              " 0.0007163154989219427: 1,\n",
              " 0.0007212093237941378: 2,\n",
              " 0.0007233161478938639: 1,\n",
              " 0.0007247770302677282: 1,\n",
              " 0.000726978998384491: 2,\n",
              " 0.0007271804266827614: 1,\n",
              " 0.0007327486729748439: 2,\n",
              " 0.00073522873514948: 1,\n",
              " 0.0007385183475651972: 2,\n",
              " 0.0007409252497056062: 1,\n",
              " 0.00074428802215555: 2,\n",
              " 0.0007558273713362566: 1,\n",
              " 0.0007586267793448545: 1,\n",
              " 0.0007615970459266094: 1,\n",
              " 0.0007645759374503604: 1,\n",
              " 0.0007726995204181853: 1,\n",
              " 0.0007962150934687283: 2,\n",
              " 0.0007963612682246003: 1,\n",
              " 0.0008019847680590811: 1,\n",
              " 0.0008025172816530743: 1,\n",
              " 0.0008034859580759479: 1,\n",
              " 0.0008052106392309551: 1,\n",
              " 0.0008077544426494344: 1,\n",
              " 0.0008135241172397877: 1,\n",
              " 0.0008737291347338839: 1,\n",
              " 0.0008894818768067636: 4,\n",
              " 0.0009319040680907106: 1,\n",
              " 0.000947670604528374: 1,\n",
              " 0.000957800083174809: 1,\n",
              " 0.000983588692076761: 1,\n",
              " 0.0010357211555466917: 1,\n",
              " 0.001060899789261778: 1,\n",
              " 0.0010962381721670899: 1,\n",
              " 0.00110287458849624: 1,\n",
              " 0.0011073879667093944: 2,\n",
              " 0.0011118523460084684: 1,\n",
              " 0.0011339233390994588: 1,\n",
              " 0.0011865447775743615: 1,\n",
              " 0.0011943226402030922: 1,\n",
              " 0.001198208541274927: 1,\n",
              " 0.0012069917920642889: 1,\n",
              " 0.0012070641843454633: 2,\n",
              " 0.0012493107812256501: 1,\n",
              " 0.0012577890606969766: 1,\n",
              " 0.0012602430297873717: 1,\n",
              " 0.001275098084468036: 1,\n",
              " 0.0012808677590583888: 1,\n",
              " 0.0012866374336487421: 1,\n",
              " 0.0013120181594359261: 1,\n",
              " 0.0013154858066005077: 1,\n",
              " 0.0013248952293963548: 1,\n",
              " 0.001332059719182517: 1,\n",
              " 0.0013342228152101177: 2,\n",
              " 0.001335104955004834: 1,\n",
              " 0.001350103854142626: 1,\n",
              " 0.0013558735287329793: 1,\n",
              " 0.001357662253703856: 1,\n",
              " 0.001371010251968979: 1,\n",
              " 0.001404697005625717: 1,\n",
              " 0.0014298934962138589: 1,\n",
              " 0.0014308792984075694: 1,\n",
              " 0.0014709458009600183: 1,\n",
              " 0.0014712670205400415: 1,\n",
              " 0.001478223825867389: 1,\n",
              " 0.0014925373134328235: 1,\n",
              " 0.0014998240931763177: 1,\n",
              " 0.0015116547426725128: 1,\n",
              " 0.0015167232128263167: 1,\n",
              " 0.0015375753762023447: 1,\n",
              " 0.0015515226538819363: 1,\n",
              " 0.0015565932844118224: 3,\n",
              " 0.0015861802070149533: 1,\n",
              " 0.0016039695361181631: 1,\n",
              " 0.0016616662820216942: 1,\n",
              " 0.0017002879414506102: 1,\n",
              " 0.0017078236787445187: 2,\n",
              " 0.00171012190508094: 1,\n",
              " 0.0017193630279252253: 2,\n",
              " 0.001747817957747963: 1,\n",
              " 0.001752689071190598: 1,\n",
              " 0.00176417394849907: 1,\n",
              " 0.0017789637536135272: 2,\n",
              " 0.0018009408622875712: 1,\n",
              " 0.0018178392716042481: 1,\n",
              " 0.0018198735304845448: 1,\n",
              " 0.0018347565197322875: 1,\n",
              " 0.0018405261943226399: 1,\n",
              " 0.0018462958689129932: 1,\n",
              " 0.0018566243974078907: 1,\n",
              " 0.0018693745672744054: 1,\n",
              " 0.0018749125318200833: 1,\n",
              " 0.0018751442418647587: 1,\n",
              " 0.0018783358252141415: 1,\n",
              " 0.001880913916455112: 1,\n",
              " 0.001898222940226171: 1,\n",
              " 0.0019213016385875841: 1,\n",
              " 0.0019232686650309447: 1,\n",
              " 0.0019254422622523551: 1,\n",
              " 0.0019328409877682898: 1,\n",
              " 0.0019470588737896361: 1,\n",
              " 0.001955919686129702: 1,\n",
              " 0.001973228709900761: 3,\n",
              " 0.0019780519534317717: 1,\n",
              " 0.001992135219070268: 1,\n",
              " 0.0020009167042629745: 1,\n",
              " 0.0020206965777185924: 1,\n",
              " 0.002022671730685483: 1,\n",
              " 0.0020349605155633977: 1,\n",
              " 0.0020366951303946463: 1,\n",
              " 0.002048234479575351: 1,\n",
              " 0.0020680173741301072: 1,\n",
              " 0.0020770828525271167: 1,\n",
              " 0.0021178744412974557: 1,\n",
              " 0.002123240249249943: 1,\n",
              " 0.0021759067013309213: 1,\n",
              " 0.002184949756165507: 1,\n",
              " 0.0022010029195738377: 1,\n",
              " 0.0022016818631648075: 1,\n",
              " 0.002215555042695592: 1,\n",
              " 0.0022237046920168813: 2,\n",
              " 0.002232864066466651: 1,\n",
              " 0.0022357290616099933: 1,\n",
              " 0.002241273109312658: 1,\n",
              " 0.0022444034156473575: 1,\n",
              " 0.0022506109897993953: 3,\n",
              " 0.00226748211400877: 1,\n",
              " 0.0022727155078223057: 1,\n",
              " 0.002273223007360662: 1,\n",
              " 0.0022784447734957667: 1,\n",
              " 0.002283920559706829: 1,\n",
              " 0.0022963304869605353: 1,\n",
              " 0.002307869836141241: 1,\n",
              " 0.002339581882734192: 1,\n",
              " 0.0023456128661587324: 1,\n",
              " 0.0024059543041772442: 1,\n",
              " 0.0024122023146124507: 1,\n",
              " 0.002423263327948303: 1,\n",
              " 0.0024290330025386565: 1,\n",
              " 0.002446075161218586: 1,\n",
              " 0.002457881375490422: 1,\n",
              " 0.002465389703441157: 1,\n",
              " 0.0024663536523975346: 1,\n",
              " 0.0024694207246711286: 1,\n",
              " 0.002475190399261482: 1,\n",
              " 0.0024780384160779656: 1,\n",
              " 0.0024789063115496016: 1,\n",
              " 0.0024977821340784884: 1,\n",
              " 0.002550196168936072: 1,\n",
              " 0.002584814216478191: 1,\n",
              " 0.0025851129943571007: 1,\n",
              " 0.00259847477958042: 1,\n",
              " 0.002604084342923705: 1,\n",
              " 0.002620778044000809: 1,\n",
              " 0.002659819986152781: 2,\n",
              " 0.0026601868333061586: 1,\n",
              " 0.002668445630420291: 1,\n",
              " 0.002682984798488975: 1,\n",
              " 0.0027034322742857343: 1,\n",
              " 0.0027044935186741233: 1,\n",
              " 0.0027290560812370185: 1,\n",
              " 0.0027355027795441175: 1,\n",
              " 0.002757904454188784: 1,\n",
              " 0.0027809831525501963: 2,\n",
              " 0.0028026667288159053: 1,\n",
              " 0.002809831525501961: 1,\n",
              " 0.0028176460970495976: 2,\n",
              " 0.002827140549273021: 1,\n",
              " 0.0028408808488969498: 1,\n",
              " 0.0028670343447397568: 1,\n",
              " 0.0028677457608085916: 1,\n",
              " 0.002884837295176552: 1,\n",
              " 0.0028906069697669052: 1,\n",
              " 0.0028908160996219956: 3,\n",
              " 0.002902146318947612: 2,\n",
              " 0.002907915993537964: 3,\n",
              " 0.0029136856681283175: 1,\n",
              " 0.0029194553427186708: 1,\n",
              " 0.0029228197352782065: 1,\n",
              " 0.002925225017309023: 2,\n",
              " 0.00292673385473494: 1,\n",
              " 0.0029309946918993773: 1,\n",
              " 0.0029392857139061007: 1,\n",
              " 0.002942534041080083: 1,\n",
              " 0.0029483037156704363: 1,\n",
              " 0.0029512568710401903: 1,\n",
              " 0.0029540733902607887: 4,\n",
              " 0.002959843064851143: 1,\n",
              " 0.002960872322048568: 1,\n",
              " 0.0029627402263278295: 1,\n",
              " 0.0029713824140318486: 2,\n",
              " 0.002977152088622202: 1,\n",
              " 0.002979335681390555: 1,\n",
              " 0.0029829217632125543: 1,\n",
              " 0.0029841473596067675: 1,\n",
              " 0.0029850746268656747: 1,\n",
              " 0.0029886914378029084: 1,\n",
              " 0.002994461112393261: 3,\n",
              " 0.003000230786983614: 1,\n",
              " 0.0030008575393417054: 1,\n",
              " 0.003005072855224168: 1,\n",
              " 0.0030056184113491516: 1,\n",
              " 0.003010082404445894: 1,\n",
              " 0.00301177013616432: 2,\n",
              " 0.0030233094853450264: 1,\n",
              " 0.003026529370529354: 1,\n",
              " 0.003029079159935379: 2,\n",
              " 0.0030308565325580226: 1,\n",
              " 0.003034848834525733: 3,\n",
              " 0.0030406185091160854: 2,\n",
              " 0.0030459401257008963: 1,\n",
              " 0.0030463881837064395: 1,\n",
              " 0.0030485842633468816: 1,\n",
              " 0.003049274611437903: 1,\n",
              " 0.003052157858296792: 1,\n",
              " 0.0030579275328871443: 7,\n",
              " 0.0030592908082914395: 1,\n",
              " 0.0030636972074774985: 1,\n",
              " 0.003065738022261071: 1,\n",
              " 0.003069466882067851: 1,\n",
              " 0.0030791374349912084: 1,\n",
              " 0.00308677590583891: 1,\n",
              " 0.003092545580429264: 2,\n",
              " 0.0030983152550196165: 2,\n",
              " 0.0031040849296099706: 3,\n",
              " 0.003109854604200323: 2,\n",
              " 0.0031108850343719674: 1,\n",
              " 0.003113186568823645: 2,\n",
              " 0.003113750088224446: 1,\n",
              " 0.0031156242787906754: 2,\n",
              " 0.0031157606572434966: 1,\n",
              " 0.0031211829421832005: 1,\n",
              " 0.0031213939533810296: 3,\n",
              " 0.0031252112072462255: 1,\n",
              " 0.003132933302561736: 3,\n",
              " 0.0031387029771520886: 1,\n",
              " 0.0031462062199546347: 1,\n",
              " 0.0031545323117215737: 1,\n",
              " 0.0031617816755135017: 1,\n",
              " 0.0031641886991798118: 1,\n",
              " 0.0031716136725324583: 1,\n",
              " 0.0031733210246942065: 2,\n",
              " 0.0031790906992845607: 1,\n",
              " 0.0031821455200811764: 1,\n",
              " 0.003184860373874913: 1,\n",
              " 0.0031968808376270567: 1,\n",
              " 0.003197633484033055: 1,\n",
              " 0.0032089999423526327: 1,\n",
              " 0.003210391746240722: 1,\n",
              " 0.0032114021156019147: 1,\n",
              " 0.003218052728643116: 1,\n",
              " 0.0032560065970850807: 1,\n",
              " 0.0032699710824379944: 1,\n",
              " 0.003276204235011104: 1,\n",
              " 0.0032783520497862875: 1,\n",
              " 0.00329062303810656: 1,\n",
              " 0.0033062890741751556: 1,\n",
              " 0.003311793214862682: 1,\n",
              " 0.0033289646489820723: 1,\n",
              " 0.0033330781704072315: 1,\n",
              " 0.003334871913224094: 1,\n",
              " 0.003334973094225363: 1,\n",
              " 0.0033355570380253496: 1,\n",
              " 0.003359043659055565: 1,\n",
              " 0.0033637202861758597: 1,\n",
              " 0.003375706914596303: 1,\n",
              " 0.0033797901154482557: 1,\n",
              " 0.0033946925090981607: 1,\n",
              " 0.0034005578632855873: 1,\n",
              " 0.003408685279765622: 1,\n",
              " 0.003409877682898685: 1,\n",
              " 0.0034214170320793907: 1,\n",
              " 0.003423084103973384: 1,\n",
              " 0.003431194253270342: 1,\n",
              " 0.0034329563812600964: 1,\n",
              " 0.003436037359816105: 1,\n",
              " 0.0034372988133470894: 1,\n",
              " 0.0034387260558504497: 2,\n",
              " 0.003449581054003641: 1,\n",
              " 0.003451404755992793: 1,\n",
              " 0.0034560350796215096: 1,\n",
              " 0.003459443819648267: 1,\n",
              " 0.0034623478208116376: 1,\n",
              " 0.003474544576447782: 1,\n",
              " 0.003479113777982922: 1,\n",
              " 0.003484883452573275: 1,\n",
              " 0.0034906531271636275: 1,\n",
              " 0.0034984287355635827: 1,\n",
              " 0.0035137318255250407: 1,\n",
              " 0.003519501500115393: 1,\n",
              " 0.0035234729630883033: 1,\n",
              " 0.003536347742994401: 1,\n",
              " 0.003539202226125623: 1,\n",
              " 0.003542580198476806: 1,\n",
              " 0.0035483498730671586: 2,\n",
              " 0.0035525816096531413: 1,\n",
              " 0.003559889222247865: 2,\n",
              " 0.0035656588968382185: 1,\n",
              " 0.003570613565336305: 1,\n",
              " 0.003572487292663106: 1,\n",
              " 0.0035731849900241344: 1,\n",
              " 0.003577198246018924: 2,\n",
              " 0.0035829679206092774: 1,\n",
              " 0.0035887375951996307: 4,\n",
              " 0.003594507269789984: 2,\n",
              " 0.0036060466189706897: 1,\n",
              " 0.003611816293561043: 2,\n",
              " 0.0036175859681513963: 4,\n",
              " 0.0036406646665128085: 1,\n",
              " 0.003652204015693515: 3,\n",
              " 0.0036579736902838675: 1,\n",
              " 0.0036635102274989763: 1,\n",
              " 0.003663743364874221: 2,\n",
              " 0.003669513039464574: 3,\n",
              " 0.0036752827140549274: 1,\n",
              " 0.0036804582355241325: 1,\n",
              " 0.0036810523886452806: 1,\n",
              " 0.0036858877857235822: 1,\n",
              " 0.003686822063235633: 2,\n",
              " 0.003687184435700038: 1,\n",
              " 0.0036925917378259863: 2,\n",
              " 0.003704131087006693: 1,\n",
              " 0.0037135877565293955: 1,\n",
              " 0.0037324268731566204: 1,\n",
              " 0.0037329794599584585: 1,\n",
              " 0.0037387491345488117: 1,\n",
              " 0.003744518809139164: 2,\n",
              " 0.0037447835949592292: 1,\n",
              " 0.003746231405128281: 1,\n",
              " 0.0037593957007161253: 1,\n",
              " 0.0037755069553613296: 1,\n",
              " 0.0037802979764287037: 1,\n",
              " 0.0037825657387836986: 1,\n",
              " 0.003794077354996237: 1,\n",
              " 0.003796567245684547: 1,\n",
              " 0.0038238310217283285: 1,\n",
              " 0.003831063927994461: 2,\n",
              " 0.0038319849181651265: 1,\n",
              " 0.003836833602584814: 1,\n",
              " 0.0038423265012211827: 1,\n",
              " 0.003854142626355874: 1,\n",
              " 0.0038746321346355556: 1,\n",
              " 0.0038867525726554294: 1,\n",
              " 0.0038931432974589303: 1,\n",
              " 0.003911237096039867: 1,\n",
              " 0.003918374951093262: 1,\n",
              " 0.003952227094391876: 1,\n",
              " 0.003963766443572582: 1,\n",
              " 0.003966606037061324: 1,\n",
              " 0.00397087096900196: 1,\n",
              " 0.0040026684456304085: 2,\n",
              " 0.004004154165705054: 1,\n",
              " 0.004009923840295407: 2,\n",
              " 0.004014639478756864: 1,\n",
              " 0.0040332387384428865: 1,\n",
              " 0.0040422242009344675: 1,\n",
              " 0.004056081237018233: 1,\n",
              " 0.004095947399610657: 1,\n",
              " 0.004096468959150703: 1,\n",
              " 0.004098834182542527: 1,\n",
              " 0.004102238633741057: 1,\n",
              " 0.004136856681283175: 1,\n",
              " 0.004142626355873529: 1,\n",
              " 0.004148396030463882: 1,\n",
              " 0.004165705054234941: 1,\n",
              " 0.004177244403415647: 2,\n",
              " 0.004183014078006: 1,\n",
              " 0.00420028322328519: 1,\n",
              " 0.0042003231017770605: 1,\n",
              " 0.004206092776367413: 2,\n",
              " 0.004211862450957765: 1,\n",
              " 0.004216788058929957: 1,\n",
              " 0.004223401800138472: 1,\n",
              " 0.004229171474728826: 1,\n",
              " 0.004240710823909531: 1,\n",
              " 0.004258019847680591: 2,\n",
              " 0.004269559196861296: 1,\n",
              " 0.0042755555430550535: 1,\n",
              " 0.0042926378952227095: 1,\n",
              " 0.004321486268174475: 1,\n",
              " 0.004333025617355182: 1,\n",
              " 0.004333348979224267: 1,\n",
              " 0.004343962771034077: 1,\n",
              " 0.004368890501116551: 2,\n",
              " 0.004369654651199871: 1,\n",
              " 0.004375608194641566: 1,\n",
              " 0.004403294949545376: 1,\n",
              " 0.004411750760211161: 1,\n",
              " 0.004413567118448171: 1,\n",
              " 0.0044214934434565764: 1,\n",
              " 0.004431099509312197: 1,\n",
              " 0.004431110085391184: 1,\n",
              " 0.004440620595966909: 1,\n",
              " 0.004447178902870865: 1,\n",
              " 0.004454188783752596: 2,\n",
              " 0.004461039760548499: 1,\n",
              " 0.004465728132933303: 1,\n",
              " 0.004477611940298498: 2,\n",
              " 0.0044856487414422766: 1,\n",
              " 0.004520073641442998: 1,\n",
              " 0.004524771071805343: 1,\n",
              " 0.004531946280326183: 1,\n",
              " 0.004536162467545489: 1,\n",
              " 0.004540733902607893: 1,\n",
              " 0.004558042926378952: 1,\n",
              " 0.004609202872747135: 1,\n",
              " 0.004621509346872836: 1,\n",
              " 0.0046272790214631895: 1,\n",
              " 0.0046445880452342485: 1,\n",
              " 0.004667666743595662: 1,\n",
              " 0.004669779853235467: 1,\n",
              " 0.004675434516277552: 1,\n",
              " 0.004681267594640822: 1,\n",
              " 0.004694001745793054: 1,\n",
              " 0.004700115535575445: 1,\n",
              " 0.00470228479113778: 1,\n",
              " 0.004703157523274104: 1,\n",
              " 0.0047233074218712276: 1,\n",
              " 0.004738520400760891: 1,\n",
              " 0.004754211862450957: 1,\n",
              " 0.004765751211631664: 1,\n",
              " 0.004771520886222017: 1,\n",
              " 0.004806259855742544: 1,\n",
              " 0.004818463800451013: 1,\n",
              " 0.004829217632125548: 2,\n",
              " 0.0048647281764156065: 1,\n",
              " 0.004875375028848373: 2,\n",
              " 0.004881324277094961: 1,\n",
              " 0.004882670693027212: 1,\n",
              " 0.0048849485801678565: 1,\n",
              " 0.004892150322437172: 1,\n",
              " 0.004909993076390492: 1,\n",
              " 0.004910048177981399: 1,\n",
              " 0.004921532425571198: 1,\n",
              " 0.0049255173599191925: 1,\n",
              " 0.00492616161737563: 1,\n",
              " 0.004950380798522964: 1,\n",
              " 0.00497512437810943: 1,\n",
              " 0.004984998846065082: 1,\n",
              " 0.004990768520655435: 1,\n",
              " 0.005013847219016847: 1,\n",
              " 0.005044795538007954: 1,\n",
              " 0.005054710718616001: 1,\n",
              " 0.005077313639510732: 1,\n",
              " 0.005078532410871771: 1,\n",
              " 0.005100392337872144: 1,\n",
              " 0.005114520791638877: 4,\n",
              " 0.005117701361643203: 1,\n",
              " 0.005158991552598182: 1,\n",
              " 0.0051869374567274406: 2,\n",
              " 0.005202319788970698: 1,\n",
              " 0.005222215738275715: 1,\n",
              " 0.00527925225017309: 1,\n",
              " 0.005313475668345946: 2,\n",
              " 0.0053915318934702515: 1,\n",
              " 0.00539848518683393: 1,\n",
              " 0.0054124185105624: 1,\n",
              " 0.005415393097370649: 1,\n",
              " 0.005417413711072017: 1,\n",
              " 0.005429104932585825: 1,\n",
              " 0.005433209822921649: 1,\n",
              " 0.005434222945839036: 1,\n",
              " 0.005440803138702977: 1,\n",
              " 0.00547263681592039: 7,\n",
              " 0.005518149623007793: 1,\n",
              " 0.0055439563727098466: 1,\n",
              " 0.005556196630510039: 1,\n",
              " 0.005559261730042231: 1,\n",
              " 0.005562662446549808: 1,\n",
              " 0.005573505654281098: 1,\n",
              " 0.005580535831010645: 1,\n",
              " 0.005596064429397557: 1,\n",
              " 0.0055993036342734115: 1,\n",
              " 0.005617005217963886: 1,\n",
              " 0.005625432725594276: 1,\n",
              " 0.005669697314285127: 1,\n",
              " 0.005682162229927112: 1,\n",
              " 0.00568643593244271: 1,\n",
              " 0.005700438495268867: 1,\n",
              " 0.005717747519039925: 1,\n",
              " 0.0057292868682206335: 1,\n",
              " 0.005735056542810985: 1,\n",
              " 0.005750124313028904: 1,\n",
              " 0.005752365566582045: 1,\n",
              " 0.005753016798729334: 1,\n",
              " 0.0057639049157627515: 1,\n",
              " 0.005769674590353103: 1,\n",
              " 0.005774044182982211: 1,\n",
              " 0.005781632199243936: 1,\n",
              " 0.005786983614124165: 1,\n",
              " 0.005804082120687587: 1,\n",
              " 0.005804292637895223: 3,\n",
              " 0.005810062312485576: 1,\n",
              " 0.005812599392530464: 1,\n",
              " 0.005815831987075929: 2,\n",
              " 0.0058170256894218295: 1,\n",
              " 0.005817731938782189: 1,\n",
              " 0.005820190117593376: 1,\n",
              " 0.0058216016616662826: 3,\n",
              " 0.0058262054601808015: 1,\n",
              " 0.0058266033341454965: 1,\n",
              " 0.005829531529131281: 1,\n",
              " 0.005832972791769947: 1,\n",
              " 0.005833001095200354: 1,\n",
              " 0.005833141010846987: 2,\n",
              " 0.0058332537470111015: 1,\n",
              " 0.005838910685437342: 2,\n",
              " 0.005840538723226431: 1,\n",
              " 0.005844351768404486: 1,\n",
              " 0.005845129550790069: 1,\n",
              " 0.005850061398064546: 1,\n",
              " 0.005850450034618047: 2,\n",
              " 0.005851125994131305: 1,\n",
              " 0.005851803657804988: 1,\n",
              " 0.005852901019118675: 1,\n",
              " 0.005853572532842109: 1,\n",
              " 0.005854792441729849: 1,\n",
              " 0.005854832277302549: 1,\n",
              " 0.005855512044102547: 1,\n",
              " 0.0058562197092084005: 2,\n",
              " 0.005856316209214597: 1,\n",
              " 0.005861989383798754: 4,\n",
              " 0.005865687546319518: 1,\n",
              " 0.005865701021068539: 1,\n",
              " 0.005865814835008788: 1,\n",
              " 0.00586735240545454: 1,\n",
              " 0.005867759058389107: 4,\n",
              " 0.005867857501683561: 1,\n",
              " 0.005870248315141063: 1,\n",
              " 0.00587051693838576: 1,\n",
              " 0.005871208076207023: 1,\n",
              " 0.00587259787975048: 1,\n",
              " 0.00587352873297946: 1,\n",
              " 0.005874426575701029: 1,\n",
              " 0.005875792791436294: 1,\n",
              " 0.0058769715462122325: 1,\n",
              " 0.005879298407569814: 2,\n",
              " 0.005879397103290026: 1,\n",
              " 0.0058821602313041685: 1,\n",
              " 0.005882263284063068: 1,\n",
              " 0.0058823613970232095: 1,\n",
              " 0.005882790459495522: 1,\n",
              " 0.005884885219713778: 1,\n",
              " 0.005885068082160165: 2,\n",
              " 0.005885666233546269: 1,\n",
              " 0.005885785700566173: 1,\n",
              " 0.0058908377567505185: 2,\n",
              " 0.005891482485152936: 1,\n",
              " 0.005891681344013117: 1,\n",
              " 0.005895751014361626: 1,\n",
              " 0.005896295549168153: 1,\n",
              " 0.0058966074313408735: 4,\n",
              " 0.005898053664265343: 1,\n",
              " 0.005898173876527956: 1,\n",
              " 0.0058990833370519: 1,\n",
              " 0.005900707408256106: 1,\n",
              " 0.005902377105931225: 4,\n",
              " 0.005902682409713946: 1,\n",
              " 0.00590799338681393: 1,\n",
              " 0.005908146780521578: 2,\n",
              " 0.005913916455111932: 2,\n",
              " 0.005915955533321728: 1,\n",
              " 0.0059177488399069405: 1,\n",
              " 0.005918641890748504: 1,\n",
              " 0.005919686129702285: 3,\n",
              " 0.005920449036907082: 1,\n",
              " 0.005925455804292638: 6,\n",
              " 0.00592981835130878: 1,\n",
              " 0.0059312254788829915: 1,\n",
              " 0.0059350126996346435: 1,\n",
              " 0.0059354030804273546: 1,\n",
              " 0.005935810012311308: 1,\n",
              " 0.005936108995914608: 1,\n",
              " 0.005936995153473345: 2,\n",
              " 0.005939579225575143: 1,\n",
              " 0.005940189842211522: 1,\n",
              " 0.005940731127123566: 1,\n",
              " 0.005942764828063696: 3,\n",
              " 0.005944055239106902: 1,\n",
              " 0.0059445962003376405: 1,\n",
              " 0.005945442677786992: 1,\n",
              " 0.00594853450265405: 1,\n",
              " 0.005951957950038336: 1,\n",
              " 0.005954304177244405: 1,\n",
              " 0.005957693725833517: 1,\n",
              " 0.005960073851834756: 3,\n",
              " 0.005963785130928756: 1,\n",
              " 0.005965402614237735: 1,\n",
              " 0.0059655964398779935: 1,\n",
              " 0.005965843526425109: 1,\n",
              " 0.005966048987260135: 1,\n",
              " 0.0059666176750252774: 1,\n",
              " 0.005968883609870076: 1,\n",
              " 0.005970149253731349: 4,\n",
              " 0.005971227155233009: 1,\n",
              " 0.0059713033546909605: 1,\n",
              " 0.005971613201015463: 1,\n",
              " 0.005973389400682349: 1,\n",
              " 0.005976419485639565: 1,\n",
              " 0.005977382875605816: 4,\n",
              " 0.005978545672999072: 1,\n",
              " 0.005979641352069741: 1,\n",
              " 0.005979981160962947: 1,\n",
              " 0.005984411397944439: 1,\n",
              " 0.005984911041314243: 1,\n",
              " 0.005987623757468163: 1,\n",
              " 0.005988426996156486: 1,\n",
              " 0.0059889222247865226: 1,\n",
              " 0.005989078871871668: 1,\n",
              " 0.005991917022715254: 1,\n",
              " 0.005994691899376876: 1,\n",
              " 0.005994851939697319: 1,\n",
              " 0.005995508625369217: 1,\n",
              " 0.005998946563532019: 1,\n",
              " 0.006000461573967227: 1,\n",
              " 0.006006231248557581: 2,\n",
              " 0.006006404131230971: 1,\n",
              " 0.006010520274293835: 1,\n",
              " 0.006012000923147936: 1,\n",
              " 0.0060152916757842635: 1,\n",
              " 0.006017971651099826: 1,\n",
              " 0.006021716272672: 1,\n",
              " 0.00602302359515197: 1,\n",
              " 0.0060235402723286405: 2,\n",
              " 0.00602820525955964: 1,\n",
              " 0.006035079621509347: 1,\n",
              " 0.0060408492960997: 1,\n",
              " 0.006045949638785332: 1,\n",
              " 0.006046618970690054: 1,\n",
              " 0.006052388645280407: 1,\n",
              " 0.006056340684129129: 1,\n",
              " 0.0060594716177625185: 1,\n",
              " 0.006063927994461112: 2,\n",
              " 0.00606636127340872: 1,\n",
              " 0.006080723714524389: 1,\n",
              " 0.006083317861060035: 1,\n",
              " 0.0060848690518861895: 1,\n",
              " 0.006087006692822525: 1,\n",
              " 0.006095308163369896: 1,\n",
              " 0.0060985460420032315: 2,\n",
              " 0.00610301380281523: 1,\n",
              " 0.006103718646965969: 1,\n",
              " 0.006127153607487899: 1,\n",
              " 0.006138933764135703: 1,\n",
              " 0.006149109143618452: 1,\n",
              " 0.006149177965016139: 1,\n",
              " 0.0061504731133164075: 1,\n",
              " 0.00617901697316562: 1,\n",
              " 0.0061838226408966745: 1,\n",
              " 0.006185091160858529: 1,\n",
              " 0.006187249755261869: 1,\n",
              " 0.006226373137647345: 3,\n",
              " 0.006245374246448545: 1,\n",
              " 0.006248307249468376: 1,\n",
              " 0.006252430255316428: 1,\n",
              " 0.006254327255942765: 1,\n",
              " 0.006260096930533118: 1,\n",
              " 0.00626586660512347: 1,\n",
              " 0.006266668631840546: 1,\n",
              " 0.006276191927065824: 1,\n",
              " 0.0062869295750561955: 1,\n",
              " 0.006306254327255943: 1,\n",
              " 0.006306326570439497: 1,\n",
              " 0.006312024001846296: 1,\n",
              " 0.006317793676436649: 1,\n",
              " 0.0063180605270032695: 1,\n",
              " 0.006323563351027001: 1,\n",
              " 0.006329333025617356: 1,\n",
              " 0.006339641578625531: 1,\n",
              " 0.006369720747749827: 1,\n",
              " 0.006371629573195386: 1,\n",
              " 0.006378925131874572: 1,\n",
              " 0.006381260096930532: 1,\n",
              " 0.006382939774989003: 1,\n",
              " 0.006387861728528782: 1,\n",
              " 0.006391448639267996: 1,\n",
              " 0.00639279944611124: 2,\n",
              " 0.006395486370500349: 1,\n",
              " 0.006398548494505491: 1,\n",
              " 0.006398569120701592: 1,\n",
              " 0.006402946854488585: 1,\n",
              " 0.006404338795291945: 3,\n",
              " 0.006410108469882298: 3,\n",
              " 0.006415878144472653: 2,\n",
              " 0.006417156835466028: 1,\n",
              " 0.006421647819063005: 2,\n",
              " 0.006427417493653358: 2,\n",
              " 0.006429952330555878: 1,\n",
              " 0.006437458528319328: 1,\n",
              " 0.006437633652460641: 1,\n",
              " 0.006438956842834063: 3,\n",
              " 0.0064486072441166855: 1,\n",
              " 0.0064487436068489945: 1,\n",
              " 0.006450496192014771: 4,\n",
              " 0.006454757466693473: 1,\n",
              " 0.0064561919331417895: 1,\n",
              " 0.006460061048526344: 1,\n",
              " 0.006460151314088972: 1,\n",
              " 0.0064676616915422536: 2,\n",
              " 0.00646912620425028: 1,\n",
              " 0.006471844408698301: 1,\n",
              " 0.006473574890376183: 3,\n",
              " 0.006474945166374351: 1,\n",
              " 0.006475813143963119: 1,\n",
              " 0.006477668121766871: 1,\n",
              " 0.006477692422637421: 1,\n",
              " 0.006478853817300431: 1,\n",
              " 0.006479344564966536: 1,\n",
              " 0.006482532784353712: 1,\n",
              " 0.006489088823616429: 1,\n",
              " 0.0064908839141472425: 1,\n",
              " 0.006496653588737594: 2,\n",
              " 0.006518698128765188: 1,\n",
              " 0.006519732287099007: 4,\n",
              " 0.0065198426658811546: 1,\n",
              " 0.006521726367700567: 1,\n",
              " 0.0065255019616893605: 3,\n",
              " 0.0065323600301373: 1,\n",
              " 0.006535227655281805: 1,\n",
              " 0.006537041310870067: 2,\n",
              " 0.006545486791339934: 1,\n",
              " 0.006548580660050774: 1,\n",
              " 0.006549807524238169: 1,\n",
              " 0.006554350334641125: 1,\n",
              " 0.006555728138466248: 1,\n",
              " 0.006558046433510284: 1,\n",
              " 0.0065658896838218335: 1,\n",
              " 0.0065698562236973165: 1,\n",
              " 0.006571659358412185: 1,\n",
              " 0.006572151297503894: 1,\n",
              " 0.0065766953177006406: 1,\n",
              " 0.006577429033002538: 1,\n",
              " 0.006588968382183245: 1,\n",
              " 0.0065916421920855: 1,\n",
              " 0.006600507731363951: 1,\n",
              " 0.0066042260439512475: 1,\n",
              " 0.00661981638411703: 1,\n",
              " 0.0066235864297253646: 1,\n",
              " 0.006626368225501435: 1,\n",
              " 0.00663394913661999: 1,\n",
              " 0.006640895453496423: 2,\n",
              " 0.006646665128086776: 1,\n",
              " 0.006652434802677129: 1,\n",
              " 0.006662900405344963: 1,\n",
              " 0.006675513501038542: 1,\n",
              " 0.006683386350822238: 1,\n",
              " 0.006692837857820328: 1,\n",
              " 0.00671013154858066: 1,\n",
              " 0.006715154936534339: 1,\n",
              " 0.006718556848991934: 1,\n",
              " 0.006725208717104388: 1,\n",
              " 0.0067332102469420735: 2,\n",
              " 0.006739413707265874: 1,\n",
              " 0.006764262739232683: 1,\n",
              " 0.006778199336412543: 1,\n",
              " 0.0067851373182552495: 1,\n",
              " 0.006792527250965318: 1,\n",
              " 0.006793209127945138: 1,\n",
              " 0.006802446342026309: 1,\n",
              " 0.006830906201271506: 1,\n",
              " 0.006837064389568427: 1,\n",
              " 0.006843283164871875: 1,\n",
              " 0.0068601430879298405: 1,\n",
              " 0.006863611322207031: 1,\n",
              " 0.006865912762520194: 1,\n",
              " 0.006883221786291254: 1,\n",
              " 0.006886125213642507: 1,\n",
              " 0.006892852639529419: 1,\n",
              " 0.0068956664792821165: 1,\n",
              " 0.006896406240679385: 1,\n",
              " 0.006906300484652667: 2,\n",
              " 0.006907411154683373: 1,\n",
              " 0.006910636288806282: 1,\n",
              " 0.0069193908114216175: 1,\n",
              " 0.006923609508423725: 1,\n",
              " 0.006935148857604431: 1,\n",
              " 0.006940918532194785: 1,\n",
              " 0.006944127906097622: 1,\n",
              " 0.006947215508525421: 1,\n",
              " 0.0069524578813754895: 2,\n",
              " 0.006952548887279858: 1,\n",
              " 0.006958227555965843: 1,\n",
              " 0.006962969169658564: 1,\n",
              " 0.006963997230556198: 2,\n",
              " 0.006964118097924789: 1,\n",
              " 0.006965174129353213: 6,\n",
              " 0.0069682151083861775: 1,\n",
              " 0.006968374982443824: 1,\n",
              " 0.006969766905146549: 1,\n",
              " 0.0069699202488361965: 1,\n",
              " 0.00697543766958932: 1,\n",
              " 0.006975536579736903: 1,\n",
              " 0.006978794274978102: 1,\n",
              " 0.006987075928917609: 2,\n",
              " 0.006998615278098316: 1,\n",
              " 0.007000290385695837: 1,\n",
              " 0.007004384952688669: 1,\n",
              " 0.00700844078422336: 1,\n",
              " 0.007010154627279021: 3,\n",
              " 0.007014206703764511: 1,\n",
              " 0.007015924301869374: 2,\n",
              " 0.0070185759343927906: 1,\n",
              " 0.0070192371613540475: 1,\n",
              " 0.007021693976459729: 1,\n",
              " 0.007021974363039292: 1,\n",
              " 0.0070274636510500805: 1,\n",
              " 0.007030714212180345: 1,\n",
              " 0.007030759795731488: 1,\n",
              " 0.007039003000230787: 1,\n",
              " 0.0070412305702458105: 1,\n",
              " 0.007042454272539225: 1,\n",
              " 0.007049939924179336: 1,\n",
              " 0.007050542349411494: 1,\n",
              " 0.007054349079703698: 1,\n",
              " 0.007055300138732674: 1,\n",
              " 0.007055433095549665: 1,\n",
              " 0.007056312024001847: 1,\n",
              " 0.0070620816985922: 1,\n",
              " 0.007063281843051058: 1,\n",
              " 0.007063987507811083: 1,\n",
              " 0.007067851373182552: 1,\n",
              " 0.007071858920447381: 1,\n",
              " 0.0070743587277621875: 1,\n",
              " 0.007076440664315161: 1,\n",
              " 0.00707939072236326: 1,\n",
              " 0.007082753803740632: 1,\n",
              " 0.0070841217929828336: 1,\n",
              " 0.007084419506596894: 1,\n",
              " 0.0070851603969536115: 1,\n",
              " 0.007088378094911349: 1,\n",
              " 0.007090868724498455: 1,\n",
              " 0.007090930071543965: 1,\n",
              " 0.007094391718943088: 1,\n",
              " 0.007096699746134318: 1,\n",
              " 0.007097541101228751: 1,\n",
              " 0.007102469420724671: 1,\n",
              " 0.007105110529819355: 1,\n",
              " 0.007115855014454053: 1,\n",
              " 0.007119778444495731: 1,\n",
              " 0.007125548119086083: 3,\n",
              " 0.007133942808773988: 1,\n",
              " 0.007140420772411235: 1,\n",
              " 0.007144295197063704: 1,\n",
              " 0.00715179795802663: 1,\n",
              " 0.007154396492037849: 1,\n",
              " 0.0071601661666282025: 1,\n",
              " 0.007164149866557973: 1,\n",
              " 0.007169785622882012: 1,\n",
              " 0.007171705515808909: 1,\n",
              " 0.007177475190399262: 1,\n",
              " 0.007178463772677408: 1,\n",
              " 0.007183244864989614: 1,\n",
              " 0.007184147173751626: 1,\n",
              " 0.007189014539579967: 1,\n",
              " 0.007189384522780636: 1,\n",
              " 0.007206323563351027: 1,\n",
              " 0.007214937519383951: 1,\n",
              " 0.007231692241746244: 1,\n",
              " ...}"
            ]
          },
          "metadata": {
            "tags": []
          },
          "execution_count": 382
        }
      ]
    },
    {
      "cell_type": "code",
      "metadata": {
        "colab": {
          "base_uri": "https://localhost:8080/"
        },
        "id": "sTQIMamf-f3X",
        "outputId": "017f8b07-9428-4404-ad85-636f3b0c56a6"
      },
      "source": [
        "X_sm.shape, y_sm.shape"
      ],
      "execution_count": null,
      "outputs": [
        {
          "output_type": "execute_result",
          "data": {
            "text/plain": [
              "((10100, 28), (10100,))"
            ]
          },
          "metadata": {
            "tags": []
          },
          "execution_count": 383
        }
      ]
    },
    {
      "cell_type": "markdown",
      "metadata": {
        "id": "1VXxoFWaVSZd"
      },
      "source": [
        "### Feature Selection:\n",
        "Information gain, SelectKBest"
      ]
    },
    {
      "cell_type": "code",
      "metadata": {
        "id": "9ubNxRe1zfto"
      },
      "source": [
        "from sklearn.feature_selection import SelectKBest, chi2\n",
        "from sklearn.model_selection import GridSearchCV\n",
        "from sklearn.tree import DecisionTreeClassifier\n",
        "from sklearn.ensemble import RandomForestClassifier\n",
        "from sklearn.linear_model import LogisticRegression\n",
        "from sklearn.metrics import accuracy_score, f1_score\n",
        "from sklearn.metrics import confusion_matrix, f1_score, classification_report\n",
        "import seaborn as sn\n",
        "from sklearn.preprocessing import StandardScaler\n",
        "from sklearn.model_selection import cross_val_score\n",
        "from sklearn.model_selection import KFold\n",
        "from numpy import set_printoptions\n",
        "import warnings\n",
        "warnings.filterwarnings(\"ignore\")"
      ],
      "execution_count": null,
      "outputs": []
    },
    {
      "cell_type": "markdown",
      "metadata": {
        "id": "kd4MwbTQxmnC"
      },
      "source": [
        "Information gain:"
      ]
    },
    {
      "cell_type": "code",
      "metadata": {
        "id": "c-ziSy6bv_I9"
      },
      "source": [
        "from sklearn.feature_selection import mutual_info_classif"
      ],
      "execution_count": null,
      "outputs": []
    },
    {
      "cell_type": "code",
      "metadata": {
        "id": "kecxZhFpwFQF"
      },
      "source": [
        "mutual_info = mutual_info_classif(X,y)"
      ],
      "execution_count": null,
      "outputs": []
    },
    {
      "cell_type": "code",
      "metadata": {
        "colab": {
          "base_uri": "https://localhost:8080/"
        },
        "id": "_s6p_-wxwMwA",
        "outputId": "070344cf-86dd-48be-fb24-3c68cbc6c2ec"
      },
      "source": [
        "mutual_data = pd.Series(mutual_info, index = X.columns)\n",
        "mutual_data.sort_values(ascending = False)"
      ],
      "execution_count": null,
      "outputs": [
        {
          "output_type": "execute_result",
          "data": {
            "text/plain": [
              "ChurnScore                                 0.375899\n",
              "Contract_Month-to-month                    0.085687\n",
              "TenureMonths                               0.073305\n",
              "Contract_Two year                          0.058301\n",
              "PaymentMethod_Electronic check             0.052714\n",
              "MonthlyCharges                             0.049331\n",
              "InternetService_Fiber optic                0.046232\n",
              "TotalCharges                               0.045151\n",
              "Dependents                                 0.041831\n",
              "InternetService_No                         0.030668\n",
              "OnlineSecurity                             0.022349\n",
              "Gender                                     0.021356\n",
              "TechSupport                                0.018893\n",
              "PaperlessBilling                           0.018818\n",
              "Contract_One year                          0.015448\n",
              "PaymentMethod_Bank transfer (automatic)    0.014360\n",
              "Partner                                    0.011336\n",
              "InternetService_DSL                        0.010900\n",
              "MultipleLines                              0.009016\n",
              "PaymentMethod_Credit card (automatic)      0.008475\n",
              "OnlineBackup                               0.007950\n",
              "StreamingTV                                0.006643\n",
              "SeniorCitizen                              0.005964\n",
              "StreamingMovies                            0.005026\n",
              "CLTV                                       0.000000\n",
              "DeviceProtection                           0.000000\n",
              "PhoneService                               0.000000\n",
              "PaymentMethod_Mailed check                 0.000000\n",
              "dtype: float64"
            ]
          },
          "metadata": {
            "tags": []
          },
          "execution_count": 387
        }
      ]
    },
    {
      "cell_type": "markdown",
      "metadata": {
        "id": "ZX9MSY7s3tdD"
      },
      "source": [
        "SelectKBest_1: "
      ]
    },
    {
      "cell_type": "code",
      "metadata": {
        "colab": {
          "base_uri": "https://localhost:8080/",
          "height": 233
        },
        "id": "G0rQvTPBKhyb",
        "outputId": "182164ec-aaab-4335-c6b4-9ea32cd989ff"
      },
      "source": [
        "sel_fea = SelectKBest(score_func=chi2, k=10).fit(X,y)\n",
        "sel_bool = sel_fea.get_support()\n",
        "X_sel = X[X.columns[sel_bool]]\n",
        "X_sel.head()"
      ],
      "execution_count": null,
      "outputs": [
        {
          "output_type": "execute_result",
          "data": {
            "text/html": [
              "<div>\n",
              "<style scoped>\n",
              "    .dataframe tbody tr th:only-of-type {\n",
              "        vertical-align: middle;\n",
              "    }\n",
              "\n",
              "    .dataframe tbody tr th {\n",
              "        vertical-align: top;\n",
              "    }\n",
              "\n",
              "    .dataframe thead th {\n",
              "        text-align: right;\n",
              "    }\n",
              "</style>\n",
              "<table border=\"1\" class=\"dataframe\">\n",
              "  <thead>\n",
              "    <tr style=\"text-align: right;\">\n",
              "      <th></th>\n",
              "      <th>Dependents</th>\n",
              "      <th>TenureMonths</th>\n",
              "      <th>OnlineSecurity</th>\n",
              "      <th>ChurnScore</th>\n",
              "      <th>InternetService_Fiber optic</th>\n",
              "      <th>InternetService_No</th>\n",
              "      <th>Contract_Month-to-month</th>\n",
              "      <th>Contract_One year</th>\n",
              "      <th>Contract_Two year</th>\n",
              "      <th>PaymentMethod_Electronic check</th>\n",
              "    </tr>\n",
              "  </thead>\n",
              "  <tbody>\n",
              "    <tr>\n",
              "      <th>0</th>\n",
              "      <td>0</td>\n",
              "      <td>0.014085</td>\n",
              "      <td>1</td>\n",
              "      <td>0.852632</td>\n",
              "      <td>0</td>\n",
              "      <td>0</td>\n",
              "      <td>1</td>\n",
              "      <td>0</td>\n",
              "      <td>0</td>\n",
              "      <td>0</td>\n",
              "    </tr>\n",
              "    <tr>\n",
              "      <th>1</th>\n",
              "      <td>1</td>\n",
              "      <td>0.014085</td>\n",
              "      <td>0</td>\n",
              "      <td>0.652632</td>\n",
              "      <td>1</td>\n",
              "      <td>0</td>\n",
              "      <td>1</td>\n",
              "      <td>0</td>\n",
              "      <td>0</td>\n",
              "      <td>1</td>\n",
              "    </tr>\n",
              "    <tr>\n",
              "      <th>2</th>\n",
              "      <td>1</td>\n",
              "      <td>0.098592</td>\n",
              "      <td>0</td>\n",
              "      <td>0.852632</td>\n",
              "      <td>1</td>\n",
              "      <td>0</td>\n",
              "      <td>1</td>\n",
              "      <td>0</td>\n",
              "      <td>0</td>\n",
              "      <td>1</td>\n",
              "    </tr>\n",
              "    <tr>\n",
              "      <th>3</th>\n",
              "      <td>1</td>\n",
              "      <td>0.380282</td>\n",
              "      <td>0</td>\n",
              "      <td>0.831579</td>\n",
              "      <td>1</td>\n",
              "      <td>0</td>\n",
              "      <td>1</td>\n",
              "      <td>0</td>\n",
              "      <td>0</td>\n",
              "      <td>1</td>\n",
              "    </tr>\n",
              "    <tr>\n",
              "      <th>4</th>\n",
              "      <td>1</td>\n",
              "      <td>0.676056</td>\n",
              "      <td>0</td>\n",
              "      <td>0.884211</td>\n",
              "      <td>1</td>\n",
              "      <td>0</td>\n",
              "      <td>1</td>\n",
              "      <td>0</td>\n",
              "      <td>0</td>\n",
              "      <td>0</td>\n",
              "    </tr>\n",
              "  </tbody>\n",
              "</table>\n",
              "</div>"
            ],
            "text/plain": [
              "   Dependents  TenureMonths  ...  Contract_Two year  PaymentMethod_Electronic check\n",
              "0           0      0.014085  ...                  0                               0\n",
              "1           1      0.014085  ...                  0                               1\n",
              "2           1      0.098592  ...                  0                               1\n",
              "3           1      0.380282  ...                  0                               1\n",
              "4           1      0.676056  ...                  0                               0\n",
              "\n",
              "[5 rows x 10 columns]"
            ]
          },
          "metadata": {
            "tags": []
          },
          "execution_count": 388
        }
      ]
    },
    {
      "cell_type": "markdown",
      "metadata": {
        "id": "40MrC1wILxaS"
      },
      "source": [
        "SelectKBest_2:"
      ]
    },
    {
      "cell_type": "code",
      "metadata": {
        "id": "r8G9_PLEns6l"
      },
      "source": [
        "top_features = SelectKBest(score_func=chi2, k=2)\n",
        "top_features_sel = top_features.fit(X,y)"
      ],
      "execution_count": null,
      "outputs": []
    },
    {
      "cell_type": "code",
      "metadata": {
        "colab": {
          "base_uri": "https://localhost:8080/"
        },
        "id": "S8GvetegnzO7",
        "outputId": "068d234f-05f0-426e-840d-307482216523"
      },
      "source": [
        "X.shape"
      ],
      "execution_count": null,
      "outputs": [
        {
          "output_type": "execute_result",
          "data": {
            "text/plain": [
              "(7032, 28)"
            ]
          },
          "metadata": {
            "tags": []
          },
          "execution_count": 390
        }
      ]
    },
    {
      "cell_type": "code",
      "metadata": {
        "colab": {
          "base_uri": "https://localhost:8080/",
          "height": 345
        },
        "id": "WuCcB3By2CRX",
        "outputId": "477157e3-f778-4114-a6e2-c2d1c783746f"
      },
      "source": [
        "df_scores= pd.DataFrame(top_features_sel.scores_, columns=['Score'])\n",
        "df_columns = pd.DataFrame(X.columns)\n",
        "feature_rank = pd.concat([df_scores, df_columns], axis=1)\n",
        "feature_rank.columns = ['score', 'features']\n",
        "feature_rank.nlargest(10, 'score')"
      ],
      "execution_count": null,
      "outputs": [
        {
          "output_type": "execute_result",
          "data": {
            "text/html": [
              "<div>\n",
              "<style scoped>\n",
              "    .dataframe tbody tr th:only-of-type {\n",
              "        vertical-align: middle;\n",
              "    }\n",
              "\n",
              "    .dataframe tbody tr th {\n",
              "        vertical-align: top;\n",
              "    }\n",
              "\n",
              "    .dataframe thead th {\n",
              "        text-align: right;\n",
              "    }\n",
              "</style>\n",
              "<table border=\"1\" class=\"dataframe\">\n",
              "  <thead>\n",
              "    <tr style=\"text-align: right;\">\n",
              "      <th></th>\n",
              "      <th>score</th>\n",
              "      <th>features</th>\n",
              "    </tr>\n",
              "  </thead>\n",
              "  <tbody>\n",
              "    <tr>\n",
              "      <th>21</th>\n",
              "      <td>516.714004</td>\n",
              "      <td>Contract_Month-to-month</td>\n",
              "    </tr>\n",
              "    <tr>\n",
              "      <th>23</th>\n",
              "      <td>486.223101</td>\n",
              "      <td>Contract_Two year</td>\n",
              "    </tr>\n",
              "    <tr>\n",
              "      <th>26</th>\n",
              "      <td>424.113152</td>\n",
              "      <td>PaymentMethod_Electronic check</td>\n",
              "    </tr>\n",
              "    <tr>\n",
              "      <th>19</th>\n",
              "      <td>372.082851</td>\n",
              "      <td>InternetService_Fiber optic</td>\n",
              "    </tr>\n",
              "    <tr>\n",
              "      <th>3</th>\n",
              "      <td>333.236458</td>\n",
              "      <td>Dependents</td>\n",
              "    </tr>\n",
              "    <tr>\n",
              "      <th>20</th>\n",
              "      <td>285.475152</td>\n",
              "      <td>InternetService_No</td>\n",
              "    </tr>\n",
              "    <tr>\n",
              "      <th>16</th>\n",
              "      <td>282.449395</td>\n",
              "      <td>ChurnScore</td>\n",
              "    </tr>\n",
              "    <tr>\n",
              "      <th>4</th>\n",
              "      <td>238.007569</td>\n",
              "      <td>TenureMonths</td>\n",
              "    </tr>\n",
              "    <tr>\n",
              "      <th>22</th>\n",
              "      <td>176.608724</td>\n",
              "      <td>Contract_One year</td>\n",
              "    </tr>\n",
              "    <tr>\n",
              "      <th>7</th>\n",
              "      <td>147.165601</td>\n",
              "      <td>OnlineSecurity</td>\n",
              "    </tr>\n",
              "  </tbody>\n",
              "</table>\n",
              "</div>"
            ],
            "text/plain": [
              "         score                        features\n",
              "21  516.714004         Contract_Month-to-month\n",
              "23  486.223101               Contract_Two year\n",
              "26  424.113152  PaymentMethod_Electronic check\n",
              "19  372.082851     InternetService_Fiber optic\n",
              "3   333.236458                      Dependents\n",
              "20  285.475152              InternetService_No\n",
              "16  282.449395                      ChurnScore\n",
              "4   238.007569                    TenureMonths\n",
              "22  176.608724               Contract_One year\n",
              "7   147.165601                  OnlineSecurity"
            ]
          },
          "metadata": {
            "tags": []
          },
          "execution_count": 391
        }
      ]
    },
    {
      "cell_type": "markdown",
      "metadata": {
        "id": "qk7ly40yZJ0K"
      },
      "source": [
        "SelectKBest_3:"
      ]
    },
    {
      "cell_type": "code",
      "metadata": {
        "colab": {
          "base_uri": "https://localhost:8080/"
        },
        "id": "GOTVVCYgZQhl",
        "outputId": "08f38d93-eaea-4846-ccb9-917148d621cf"
      },
      "source": [
        "test = SelectKBest(score_func=chi2, k=4)\n",
        "fit = test.fit(X, y)\n",
        "# summarize scores\n",
        "set_printoptions(precision=3)\n",
        "print(fit.scores_)\n",
        "features = fit.transform(X)\n",
        "# summarize selected features\n",
        "print(features[0:5,:])"
      ],
      "execution_count": null,
      "outputs": [
        {
          "output_type": "stream",
          "text": [
            "[2.543e-01 1.335e+02 8.186e+01 3.332e+02 2.380e+02 9.295e-02 6.515e+00\n",
            " 1.472e+02 3.121e+01 2.022e+01 1.354e+02 1.732e+01 1.593e+01 1.050e+02\n",
            " 5.060e+01 7.326e+01 2.824e+02 1.499e+01 7.114e+01 3.721e+02 2.855e+02\n",
            " 5.167e+02 1.766e+02 4.862e+02 7.662e+01 9.997e+01 4.241e+02 4.473e+01]\n",
            "[[0. 1. 0. 0.]\n",
            " [1. 1. 0. 1.]\n",
            " [1. 1. 0. 1.]\n",
            " [1. 1. 0. 1.]\n",
            " [1. 1. 0. 0.]]\n"
          ],
          "name": "stdout"
        }
      ]
    },
    {
      "cell_type": "markdown",
      "metadata": {
        "id": "4VGMwQzJOy6q"
      },
      "source": [
        "### GridsearchCV Hyperparameter tuning \n",
        "### Logistic Regression, Decision Tree, SVM, Random Forest\n",
        "## 1. Logistic Regression: "
      ]
    },
    {
      "cell_type": "code",
      "metadata": {
        "id": "pjU0l7KYPeYk"
      },
      "source": [
        "lr_model = LogisticRegression()"
      ],
      "execution_count": null,
      "outputs": []
    },
    {
      "cell_type": "code",
      "metadata": {
        "colab": {
          "base_uri": "https://localhost:8080/"
        },
        "id": "OEzzPbJqLFfW",
        "outputId": "22099741-e866-48dd-aad2-f8a176eb87e9"
      },
      "source": [
        "lr_model_1 = lr_model.fit(X_train,y_train)\n",
        "lr_model_1"
      ],
      "execution_count": null,
      "outputs": [
        {
          "output_type": "execute_result",
          "data": {
            "text/plain": [
              "LogisticRegression(C=1.0, class_weight=None, dual=False, fit_intercept=True,\n",
              "                   intercept_scaling=1, l1_ratio=None, max_iter=100,\n",
              "                   multi_class='auto', n_jobs=None, penalty='l2',\n",
              "                   random_state=None, solver='lbfgs', tol=0.0001, verbose=0,\n",
              "                   warm_start=False)"
            ]
          },
          "metadata": {
            "tags": []
          },
          "execution_count": 394
        }
      ]
    },
    {
      "cell_type": "code",
      "metadata": {
        "id": "akDHk24oNgJL"
      },
      "source": [
        "lr_grid_param = {'C' : [2],\n",
        "                 'penalty' : ['l2'],\n",
        "                 'random_state' : [None], \n",
        "                 'max_iter' : [1000]}"
      ],
      "execution_count": null,
      "outputs": []
    },
    {
      "cell_type": "code",
      "metadata": {
        "id": "C6W1Y_99PeMi"
      },
      "source": [
        "lr_grid = GridSearchCV(lr_model_1, param_grid=lr_grid_param, n_jobs=-1, cv=None)"
      ],
      "execution_count": null,
      "outputs": []
    },
    {
      "cell_type": "code",
      "metadata": {
        "colab": {
          "base_uri": "https://localhost:8080/"
        },
        "id": "Wx7rZDZpQUNF",
        "outputId": "7f6a2865-f6f3-4216-c557-b68c0c13459a"
      },
      "source": [
        "lr_grid_model = lr_grid.fit(X_train,y_train)\n",
        "lr_grid_model"
      ],
      "execution_count": null,
      "outputs": [
        {
          "output_type": "execute_result",
          "data": {
            "text/plain": [
              "GridSearchCV(cv=None, error_score=nan,\n",
              "             estimator=LogisticRegression(C=1.0, class_weight=None, dual=False,\n",
              "                                          fit_intercept=True,\n",
              "                                          intercept_scaling=1, l1_ratio=None,\n",
              "                                          max_iter=100, multi_class='auto',\n",
              "                                          n_jobs=None, penalty='l2',\n",
              "                                          random_state=None, solver='lbfgs',\n",
              "                                          tol=0.0001, verbose=0,\n",
              "                                          warm_start=False),\n",
              "             iid='deprecated', n_jobs=-1,\n",
              "             param_grid={'C': [2], 'max_iter': [1000], 'penalty': ['l2'],\n",
              "                         'random_state': [None]},\n",
              "             pre_dispatch='2*n_jobs', refit=True, return_train_score=False,\n",
              "             scoring=None, verbose=0)"
            ]
          },
          "metadata": {
            "tags": []
          },
          "execution_count": 397
        }
      ]
    },
    {
      "cell_type": "code",
      "metadata": {
        "colab": {
          "base_uri": "https://localhost:8080/"
        },
        "id": "KjqiCrXfQroK",
        "outputId": "f6c7e051-f520-4636-c439-09099b30eb68"
      },
      "source": [
        "lr_grid_model.best_estimator_"
      ],
      "execution_count": null,
      "outputs": [
        {
          "output_type": "execute_result",
          "data": {
            "text/plain": [
              "LogisticRegression(C=2, class_weight=None, dual=False, fit_intercept=True,\n",
              "                   intercept_scaling=1, l1_ratio=None, max_iter=1000,\n",
              "                   multi_class='auto', n_jobs=None, penalty='l2',\n",
              "                   random_state=None, solver='lbfgs', tol=0.0001, verbose=0,\n",
              "                   warm_start=False)"
            ]
          },
          "metadata": {
            "tags": []
          },
          "execution_count": 398
        }
      ]
    },
    {
      "cell_type": "code",
      "metadata": {
        "colab": {
          "base_uri": "https://localhost:8080/"
        },
        "id": "FAX2f9S4ROA-",
        "outputId": "a56ef297-9142-402b-91e8-35d58d088c1f"
      },
      "source": [
        "lr_grid_model.best_params_"
      ],
      "execution_count": null,
      "outputs": [
        {
          "output_type": "execute_result",
          "data": {
            "text/plain": [
              "{'C': 2, 'max_iter': 1000, 'penalty': 'l2', 'random_state': None}"
            ]
          },
          "metadata": {
            "tags": []
          },
          "execution_count": 399
        }
      ]
    },
    {
      "cell_type": "code",
      "metadata": {
        "colab": {
          "base_uri": "https://localhost:8080/"
        },
        "id": "du3kaagRRR8W",
        "outputId": "74ea0db6-165e-4c38-a0fa-e597c1df0292"
      },
      "source": [
        "lr_grid_model.best_score_"
      ],
      "execution_count": null,
      "outputs": [
        {
          "output_type": "execute_result",
          "data": {
            "text/plain": [
              "0.930940594059406"
            ]
          },
          "metadata": {
            "tags": []
          },
          "execution_count": 400
        }
      ]
    },
    {
      "cell_type": "code",
      "metadata": {
        "colab": {
          "base_uri": "https://localhost:8080/"
        },
        "id": "rXX5T1t7Rbd4",
        "outputId": "2dd7dfa6-28b1-4940-e55e-804b9e7f3444"
      },
      "source": [
        "yp_lr_grid_model = lr_grid_model.predict(X_test)\n",
        "yp_lr_grid_model[:10]"
      ],
      "execution_count": null,
      "outputs": [
        {
          "output_type": "execute_result",
          "data": {
            "text/plain": [
              "array([0, 0, 0, 1, 1, 1, 0, 0, 1, 0])"
            ]
          },
          "metadata": {
            "tags": []
          },
          "execution_count": 401
        }
      ]
    },
    {
      "cell_type": "code",
      "metadata": {
        "colab": {
          "base_uri": "https://localhost:8080/"
        },
        "id": "dvUR0RobGnjZ",
        "outputId": "10d38ae8-5920-4540-a067-84d3cc8ba1aa"
      },
      "source": [
        "yp_lr_model_1 =lr_model_1.predict(X_test)\n",
        "yp_lr_model_1[:10]"
      ],
      "execution_count": null,
      "outputs": [
        {
          "output_type": "execute_result",
          "data": {
            "text/plain": [
              "array([0, 0, 0, 1, 1, 1, 0, 0, 1, 0])"
            ]
          },
          "metadata": {
            "tags": []
          },
          "execution_count": 402
        }
      ]
    },
    {
      "cell_type": "code",
      "metadata": {
        "colab": {
          "base_uri": "https://localhost:8080/"
        },
        "id": "CNzN8drVHxRq",
        "outputId": "5295608d-ee36-469b-d5bb-bdf62ccde0dc"
      },
      "source": [
        "y_test[:10]"
      ],
      "execution_count": null,
      "outputs": [
        {
          "output_type": "execute_result",
          "data": {
            "text/plain": [
              "array([0, 0, 0, 1, 1, 1, 0, 0, 1, 0])"
            ]
          },
          "metadata": {
            "tags": []
          },
          "execution_count": 403
        }
      ]
    },
    {
      "cell_type": "markdown",
      "metadata": {
        "id": "sijnnMFCYVsA"
      },
      "source": [
        "Evaluation : Classification_report, cross_val_score, confusion matrix"
      ]
    },
    {
      "cell_type": "code",
      "metadata": {
        "colab": {
          "base_uri": "https://localhost:8080/"
        },
        "id": "yJq6ljiXIDme",
        "outputId": "2900ca53-78ec-4265-a982-2e54f037ec0d"
      },
      "source": [
        "print(classification_report(y_test, yp_lr_model_1))"
      ],
      "execution_count": null,
      "outputs": [
        {
          "output_type": "stream",
          "text": [
            "              precision    recall  f1-score   support\n",
            "\n",
            "           0       0.94      0.92      0.93      1010\n",
            "           1       0.92      0.94      0.93      1010\n",
            "\n",
            "    accuracy                           0.93      2020\n",
            "   macro avg       0.93      0.93      0.93      2020\n",
            "weighted avg       0.93      0.93      0.93      2020\n",
            "\n"
          ],
          "name": "stdout"
        }
      ]
    },
    {
      "cell_type": "code",
      "metadata": {
        "colab": {
          "base_uri": "https://localhost:8080/"
        },
        "id": "_KrHNeFOH-N8",
        "outputId": "89cf87bf-6c80-4bd3-a0e0-3f02f2988aa1"
      },
      "source": [
        "cm = confusion_matrix(y_test, yp_lr_model_1)\n",
        "cm"
      ],
      "execution_count": null,
      "outputs": [
        {
          "output_type": "execute_result",
          "data": {
            "text/plain": [
              "array([[927,  83],\n",
              "       [ 60, 950]])"
            ]
          },
          "metadata": {
            "tags": []
          },
          "execution_count": 405
        }
      ]
    },
    {
      "cell_type": "code",
      "metadata": {
        "colab": {
          "base_uri": "https://localhost:8080/"
        },
        "id": "lxuZH6B8ND3n",
        "outputId": "aa4c88aa-a34e-44dc-f6d4-5b95ea401fa1"
      },
      "source": [
        "KFold_validation = KFold(10)\n",
        "results = cross_val_score(lr_model_1, X, y, cv=KFold_validation)\n",
        "print (results)\n",
        "print(np.mean(results))"
      ],
      "execution_count": null,
      "outputs": [
        {
          "output_type": "stream",
          "text": [
            "[0.77  0.777 0.865 0.937 0.956 0.935 0.94  0.939 0.947 0.937]\n",
            "0.9003489509246088\n"
          ],
          "name": "stdout"
        }
      ]
    },
    {
      "cell_type": "code",
      "metadata": {
        "colab": {
          "base_uri": "https://localhost:8080/"
        },
        "id": "_XOT9-hpSGJ-",
        "outputId": "9017ab21-9a7d-4c16-a200-63fbe8f1815d"
      },
      "source": [
        "KFold_validation = KFold(10)\n",
        "results = cross_val_score(lr_grid_model, X, y, cv=KFold_validation)\n",
        "print (results)\n",
        "print(np.mean(results))"
      ],
      "execution_count": null,
      "outputs": [
        {
          "output_type": "stream",
          "text": [
            "[0.776 0.788 0.868 0.939 0.954 0.933 0.94  0.936 0.946 0.936]\n",
            "0.9016267538471487\n"
          ],
          "name": "stdout"
        }
      ]
    },
    {
      "cell_type": "code",
      "metadata": {
        "colab": {
          "base_uri": "https://localhost:8080/"
        },
        "id": "CYUAJFasS8e4",
        "outputId": "9bf15bf8-5724-4799-da78-394db34f4884"
      },
      "source": [
        "print(confusion_matrix(y_test, yp_lr_model_1))\n",
        "print(accuracy_score(y_test, yp_lr_model_1))\n",
        "print(classification_report(y_test, yp_lr_model_1))"
      ],
      "execution_count": null,
      "outputs": [
        {
          "output_type": "stream",
          "text": [
            "[[927  83]\n",
            " [ 60 950]]\n",
            "0.9292079207920793\n",
            "              precision    recall  f1-score   support\n",
            "\n",
            "           0       0.94      0.92      0.93      1010\n",
            "           1       0.92      0.94      0.93      1010\n",
            "\n",
            "    accuracy                           0.93      2020\n",
            "   macro avg       0.93      0.93      0.93      2020\n",
            "weighted avg       0.93      0.93      0.93      2020\n",
            "\n"
          ],
          "name": "stdout"
        }
      ]
    },
    {
      "cell_type": "code",
      "metadata": {
        "colab": {
          "base_uri": "https://localhost:8080/"
        },
        "id": "WohVPQD6THqF",
        "outputId": "45ff4e4c-6d7d-4676-fc6d-28555cbd88b6"
      },
      "source": [
        "print(confusion_matrix(y_test, yp_lr_grid_model))\n",
        "print(accuracy_score(y_test, yp_lr_grid_model))\n",
        "print(classification_report(y_test, yp_lr_grid_model))"
      ],
      "execution_count": null,
      "outputs": [
        {
          "output_type": "stream",
          "text": [
            "[[930  80]\n",
            " [ 59 951]]\n",
            "0.9311881188118812\n",
            "              precision    recall  f1-score   support\n",
            "\n",
            "           0       0.94      0.92      0.93      1010\n",
            "           1       0.92      0.94      0.93      1010\n",
            "\n",
            "    accuracy                           0.93      2020\n",
            "   macro avg       0.93      0.93      0.93      2020\n",
            "weighted avg       0.93      0.93      0.93      2020\n",
            "\n"
          ],
          "name": "stdout"
        }
      ]
    },
    {
      "cell_type": "markdown",
      "metadata": {
        "id": "3TQ6E57-OoUM"
      },
      "source": [
        "## 2. Random Forest"
      ]
    },
    {
      "cell_type": "code",
      "metadata": {
        "colab": {
          "base_uri": "https://localhost:8080/"
        },
        "id": "iD9P95G0bAVv",
        "outputId": "f747cebc-5c00-427d-8f9a-ec617b079379"
      },
      "source": [
        "rf_model_1 = RandomForestClassifier(n_estimators=500)\n",
        "rf_model_1.fit(X_train,y_train)"
      ],
      "execution_count": null,
      "outputs": [
        {
          "output_type": "execute_result",
          "data": {
            "text/plain": [
              "RandomForestClassifier(bootstrap=True, ccp_alpha=0.0, class_weight=None,\n",
              "                       criterion='gini', max_depth=None, max_features='auto',\n",
              "                       max_leaf_nodes=None, max_samples=None,\n",
              "                       min_impurity_decrease=0.0, min_impurity_split=None,\n",
              "                       min_samples_leaf=1, min_samples_split=2,\n",
              "                       min_weight_fraction_leaf=0.0, n_estimators=500,\n",
              "                       n_jobs=None, oob_score=False, random_state=None,\n",
              "                       verbose=0, warm_start=False)"
            ]
          },
          "metadata": {
            "tags": []
          },
          "execution_count": 410
        }
      ]
    },
    {
      "cell_type": "code",
      "metadata": {
        "id": "UgapQo2KMo5H"
      },
      "source": [
        "# yp is y prediction\n",
        "yp_rf_2 = rf_model_1.predict(X_test)"
      ],
      "execution_count": null,
      "outputs": []
    },
    {
      "cell_type": "code",
      "metadata": {
        "colab": {
          "base_uri": "https://localhost:8080/"
        },
        "id": "8xRaUT-7Mtma",
        "outputId": "67afff5c-193f-4136-d922-32bc844311b1"
      },
      "source": [
        "yp_rf_2[:20]"
      ],
      "execution_count": null,
      "outputs": [
        {
          "output_type": "execute_result",
          "data": {
            "text/plain": [
              "array([0, 0, 0, 1, 1, 1, 0, 0, 1, 0, 0, 0, 0, 0, 1, 1, 0, 0, 1, 0])"
            ]
          },
          "metadata": {
            "tags": []
          },
          "execution_count": 412
        }
      ]
    },
    {
      "cell_type": "code",
      "metadata": {
        "colab": {
          "base_uri": "https://localhost:8080/"
        },
        "id": "hGcpV_kYce6D",
        "outputId": "cc4ec2b3-5f2e-4179-ab0e-ebdb979f954a"
      },
      "source": [
        "y_test[:20]"
      ],
      "execution_count": null,
      "outputs": [
        {
          "output_type": "execute_result",
          "data": {
            "text/plain": [
              "array([0, 0, 0, 1, 1, 1, 0, 0, 1, 0, 0, 0, 0, 0, 1, 1, 0, 0, 1, 0])"
            ]
          },
          "metadata": {
            "tags": []
          },
          "execution_count": 413
        }
      ]
    },
    {
      "cell_type": "code",
      "metadata": {
        "colab": {
          "base_uri": "https://localhost:8080/"
        },
        "id": "mjQIwPDRcvZP",
        "outputId": "5ede6c2e-7a60-4ed5-cc0f-4e5adbfdb5b4"
      },
      "source": [
        "cm = confusion_matrix(y_test, yp_rf_2)\n",
        "cm"
      ],
      "execution_count": null,
      "outputs": [
        {
          "output_type": "execute_result",
          "data": {
            "text/plain": [
              "array([[955,  55],\n",
              "       [ 39, 971]])"
            ]
          },
          "metadata": {
            "tags": []
          },
          "execution_count": 414
        }
      ]
    },
    {
      "cell_type": "code",
      "metadata": {
        "colab": {
          "base_uri": "https://localhost:8080/"
        },
        "id": "P1p9TRZMdgn9",
        "outputId": "555b4d1c-7d78-4d04-ae39-5cb3daa3f078"
      },
      "source": [
        "print(classification_report(y_test, yp_rf_2))"
      ],
      "execution_count": null,
      "outputs": [
        {
          "output_type": "stream",
          "text": [
            "              precision    recall  f1-score   support\n",
            "\n",
            "           0       0.96      0.95      0.95      1010\n",
            "           1       0.95      0.96      0.95      1010\n",
            "\n",
            "    accuracy                           0.95      2020\n",
            "   macro avg       0.95      0.95      0.95      2020\n",
            "weighted avg       0.95      0.95      0.95      2020\n",
            "\n"
          ],
          "name": "stdout"
        }
      ]
    },
    {
      "cell_type": "code",
      "metadata": {
        "colab": {
          "base_uri": "https://localhost:8080/"
        },
        "id": "ewJ5LRq_N7Is",
        "outputId": "74c5590c-67c1-48a5-ff32-38e1cc40c149"
      },
      "source": [
        ">>> unique, counts = np.unique(y_train, return_counts=True)\n",
        ">>> dict(zip(unique, counts))"
      ],
      "execution_count": null,
      "outputs": [
        {
          "output_type": "execute_result",
          "data": {
            "text/plain": [
              "{0: 4040, 1: 4040}"
            ]
          },
          "metadata": {
            "tags": []
          },
          "execution_count": 416
        }
      ]
    },
    {
      "cell_type": "code",
      "metadata": {
        "id": "Tw7w8AiuN-jX"
      },
      "source": [
        "param_rf_grid = {'n_estimators' : (10, 30, 500),\n",
        "                      'criterion' : ['entropy'],\n",
        "                      'max_depth' :(3, 5, 7, 9, 10),\n",
        "                      'min_samples_split' :(2, 4, 6),\n",
        "#                     'min_samples_leaf' :min_samples_leaf,\n",
        "                      'max_features' :['sqrt']}                    "
      ],
      "execution_count": null,
      "outputs": []
    },
    {
      "cell_type": "code",
      "metadata": {
        "colab": {
          "base_uri": "https://localhost:8080/"
        },
        "id": "JgZlZujcNJ9D",
        "outputId": "9843da32-48f1-4ce5-a8b6-f8ec14bf4a0f"
      },
      "source": [
        "rf_grid= GridSearchCV(RandomForestClassifier(n_jobs=-1, oob_score=False), param_grid=param_rf_grid, verbose= True)\n",
        "rf_grid_model = rf_grid.fit(X_train, y_train)"
      ],
      "execution_count": null,
      "outputs": [
        {
          "output_type": "stream",
          "text": [
            "Fitting 5 folds for each of 45 candidates, totalling 225 fits\n"
          ],
          "name": "stdout"
        },
        {
          "output_type": "stream",
          "text": [
            "[Parallel(n_jobs=1)]: Using backend SequentialBackend with 1 concurrent workers.\n",
            "[Parallel(n_jobs=1)]: Done 225 out of 225 | elapsed:  4.9min finished\n"
          ],
          "name": "stderr"
        }
      ]
    },
    {
      "cell_type": "code",
      "metadata": {
        "colab": {
          "base_uri": "https://localhost:8080/"
        },
        "id": "dCBAHOorPPdO",
        "outputId": "05d235aa-d8e6-4562-d03c-042291d8170a"
      },
      "source": [
        "rf_grid_model.best_estimator_"
      ],
      "execution_count": null,
      "outputs": [
        {
          "output_type": "execute_result",
          "data": {
            "text/plain": [
              "RandomForestClassifier(bootstrap=True, ccp_alpha=0.0, class_weight=None,\n",
              "                       criterion='entropy', max_depth=10, max_features='sqrt',\n",
              "                       max_leaf_nodes=None, max_samples=None,\n",
              "                       min_impurity_decrease=0.0, min_impurity_split=None,\n",
              "                       min_samples_leaf=1, min_samples_split=2,\n",
              "                       min_weight_fraction_leaf=0.0, n_estimators=500,\n",
              "                       n_jobs=-1, oob_score=False, random_state=None, verbose=0,\n",
              "                       warm_start=False)"
            ]
          },
          "metadata": {
            "tags": []
          },
          "execution_count": 428
        }
      ]
    },
    {
      "cell_type": "code",
      "metadata": {
        "colab": {
          "base_uri": "https://localhost:8080/"
        },
        "id": "-DDwF4GNUani",
        "outputId": "abf513f7-1153-4730-ce0e-859d8e78b89d"
      },
      "source": [
        "rf_grid_model.best_score_"
      ],
      "execution_count": null,
      "outputs": [
        {
          "output_type": "execute_result",
          "data": {
            "text/plain": [
              "0.9493811881188119"
            ]
          },
          "metadata": {
            "tags": []
          },
          "execution_count": 429
        }
      ]
    },
    {
      "cell_type": "code",
      "metadata": {
        "id": "Sms1RsAvUfL9"
      },
      "source": [
        "#building model with best parameters\n",
        "rf_model_1 = RandomForestClassifier(bootstrap=True, ccp_alpha=0.0, class_weight=None,\n",
        "                       criterion='entropy', max_depth=10, max_features='auto',\n",
        "                       max_leaf_nodes=None, max_samples=None,\n",
        "                       min_impurity_decrease=0.0, min_impurity_split=None,\n",
        "                       min_samples_leaf=1, min_samples_split=2,\n",
        "                       min_weight_fraction_leaf=0.0, n_estimators=90, n_jobs=-1,\n",
        "                       oob_score=False, random_state=None, verbose=0,\n",
        "                       warm_start=False)"
      ],
      "execution_count": null,
      "outputs": []
    },
    {
      "cell_type": "code",
      "metadata": {
        "colab": {
          "base_uri": "https://localhost:8080/"
        },
        "id": "Y00U7bUuU6gZ",
        "outputId": "30c82e87-9621-406c-e3bc-925932d701ae"
      },
      "source": [
        "rf_model_1.fit(X_train, y_train)"
      ],
      "execution_count": null,
      "outputs": [
        {
          "output_type": "execute_result",
          "data": {
            "text/plain": [
              "RandomForestClassifier(bootstrap=True, ccp_alpha=0.0, class_weight=None,\n",
              "                       criterion='entropy', max_depth=10, max_features='auto',\n",
              "                       max_leaf_nodes=None, max_samples=None,\n",
              "                       min_impurity_decrease=0.0, min_impurity_split=None,\n",
              "                       min_samples_leaf=1, min_samples_split=2,\n",
              "                       min_weight_fraction_leaf=0.0, n_estimators=90, n_jobs=-1,\n",
              "                       oob_score=False, random_state=None, verbose=0,\n",
              "                       warm_start=False)"
            ]
          },
          "metadata": {
            "tags": []
          },
          "execution_count": 431
        }
      ]
    },
    {
      "cell_type": "markdown",
      "metadata": {
        "id": "C0Xir5aAVMN7"
      },
      "source": [
        "Model Evaluation: "
      ]
    },
    {
      "cell_type": "code",
      "metadata": {
        "id": "gJj4zmRnGGZ8"
      },
      "source": [
        "KFold_validation = KFold(10)"
      ],
      "execution_count": null,
      "outputs": []
    },
    {
      "cell_type": "code",
      "metadata": {
        "colab": {
          "base_uri": "https://localhost:8080/"
        },
        "id": "OTTCJy6EJStg",
        "outputId": "9a121746-89b4-4512-e3cb-a3921bc6efa1"
      },
      "source": [
        "results = cross_val_score(rf_model_1, X, y, cv=KFold_validation)\n",
        "print (results)\n",
        "print(np.mean(results))"
      ],
      "execution_count": null,
      "outputs": [
        {
          "output_type": "stream",
          "text": [
            "[0.795 0.768 0.892 0.947 0.95  0.949 0.94  0.925 0.957 0.94 ]\n",
            "0.9064631692098798\n"
          ],
          "name": "stdout"
        }
      ]
    },
    {
      "cell_type": "code",
      "metadata": {
        "colab": {
          "base_uri": "https://localhost:8080/"
        },
        "id": "9rU4JdEAUaLP",
        "outputId": "18928621-db0a-4138-c74b-c052f4f6b4ec"
      },
      "source": [
        "results = cross_val_score(rf_model_1, X, y, cv=KFold_validation)\n",
        "print (results)\n",
        "print(np.mean(results))"
      ],
      "execution_count": null,
      "outputs": [
        {
          "output_type": "stream",
          "text": [
            "[0.791 0.783 0.886 0.95  0.952 0.952 0.939 0.93  0.957 0.945]\n",
            "0.9084532199663778\n"
          ],
          "name": "stdout"
        }
      ]
    },
    {
      "cell_type": "code",
      "metadata": {
        "id": "L5lHaMe5UGoq"
      },
      "source": [
        "#X_test_sel = X_test[X.columns[sel_bool]]"
      ],
      "execution_count": null,
      "outputs": []
    },
    {
      "cell_type": "code",
      "metadata": {
        "id": "emk_jFienWsY"
      },
      "source": [
        "#print (f'Train Accuracy - : {rf_model.score(X_train, y_train) :.3f}')\n",
        "#print (f'Test Accuracy - : {rf_model.score(X_test,y_test) :.3f}')"
      ],
      "execution_count": null,
      "outputs": []
    },
    {
      "cell_type": "code",
      "metadata": {
        "id": "QtUSsB_V32rH"
      },
      "source": [
        "#print (f'Train Accuracy - : {rf_Grid.score(X_train, y_train) :.3f}')\n",
        "#print (f'Test Accuracy - : {rf_Grid.score(X_test,y_test) :.3f}')"
      ],
      "execution_count": null,
      "outputs": []
    },
    {
      "cell_type": "code",
      "metadata": {
        "colab": {
          "base_uri": "https://localhost:8080/"
        },
        "id": "oxSs9vgA4lIq",
        "outputId": "1f122293-12da-4635-f17e-5ac27cb15a0f"
      },
      "source": [
        "y_rf_grid_2 = rf_grid_model.predict(X_test)\n",
        "y_rf_grid_2[:10]"
      ],
      "execution_count": null,
      "outputs": [
        {
          "output_type": "execute_result",
          "data": {
            "text/plain": [
              "array([0, 0, 0, 1, 1, 1, 0, 0, 1, 0])"
            ]
          },
          "metadata": {
            "tags": []
          },
          "execution_count": 438
        }
      ]
    },
    {
      "cell_type": "code",
      "metadata": {
        "colab": {
          "base_uri": "https://localhost:8080/"
        },
        "id": "mkPURzmihtkb",
        "outputId": "1e120e05-b72d-4a64-f703-60651cda6c1e"
      },
      "source": [
        "yp_rf_2[:10]"
      ],
      "execution_count": null,
      "outputs": [
        {
          "output_type": "execute_result",
          "data": {
            "text/plain": [
              "array([0, 0, 0, 1, 1, 1, 0, 0, 1, 0])"
            ]
          },
          "metadata": {
            "tags": []
          },
          "execution_count": 439
        }
      ]
    },
    {
      "cell_type": "code",
      "metadata": {
        "colab": {
          "base_uri": "https://localhost:8080/"
        },
        "id": "kDtfGzxn4z2c",
        "outputId": "a5433142-62b6-4c01-beed-4fc54d308a6f"
      },
      "source": [
        "print(confusion_matrix(y_test, yp_rf_2))\n",
        "print(accuracy_score(y_test, yp_rf_2))\n",
        "print(classification_report(y_test, yp_rf_2))"
      ],
      "execution_count": null,
      "outputs": [
        {
          "output_type": "stream",
          "text": [
            "[[955  55]\n",
            " [ 39 971]]\n",
            "0.9534653465346534\n",
            "              precision    recall  f1-score   support\n",
            "\n",
            "           0       0.96      0.95      0.95      1010\n",
            "           1       0.95      0.96      0.95      1010\n",
            "\n",
            "    accuracy                           0.95      2020\n",
            "   macro avg       0.95      0.95      0.95      2020\n",
            "weighted avg       0.95      0.95      0.95      2020\n",
            "\n"
          ],
          "name": "stdout"
        }
      ]
    },
    {
      "cell_type": "markdown",
      "metadata": {
        "id": "mqhpfNwYBKTP"
      },
      "source": [
        "## 3. Support Vector machine:"
      ]
    },
    {
      "cell_type": "code",
      "metadata": {
        "id": "MnNq-Y5javUO"
      },
      "source": [
        "# fitting Svm classifier to the training data set\n",
        "from sklearn.svm import SVC\n",
        "Model_SVC_1 = SVC(C=30, kernel='rbf', gamma='auto').fit(X_train, y_train)\n",
        "# predicting the test set result\n",
        "yp_SVC_1 = Model_SVC_1.predict(X_test)"
      ],
      "execution_count": null,
      "outputs": []
    },
    {
      "cell_type": "code",
      "metadata": {
        "colab": {
          "base_uri": "https://localhost:8080/"
        },
        "id": "0c-WMFu6pY1L",
        "outputId": "8e44d68f-c420-4bdd-ab0c-81db4dccab05"
      },
      "source": [
        "Model_SVC_1.score(X_test, y_test)"
      ],
      "execution_count": null,
      "outputs": [
        {
          "output_type": "execute_result",
          "data": {
            "text/plain": [
              "0.9435643564356435"
            ]
          },
          "metadata": {
            "tags": []
          },
          "execution_count": 442
        }
      ]
    },
    {
      "cell_type": "code",
      "metadata": {
        "id": "ZxADaChgr53p"
      },
      "source": [
        "param_grid_SVC = {'C' : [1, 10, 100, 1000], 'kernel' : ['linear', 'rbf']\n",
        "                 }"
      ],
      "execution_count": null,
      "outputs": []
    },
    {
      "cell_type": "code",
      "metadata": {
        "id": "0bwPd2R3pid1"
      },
      "source": [
        "SVC_grid_model = GridSearchCV(SVC(gamma ='auto'), param_grid= param_grid_SVC , return_train_score=False, cv = 2 )"
      ],
      "execution_count": null,
      "outputs": []
    },
    {
      "cell_type": "code",
      "metadata": {
        "colab": {
          "base_uri": "https://localhost:8080/"
        },
        "id": "lc5AR5M92M45",
        "outputId": "f7231c60-9d3e-49ef-f0b4-82013c723730"
      },
      "source": [
        "SVC_grid_model.fit(X_train, y_train)"
      ],
      "execution_count": null,
      "outputs": [
        {
          "output_type": "execute_result",
          "data": {
            "text/plain": [
              "GridSearchCV(cv=2, error_score=nan,\n",
              "             estimator=SVC(C=1.0, break_ties=False, cache_size=200,\n",
              "                           class_weight=None, coef0=0.0,\n",
              "                           decision_function_shape='ovr', degree=3,\n",
              "                           gamma='auto', kernel='rbf', max_iter=-1,\n",
              "                           probability=False, random_state=None, shrinking=True,\n",
              "                           tol=0.001, verbose=False),\n",
              "             iid='deprecated', n_jobs=None,\n",
              "             param_grid={'C': [1, 10, 100, 1000], 'kernel': ['linear', 'rbf']},\n",
              "             pre_dispatch='2*n_jobs', refit=True, return_train_score=False,\n",
              "             scoring=None, verbose=0)"
            ]
          },
          "metadata": {
            "tags": []
          },
          "execution_count": 445
        }
      ]
    },
    {
      "cell_type": "code",
      "metadata": {
        "colab": {
          "base_uri": "https://localhost:8080/"
        },
        "id": "-Do3N4lfuTd_",
        "outputId": "ecfaaa2e-98f2-459f-b612-12ec7e92f304"
      },
      "source": [
        "SVC_grid_model.cv_results_"
      ],
      "execution_count": null,
      "outputs": [
        {
          "output_type": "execute_result",
          "data": {
            "text/plain": [
              "{'mean_fit_time': array([ 0.203,  0.469,  0.395,  0.329,  1.543,  0.378, 12.044,  0.772]),\n",
              " 'mean_score_time': array([0.099, 0.322, 0.082, 0.203, 0.081, 0.159, 0.079, 0.144]),\n",
              " 'mean_test_score': array([0.932, 0.922, 0.932, 0.938, 0.932, 0.936, 0.933, 0.93 ]),\n",
              " 'param_C': masked_array(data=[1, 1, 10, 10, 100, 100, 1000, 1000],\n",
              "              mask=[False, False, False, False, False, False, False, False],\n",
              "        fill_value='?',\n",
              "             dtype=object),\n",
              " 'param_kernel': masked_array(data=['linear', 'rbf', 'linear', 'rbf', 'linear', 'rbf',\n",
              "                    'linear', 'rbf'],\n",
              "              mask=[False, False, False, False, False, False, False, False],\n",
              "        fill_value='?',\n",
              "             dtype=object),\n",
              " 'params': [{'C': 1, 'kernel': 'linear'},\n",
              "  {'C': 1, 'kernel': 'rbf'},\n",
              "  {'C': 10, 'kernel': 'linear'},\n",
              "  {'C': 10, 'kernel': 'rbf'},\n",
              "  {'C': 100, 'kernel': 'linear'},\n",
              "  {'C': 100, 'kernel': 'rbf'},\n",
              "  {'C': 1000, 'kernel': 'linear'},\n",
              "  {'C': 1000, 'kernel': 'rbf'}],\n",
              " 'rank_test_score': array([5, 8, 6, 1, 4, 2, 3, 7], dtype=int32),\n",
              " 'split0_test_score': array([0.93 , 0.922, 0.929, 0.934, 0.929, 0.935, 0.929, 0.931]),\n",
              " 'split1_test_score': array([0.934, 0.922, 0.935, 0.942, 0.935, 0.937, 0.936, 0.929]),\n",
              " 'std_fit_time': array([0.003, 0.002, 0.022, 0.01 , 0.097, 0.017, 1.345, 0.059]),\n",
              " 'std_score_time': array([0.001, 0.004, 0.006, 0.004, 0.008, 0.009, 0.005, 0.009]),\n",
              " 'std_test_score': array([0.002, 0.   , 0.003, 0.004, 0.003, 0.001, 0.004, 0.001])}"
            ]
          },
          "metadata": {
            "tags": []
          },
          "execution_count": 446
        }
      ]
    },
    {
      "cell_type": "code",
      "metadata": {
        "colab": {
          "base_uri": "https://localhost:8080/",
          "height": 640
        },
        "id": "Zurx96KQu-k2",
        "outputId": "99ef935a-d413-4526-b14b-60ec13839eb5"
      },
      "source": [
        "df = pd.DataFrame(SVC_grid_model.cv_results_)\n",
        "df"
      ],
      "execution_count": null,
      "outputs": [
        {
          "output_type": "execute_result",
          "data": {
            "text/html": [
              "<div>\n",
              "<style scoped>\n",
              "    .dataframe tbody tr th:only-of-type {\n",
              "        vertical-align: middle;\n",
              "    }\n",
              "\n",
              "    .dataframe tbody tr th {\n",
              "        vertical-align: top;\n",
              "    }\n",
              "\n",
              "    .dataframe thead th {\n",
              "        text-align: right;\n",
              "    }\n",
              "</style>\n",
              "<table border=\"1\" class=\"dataframe\">\n",
              "  <thead>\n",
              "    <tr style=\"text-align: right;\">\n",
              "      <th></th>\n",
              "      <th>mean_fit_time</th>\n",
              "      <th>std_fit_time</th>\n",
              "      <th>mean_score_time</th>\n",
              "      <th>std_score_time</th>\n",
              "      <th>param_C</th>\n",
              "      <th>param_kernel</th>\n",
              "      <th>params</th>\n",
              "      <th>split0_test_score</th>\n",
              "      <th>split1_test_score</th>\n",
              "      <th>mean_test_score</th>\n",
              "      <th>std_test_score</th>\n",
              "      <th>rank_test_score</th>\n",
              "    </tr>\n",
              "  </thead>\n",
              "  <tbody>\n",
              "    <tr>\n",
              "      <th>0</th>\n",
              "      <td>0.203273</td>\n",
              "      <td>0.003435</td>\n",
              "      <td>0.098705</td>\n",
              "      <td>0.000626</td>\n",
              "      <td>1</td>\n",
              "      <td>linear</td>\n",
              "      <td>{'C': 1, 'kernel': 'linear'}</td>\n",
              "      <td>0.930198</td>\n",
              "      <td>0.934406</td>\n",
              "      <td>0.932302</td>\n",
              "      <td>0.002104</td>\n",
              "      <td>5</td>\n",
              "    </tr>\n",
              "    <tr>\n",
              "      <th>1</th>\n",
              "      <td>0.469496</td>\n",
              "      <td>0.002077</td>\n",
              "      <td>0.321684</td>\n",
              "      <td>0.003849</td>\n",
              "      <td>1</td>\n",
              "      <td>rbf</td>\n",
              "      <td>{'C': 1, 'kernel': 'rbf'}</td>\n",
              "      <td>0.922277</td>\n",
              "      <td>0.922030</td>\n",
              "      <td>0.922153</td>\n",
              "      <td>0.000124</td>\n",
              "      <td>8</td>\n",
              "    </tr>\n",
              "    <tr>\n",
              "      <th>2</th>\n",
              "      <td>0.395305</td>\n",
              "      <td>0.021544</td>\n",
              "      <td>0.082353</td>\n",
              "      <td>0.005984</td>\n",
              "      <td>10</td>\n",
              "      <td>linear</td>\n",
              "      <td>{'C': 10, 'kernel': 'linear'}</td>\n",
              "      <td>0.928960</td>\n",
              "      <td>0.935149</td>\n",
              "      <td>0.932054</td>\n",
              "      <td>0.003094</td>\n",
              "      <td>6</td>\n",
              "    </tr>\n",
              "    <tr>\n",
              "      <th>3</th>\n",
              "      <td>0.329014</td>\n",
              "      <td>0.010269</td>\n",
              "      <td>0.203477</td>\n",
              "      <td>0.004445</td>\n",
              "      <td>10</td>\n",
              "      <td>rbf</td>\n",
              "      <td>{'C': 10, 'kernel': 'rbf'}</td>\n",
              "      <td>0.934406</td>\n",
              "      <td>0.941584</td>\n",
              "      <td>0.937995</td>\n",
              "      <td>0.003589</td>\n",
              "      <td>1</td>\n",
              "    </tr>\n",
              "    <tr>\n",
              "      <th>4</th>\n",
              "      <td>1.542551</td>\n",
              "      <td>0.097395</td>\n",
              "      <td>0.081491</td>\n",
              "      <td>0.007598</td>\n",
              "      <td>100</td>\n",
              "      <td>linear</td>\n",
              "      <td>{'C': 100, 'kernel': 'linear'}</td>\n",
              "      <td>0.929455</td>\n",
              "      <td>0.935396</td>\n",
              "      <td>0.932426</td>\n",
              "      <td>0.002970</td>\n",
              "      <td>4</td>\n",
              "    </tr>\n",
              "    <tr>\n",
              "      <th>5</th>\n",
              "      <td>0.377663</td>\n",
              "      <td>0.017419</td>\n",
              "      <td>0.158676</td>\n",
              "      <td>0.009474</td>\n",
              "      <td>100</td>\n",
              "      <td>rbf</td>\n",
              "      <td>{'C': 100, 'kernel': 'rbf'}</td>\n",
              "      <td>0.935149</td>\n",
              "      <td>0.937376</td>\n",
              "      <td>0.936262</td>\n",
              "      <td>0.001114</td>\n",
              "      <td>2</td>\n",
              "    </tr>\n",
              "    <tr>\n",
              "      <th>6</th>\n",
              "      <td>12.043891</td>\n",
              "      <td>1.345417</td>\n",
              "      <td>0.079039</td>\n",
              "      <td>0.005143</td>\n",
              "      <td>1000</td>\n",
              "      <td>linear</td>\n",
              "      <td>{'C': 1000, 'kernel': 'linear'}</td>\n",
              "      <td>0.928713</td>\n",
              "      <td>0.936386</td>\n",
              "      <td>0.932550</td>\n",
              "      <td>0.003837</td>\n",
              "      <td>3</td>\n",
              "    </tr>\n",
              "    <tr>\n",
              "      <th>7</th>\n",
              "      <td>0.771835</td>\n",
              "      <td>0.059042</td>\n",
              "      <td>0.143567</td>\n",
              "      <td>0.008648</td>\n",
              "      <td>1000</td>\n",
              "      <td>rbf</td>\n",
              "      <td>{'C': 1000, 'kernel': 'rbf'}</td>\n",
              "      <td>0.931188</td>\n",
              "      <td>0.928713</td>\n",
              "      <td>0.929950</td>\n",
              "      <td>0.001238</td>\n",
              "      <td>7</td>\n",
              "    </tr>\n",
              "  </tbody>\n",
              "</table>\n",
              "</div>"
            ],
            "text/plain": [
              "   mean_fit_time  std_fit_time  ...  std_test_score  rank_test_score\n",
              "0       0.203273      0.003435  ...        0.002104                5\n",
              "1       0.469496      0.002077  ...        0.000124                8\n",
              "2       0.395305      0.021544  ...        0.003094                6\n",
              "3       0.329014      0.010269  ...        0.003589                1\n",
              "4       1.542551      0.097395  ...        0.002970                4\n",
              "5       0.377663      0.017419  ...        0.001114                2\n",
              "6      12.043891      1.345417  ...        0.003837                3\n",
              "7       0.771835      0.059042  ...        0.001238                7\n",
              "\n",
              "[8 rows x 12 columns]"
            ]
          },
          "metadata": {
            "tags": []
          },
          "execution_count": 447
        }
      ]
    },
    {
      "cell_type": "code",
      "metadata": {
        "colab": {
          "base_uri": "https://localhost:8080/",
          "height": 286
        },
        "id": "PBtv3-AkvkSs",
        "outputId": "22c8c0fb-4da5-4289-fac1-69f6ee670c18"
      },
      "source": [
        "df[['param_C', 'param_kernel', 'mean_test_score']]"
      ],
      "execution_count": null,
      "outputs": [
        {
          "output_type": "execute_result",
          "data": {
            "text/html": [
              "<div>\n",
              "<style scoped>\n",
              "    .dataframe tbody tr th:only-of-type {\n",
              "        vertical-align: middle;\n",
              "    }\n",
              "\n",
              "    .dataframe tbody tr th {\n",
              "        vertical-align: top;\n",
              "    }\n",
              "\n",
              "    .dataframe thead th {\n",
              "        text-align: right;\n",
              "    }\n",
              "</style>\n",
              "<table border=\"1\" class=\"dataframe\">\n",
              "  <thead>\n",
              "    <tr style=\"text-align: right;\">\n",
              "      <th></th>\n",
              "      <th>param_C</th>\n",
              "      <th>param_kernel</th>\n",
              "      <th>mean_test_score</th>\n",
              "    </tr>\n",
              "  </thead>\n",
              "  <tbody>\n",
              "    <tr>\n",
              "      <th>0</th>\n",
              "      <td>1</td>\n",
              "      <td>linear</td>\n",
              "      <td>0.932302</td>\n",
              "    </tr>\n",
              "    <tr>\n",
              "      <th>1</th>\n",
              "      <td>1</td>\n",
              "      <td>rbf</td>\n",
              "      <td>0.922153</td>\n",
              "    </tr>\n",
              "    <tr>\n",
              "      <th>2</th>\n",
              "      <td>10</td>\n",
              "      <td>linear</td>\n",
              "      <td>0.932054</td>\n",
              "    </tr>\n",
              "    <tr>\n",
              "      <th>3</th>\n",
              "      <td>10</td>\n",
              "      <td>rbf</td>\n",
              "      <td>0.937995</td>\n",
              "    </tr>\n",
              "    <tr>\n",
              "      <th>4</th>\n",
              "      <td>100</td>\n",
              "      <td>linear</td>\n",
              "      <td>0.932426</td>\n",
              "    </tr>\n",
              "    <tr>\n",
              "      <th>5</th>\n",
              "      <td>100</td>\n",
              "      <td>rbf</td>\n",
              "      <td>0.936262</td>\n",
              "    </tr>\n",
              "    <tr>\n",
              "      <th>6</th>\n",
              "      <td>1000</td>\n",
              "      <td>linear</td>\n",
              "      <td>0.932550</td>\n",
              "    </tr>\n",
              "    <tr>\n",
              "      <th>7</th>\n",
              "      <td>1000</td>\n",
              "      <td>rbf</td>\n",
              "      <td>0.929950</td>\n",
              "    </tr>\n",
              "  </tbody>\n",
              "</table>\n",
              "</div>"
            ],
            "text/plain": [
              "  param_C param_kernel  mean_test_score\n",
              "0       1       linear         0.932302\n",
              "1       1          rbf         0.922153\n",
              "2      10       linear         0.932054\n",
              "3      10          rbf         0.937995\n",
              "4     100       linear         0.932426\n",
              "5     100          rbf         0.936262\n",
              "6    1000       linear         0.932550\n",
              "7    1000          rbf         0.929950"
            ]
          },
          "metadata": {
            "tags": []
          },
          "execution_count": 448
        }
      ]
    },
    {
      "cell_type": "code",
      "metadata": {
        "colab": {
          "base_uri": "https://localhost:8080/"
        },
        "id": "xVSXiJfMwTT-",
        "outputId": "2b3879ca-fcb6-4193-feee-725ae1399c52"
      },
      "source": [
        "SVC_grid_model.best_score_"
      ],
      "execution_count": null,
      "outputs": [
        {
          "output_type": "execute_result",
          "data": {
            "text/plain": [
              "0.9379950495049505"
            ]
          },
          "metadata": {
            "tags": []
          },
          "execution_count": 449
        }
      ]
    },
    {
      "cell_type": "code",
      "metadata": {
        "colab": {
          "base_uri": "https://localhost:8080/"
        },
        "id": "dAhFpa6lwZ6V",
        "outputId": "f939e30d-2b53-4f84-fb67-9b7cb20ef831"
      },
      "source": [
        "SVC_grid_model.best_params_"
      ],
      "execution_count": null,
      "outputs": [
        {
          "output_type": "execute_result",
          "data": {
            "text/plain": [
              "{'C': 10, 'kernel': 'rbf'}"
            ]
          },
          "metadata": {
            "tags": []
          },
          "execution_count": 450
        }
      ]
    },
    {
      "cell_type": "code",
      "metadata": {
        "colab": {
          "base_uri": "https://localhost:8080/"
        },
        "id": "V7tUNLZo5y0c",
        "outputId": "ddf1fcb3-fecd-423f-99f3-c03bb0545aef"
      },
      "source": [
        "SVC_grid_model.best_estimator_"
      ],
      "execution_count": null,
      "outputs": [
        {
          "output_type": "execute_result",
          "data": {
            "text/plain": [
              "SVC(C=10, break_ties=False, cache_size=200, class_weight=None, coef0=0.0,\n",
              "    decision_function_shape='ovr', degree=3, gamma='auto', kernel='rbf',\n",
              "    max_iter=-1, probability=False, random_state=None, shrinking=True,\n",
              "    tol=0.001, verbose=False)"
            ]
          },
          "metadata": {
            "tags": []
          },
          "execution_count": 451
        }
      ]
    },
    {
      "cell_type": "code",
      "metadata": {
        "id": "NOA1QseI58Kh"
      },
      "source": [
        "#building SVC model with the picked paramater\n",
        "Model_SVC_1 = SVC(C=10, break_ties=False, cache_size=200, class_weight=None, coef0=0.0,\n",
        "    decision_function_shape='ovr', degree=3, gamma='auto', kernel='rbf',\n",
        "    max_iter=-1, probability=False, random_state=None, shrinking=True,\n",
        "    tol=0.001, verbose=False)\n"
      ],
      "execution_count": null,
      "outputs": []
    },
    {
      "cell_type": "code",
      "metadata": {
        "colab": {
          "base_uri": "https://localhost:8080/"
        },
        "id": "b6H-l_qz6cW0",
        "outputId": "42598ffe-23e0-45ce-c22c-e4169a80d127"
      },
      "source": [
        "Model_SVC_1.fit(X_train, y_train)"
      ],
      "execution_count": null,
      "outputs": [
        {
          "output_type": "execute_result",
          "data": {
            "text/plain": [
              "SVC(C=10, break_ties=False, cache_size=200, class_weight=None, coef0=0.0,\n",
              "    decision_function_shape='ovr', degree=3, gamma='auto', kernel='rbf',\n",
              "    max_iter=-1, probability=False, random_state=None, shrinking=True,\n",
              "    tol=0.001, verbose=False)"
            ]
          },
          "metadata": {
            "tags": []
          },
          "execution_count": 453
        }
      ]
    },
    {
      "cell_type": "markdown",
      "metadata": {
        "id": "pwgUsszz7ETN"
      },
      "source": [
        "Evaluation:"
      ]
    },
    {
      "cell_type": "code",
      "metadata": {
        "colab": {
          "base_uri": "https://localhost:8080/"
        },
        "id": "3tHU2PYN6jzO",
        "outputId": "d04582e9-5980-4a28-ba36-44a034dd7f80"
      },
      "source": [
        "print(confusion_matrix(y_test, yp_SVC_1))\n",
        "print(accuracy_score(y_test, yp_SVC_1))\n",
        "print(classification_report(y_test, yp_SVC_1))"
      ],
      "execution_count": null,
      "outputs": [
        {
          "output_type": "stream",
          "text": [
            "[[937  73]\n",
            " [ 41 969]]\n",
            "0.9435643564356435\n",
            "              precision    recall  f1-score   support\n",
            "\n",
            "           0       0.96      0.93      0.94      1010\n",
            "           1       0.93      0.96      0.94      1010\n",
            "\n",
            "    accuracy                           0.94      2020\n",
            "   macro avg       0.94      0.94      0.94      2020\n",
            "weighted avg       0.94      0.94      0.94      2020\n",
            "\n"
          ],
          "name": "stdout"
        }
      ]
    },
    {
      "cell_type": "code",
      "metadata": {
        "colab": {
          "base_uri": "https://localhost:8080/"
        },
        "id": "DEpKRRhEVmaZ",
        "outputId": "cb396eac-184a-4ff6-bf0e-417f1690ee87"
      },
      "source": [
        "results = cross_val_score(Model_SVC_1, X, y, cv=KFold_validation)\n",
        "print (results)\n",
        "print(np.mean(results))"
      ],
      "execution_count": null,
      "outputs": [
        {
          "output_type": "stream",
          "text": [
            "[0.766 0.774 0.856 0.939 0.947 0.942 0.952 0.929 0.942 0.927]\n",
            "0.8973627634811846\n"
          ],
          "name": "stdout"
        }
      ]
    },
    {
      "cell_type": "markdown",
      "metadata": {
        "id": "oJ3_2TLueCJ6"
      },
      "source": [
        "## 4. Gradient Boosting Model"
      ]
    },
    {
      "cell_type": "code",
      "metadata": {
        "id": "aCFjrG0IeIWf"
      },
      "source": [
        "from sklearn.ensemble import GradientBoostingClassifier\n",
        "\n",
        "GB_clf_2 = GradientBoostingClassifier().fit(X_train, y_train)"
      ],
      "execution_count": null,
      "outputs": []
    },
    {
      "cell_type": "code",
      "metadata": {
        "id": "hlYapA260QYU"
      },
      "source": [
        "yp_GB_2 = GB_clf_2.predict(X_test)"
      ],
      "execution_count": null,
      "outputs": []
    },
    {
      "cell_type": "code",
      "metadata": {
        "id": "XIqnC__OqET6"
      },
      "source": [
        "parameters = {\n",
        "    \"loss\":[\"deviance\"],\n",
        "    \"learning_rate\": [0.01, 0.05, 0.1, 0.15, 0.2],\n",
        "#    \"min_samples_split\": np.linspace(0.1, 0.5, 12),\n",
        "#    \"min_samples_leaf\": np.linspace(0.1, 0.5, 12),\n",
        "    \"max_depth\":[3,5],\n",
        "#    \"max_features\":[\"log2\",\"sqrt\"],\n",
        "#    \"criterion\": [\"friedman_mse\",  \"mae\"],\n",
        "#    \"subsample\":[0.5, 0.618, 0.8, 0.9,  1.0],\n",
        "    \"n_estimators\":[10]\n",
        "    }"
      ],
      "execution_count": null,
      "outputs": []
    },
    {
      "cell_type": "code",
      "metadata": {
        "colab": {
          "base_uri": "https://localhost:8080/"
        },
        "id": "zlENfjG0qPjK",
        "outputId": "c7906fb6-091c-458a-f71f-d8932d7ad33f"
      },
      "source": [
        "clf_GB_2 = GridSearchCV(GradientBoostingClassifier(), parameters, cv=10, n_jobs=-1)\n",
        "\n",
        "clf_GB_2.fit(X_train, y_train)\n",
        "print(clf_GB_2.score(X_train, y_train))\n",
        "print(clf_GB_2.best_params_)"
      ],
      "execution_count": null,
      "outputs": [
        {
          "output_type": "stream",
          "text": [
            "0.9533415841584159\n",
            "{'learning_rate': 0.2, 'loss': 'deviance', 'max_depth': 5, 'n_estimators': 10}\n"
          ],
          "name": "stdout"
        }
      ]
    },
    {
      "cell_type": "markdown",
      "metadata": {
        "id": "7_ixYDhuU2gf"
      },
      "source": [
        "### PCA-GridSearchCV\n",
        "## 1. Support Vector Machine"
      ]
    },
    {
      "cell_type": "code",
      "metadata": {
        "id": "GnMy9WOazNdi"
      },
      "source": [
        "from sklearn.preprocessing import StandardScaler\n",
        "from sklearn.decomposition import PCA\n",
        "from sklearn.pipeline import Pipeline\n",
        "import seaborn as sns"
      ],
      "execution_count": null,
      "outputs": []
    },
    {
      "cell_type": "code",
      "metadata": {
        "id": "Xqh5esVio48s"
      },
      "source": [
        "# For PCA, First Need to Scale the Data.\n",
        "scaler_SVC = StandardScaler()\n",
        "scaler_SVC.fit(X_test)\n",
        "X_test_scaled = scaler_SVC.transform(X_test)"
      ],
      "execution_count": null,
      "outputs": []
    },
    {
      "cell_type": "code",
      "metadata": {
        "colab": {
          "base_uri": "https://localhost:8080/"
        },
        "id": "e6dLQBbev7iN",
        "outputId": "8a6d1b33-4537-4571-c649-d6539f25a7f1"
      },
      "source": [
        "pca2 = PCA(n_components=2)\n",
        "X_test_scaled_reduced = pca2.fit_transform(X_test_scaled)\n",
        "print(\"shape of the scaled and 'PCA'ed features: \", np.shape(X_test_scaled))"
      ],
      "execution_count": null,
      "outputs": [
        {
          "output_type": "stream",
          "text": [
            "shape of the scaled and 'PCA'ed features:  (2020, 28)\n"
          ],
          "name": "stdout"
        }
      ]
    },
    {
      "cell_type": "code",
      "metadata": {
        "id": "BL8HLotEotnb"
      },
      "source": [
        "SVC_model_2 = SVC(kernel='rbf', C=1., gamma=0.01).fit(X_train, y_train)\n",
        "\n",
        "classify = SVC_model_2.fit(X_test_scaled_reduced, y_test)"
      ],
      "execution_count": null,
      "outputs": []
    },
    {
      "cell_type": "code",
      "metadata": {
        "colab": {
          "base_uri": "https://localhost:8080/"
        },
        "id": "QrfSc-QmxppA",
        "outputId": "e2710da4-257a-4475-b5bc-df64f7add5ae"
      },
      "source": [
        "# Let's see the variance to see out of the \n",
        "# 4 components which are contributing most \n",
        "\n",
        "feat_var = np.var(X_test_scaled, axis=0)\n",
        "feat_var_rat = feat_var/(np.sum(feat_var))\n",
        "\n",
        "print (\"Variance Ratio of the 4 Principal Components Ananlysis: \", feat_var_rat)"
      ],
      "execution_count": null,
      "outputs": [
        {
          "output_type": "stream",
          "text": [
            "Variance Ratio of the 4 Principal Components Ananlysis:  [0.036 0.036 0.036 0.036 0.036 0.036 0.036 0.036 0.036 0.036 0.036 0.036\n",
            " 0.036 0.036 0.036 0.036 0.036 0.036 0.036 0.036 0.036 0.036 0.036 0.036\n",
            " 0.036 0.036 0.036 0.036]\n"
          ],
          "name": "stdout"
        }
      ]
    },
    {
      "cell_type": "code",
      "metadata": {
        "id": "QFQhTK9pzQR0"
      },
      "source": [
        "# Pipeline Steps are StandardScaler, PCA and SVM \n",
        "pipe_steps = [('scaler', StandardScaler()), ('pca', PCA()), ('SupVM', SVC(kernel='rbf'))]\n",
        "\n",
        "check_params= {\n",
        "    'pca__n_components': [2], \n",
        "    'SupVM__C': [1, 10, 100, 1000], \n",
        "}\n",
        "\n",
        "pipeline = Pipeline(pipe_steps)"
      ],
      "execution_count": null,
      "outputs": []
    },
    {
      "cell_type": "code",
      "metadata": {
        "colab": {
          "base_uri": "https://localhost:8080/",
          "height": 199,
          "referenced_widgets": [
            "88ab3781076146dd9ac0a202aca5bfee",
            "1752dfe049ae4554b6cf196830b68270",
            "8be1816ae6a54325b71c55bf9da7bea6",
            "58be453f5afe48a5bda206507c2d620f",
            "4d0a0e57491c485f9a4b9b3dde727bff",
            "2d4826acf08b4dbba55cc7fbd3b8062a",
            "5a10894df3294a2884b95ad82db16100",
            "2a0d0ce1adf9468884b7958e8f856b8e"
          ]
        },
        "id": "We4OL87fzfA_",
        "outputId": "1586952b-bb90-4ca6-f70a-3495fa60bceb"
      },
      "source": [
        "print (\"Start Fitting Training Data\")\n",
        "cv = 5\n",
        "create_grid = GridSearchCV(pipeline, param_grid=check_params, cv=cv)\n",
        "create_grid.fit(X_train, y_train)\n",
        "print (\"score for %d fold CV := %3.2f\" %(cv, create_grid.score(X_test, y_test)))\n",
        "print (\"!!!!!!!! Best-Fit Parameters From Training Data !!!!!!!!!!!!!!\")\n",
        "print (create_grid.best_params_)\n"
      ],
      "execution_count": null,
      "outputs": [
        {
          "output_type": "stream",
          "text": [
            "Start Fitting Training Data\n"
          ],
          "name": "stdout"
        },
        {
          "output_type": "display_data",
          "data": {
            "application/vnd.jupyter.widget-view+json": {
              "model_id": "88ab3781076146dd9ac0a202aca5bfee",
              "version_minor": 0,
              "version_major": 2
            },
            "text/plain": [
              "HBox(children=(FloatProgress(value=0.0, max=2.0), HTML(value='')))"
            ]
          },
          "metadata": {
            "tags": []
          }
        },
        {
          "output_type": "stream",
          "text": [
            "score for 4 fold CV := 0.82\n",
            "!!!!!!!! Best-Fit Parameters From Training Data !!!!!!!!!!!!!!\n",
            "{'SupVM__C': 1000, 'pca__n_components': 2}\n",
            "score for 5 fold CV := 0.82\n",
            "!!!!!!!! Best-Fit Parameters From Training Data !!!!!!!!!!!!!!\n",
            "{'SupVM__C': 1000, 'pca__n_components': 2}\n",
            "\n",
            "out of the loop\n"
          ],
          "name": "stdout"
        }
      ]
    },
    {
      "cell_type": "code",
      "metadata": {
        "colab": {
          "base_uri": "https://localhost:8080/"
        },
        "id": "x7hdk3Qvzv5v",
        "outputId": "deaced21-2ea4-442e-ccec-e59253b3559a"
      },
      "source": [
        "print (\"grid best params: \", create_grid.best_params_) "
      ],
      "execution_count": null,
      "outputs": [
        {
          "output_type": "stream",
          "text": [
            "grid best params:  {'SupVM__C': 1000, 'pca__n_components': 2}\n"
          ],
          "name": "stdout"
        }
      ]
    },
    {
      "cell_type": "code",
      "metadata": {
        "colab": {
          "base_uri": "https://localhost:8080/",
          "height": 349
        },
        "id": "WZBEIqJtzxNy",
        "outputId": "9a14b395-4596-49af-ea29-06c782ea43f7"
      },
      "source": [
        "# Time for Prediction and Plotting Confusion Matrix\n",
        "from sklearn.metrics import confusion_matrix\n",
        "import seaborn as sns\n",
        "\n",
        "y_pred = create_grid.predict(X_test)\n",
        "# print (Y_pred)\n",
        "cm = confusion_matrix(y_test, y_pred)\n",
        "print(\"Confusion Matrix: \\n\")\n",
        "print(cm)\n",
        "\n",
        "\n",
        "df_cm = pd.DataFrame(cm, range(2), range(2))\n",
        "\n",
        "sns.heatmap(df_cm, annot=True, cbar=False)\n",
        "plt.title(\"Confusion Matrix\", fontsize=14)\n",
        "plt.savefig(\"Confusion Matrix.png\", dpi=200)"
      ],
      "execution_count": null,
      "outputs": [
        {
          "output_type": "stream",
          "text": [
            "Confusion Matrix: \n",
            "\n",
            "[[800 210]\n",
            " [152 858]]\n"
          ],
          "name": "stdout"
        },
        {
          "output_type": "display_data",
          "data": {
            "image/png": "[encoded data removed]",
            "text/plain": [
              "<Figure size 432x288 with 1 Axes>"
            ]
          },
          "metadata": {
            "tags": [],
            "needs_background": "light"
          }
        }
      ]
    },
    {
      "cell_type": "markdown",
      "metadata": {
        "id": "k1GRgwxrxcw1"
      },
      "source": [
        "## 2. Logisitic Regression"
      ]
    },
    {
      "cell_type": "code",
      "metadata": {
        "id": "l_AsvK9suxHk"
      },
      "source": [
        "from sklearn.linear_model import LogisticRegression\n"
      ],
      "execution_count": null,
      "outputs": []
    },
    {
      "cell_type": "code",
      "metadata": {
        "id": "FrrW0jJgwGqZ"
      },
      "source": [
        "# Define a pipeline to search for the best combination of PCA truncation\n",
        "# and classifier regularization.\n",
        "pca = PCA()\n",
        "# set the tolerance to a large value to make the example faster\n",
        "logistic = LogisticRegression(max_iter=10000, tol=0.1)\n",
        "pipe = Pipeline(steps=[('pca', pca), ('logistic', logistic)])"
      ],
      "execution_count": null,
      "outputs": []
    },
    {
      "cell_type": "code",
      "metadata": {
        "id": "rF1z__NKwVzy"
      },
      "source": [
        "# Parameters of pipelines can be set using ‘__’ separated parameter names:\n",
        "param_grid = {\n",
        "    'pca__n_components': [5],\n",
        "    'logistic__C': np.logspace(-4, 4, 4),}\n"
      ],
      "execution_count": null,
      "outputs": []
    },
    {
      "cell_type": "code",
      "metadata": {
        "colab": {
          "base_uri": "https://localhost:8080/"
        },
        "id": "K_bca5wWwvjz",
        "outputId": "a39ff038-11cf-42a0-f600-be156325be24"
      },
      "source": [
        "search = GridSearchCV(pipe, param_grid, n_jobs=-1)\n",
        "search.fit(X_train, y_train)\n",
        "print(\"Best parameter (CV score=%0.3f):\" % search.best_score_)\n",
        "print(search.best_params_)\n"
      ],
      "execution_count": null,
      "outputs": [
        {
          "output_type": "stream",
          "text": [
            "Best parameter (CV score=0.794):\n",
            "{'logistic__C': 0.046415888336127774, 'pca__n_components': 15}\n"
          ],
          "name": "stdout"
        }
      ]
    },
    {
      "cell_type": "code",
      "metadata": {
        "colab": {
          "base_uri": "https://localhost:8080/",
          "height": 390
        },
        "id": "B2KQqydIxRvo",
        "outputId": "4a5662d2-5044-4354-a3be-c28020432941"
      },
      "source": [
        "# Plot the PCA spectrum\n",
        "pca.fit(X_test)\n",
        "\n",
        "fig, (ax0, ax1) = plt.subplots(nrows=2, sharex=True, figsize=(6, 6))\n",
        "ax0.plot(np.arange(1, pca.n_components_ + 1),\n",
        "         pca.explained_variance_ratio_, '+', linewidth=2)\n",
        "ax0.set_ylabel('PCA explained variance ratio')\n",
        "\n",
        "ax0.axvline(search.best_estimator_.named_steps['pca'].n_components,\n",
        "            linestyle=':', label='n_components chosen')\n",
        "ax0.legend(prop=dict(size=12))"
      ],
      "execution_count": null,
      "outputs": [
        {
          "output_type": "execute_result",
          "data": {
            "text/plain": [
              "<matplotlib.legend.Legend at 0x7fa5173b5290>"
            ]
          },
          "metadata": {
            "tags": []
          },
          "execution_count": 474
        },
        {
          "output_type": "display_data",
          "data": {
            "image/png": "[encoded data removed]",
            "text/plain": [
              "<Figure size 432x432 with 2 Axes>"
            ]
          },
          "metadata": {
            "tags": [],
            "needs_background": "light"
          }
        }
      ]
    },
    {
      "cell_type": "markdown",
      "metadata": {
        "id": "AxTF9RFP1TSe"
      },
      "source": [
        "## 2nd approach:"
      ]
    },
    {
      "cell_type": "code",
      "metadata": {
        "id": "OenLOhezyeCI"
      },
      "source": [
        "scaler = StandardScaler()\n",
        "scaler.fit(X_train)\n",
        "X_train_scaler = scaler.transform(X_train)\n",
        "X_test_scaler = scaler.transform(X_test)"
      ],
      "execution_count": null,
      "outputs": []
    },
    {
      "cell_type": "code",
      "metadata": {
        "colab": {
          "base_uri": "https://localhost:8080/",
          "height": 366
        },
        "id": "jcvb8v5w2Nru",
        "outputId": "0e7b46d4-abe8-4849-e327-8bfcfcef4ba3"
      },
      "source": [
        "pca=PCA()\n",
        "pca.fit(X_test_scaler)\n",
        "pca.fit(X_train_scaler)\n",
        "cumsum = np.cumsum(pca.explained_variance_ratio_)*100\n",
        "d = [n for n in range(len(cumsum))]\n",
        "plt.figure(figsize=(5, 5))\n",
        "plt.plot(d,cumsum, color = 'red',label='cumulative explained variance')\n",
        "plt.title('Cumulative Explained Variance as a Function of the Number of Components')\n",
        "plt.ylabel('Cumulative Explained variance')\n",
        "plt.xlabel('Principal components')\n",
        "plt.axhline(y = 95, color='k', linestyle='--', label = '95% Explained Variance')\n",
        "plt.legend(loc='best')"
      ],
      "execution_count": null,
      "outputs": [
        {
          "output_type": "execute_result",
          "data": {
            "text/plain": [
              "<matplotlib.legend.Legend at 0x7fa518e3abd0>"
            ]
          },
          "metadata": {
            "tags": []
          },
          "execution_count": 476
        },
        {
          "output_type": "display_data",
          "data": {
            "image/png": "[encoded data removed]",
            "text/plain": [
              "<Figure size 360x360 with 1 Axes>"
            ]
          },
          "metadata": {
            "tags": [],
            "needs_background": "light"
          }
        }
      ]
    },
    {
      "cell_type": "code",
      "metadata": {
        "id": "9QphD_r_3Mzh"
      },
      "source": [
        "pca = PCA(.95) \n",
        "pca.fit(X_train_scaler)\n",
        "\n",
        "X_train_pca = pca.transform(X_train_scaler)\n",
        "X_test_pca  = pca.transform(X_test_scaler)"
      ],
      "execution_count": null,
      "outputs": []
    },
    {
      "cell_type": "code",
      "metadata": {
        "colab": {
          "base_uri": "https://localhost:8080/"
        },
        "id": "6iwe1oVa3WTk",
        "outputId": "395166a3-5059-4877-ed11-bd263a90dfab"
      },
      "source": [
        "logistic_regression = LogisticRegression(n_jobs = -1)\n",
        "\n",
        "# Set of parameters we want to try for out Model\n",
        "parameters = { 'C' : [1.1,1.25,1.5]}\n",
        "\n",
        "#Running the Model with above chosen parameter\n",
        "grid_search = GridSearchCV(estimator = logistic_regression, param_grid = parameters , scoring = 'accuracy', cv = 3, n_jobs = -1 , verbose = 2)\n",
        "grid_scores = grid_search.fit(X_train_pca , y_train)"
      ],
      "execution_count": null,
      "outputs": [
        {
          "output_type": "stream",
          "text": [
            "Fitting 3 folds for each of 3 candidates, totalling 9 fits\n"
          ],
          "name": "stdout"
        },
        {
          "output_type": "stream",
          "text": [
            "[Parallel(n_jobs=-1)]: Using backend LokyBackend with 2 concurrent workers.\n",
            "[Parallel(n_jobs=-1)]: Done   6 out of   9 | elapsed:    0.4s remaining:    0.2s\n",
            "[Parallel(n_jobs=-1)]: Done   9 out of   9 | elapsed:    0.6s finished\n"
          ],
          "name": "stderr"
        }
      ]
    },
    {
      "cell_type": "code",
      "metadata": {
        "colab": {
          "base_uri": "https://localhost:8080/"
        },
        "id": "wu0-nzWS4DiH",
        "outputId": "8cc16273-7dec-4a49-847a-8c9f8f6229bd"
      },
      "source": [
        "print( grid_search.best_score_)\n",
        "print(grid_search.best_params_)"
      ],
      "execution_count": null,
      "outputs": [
        {
          "output_type": "stream",
          "text": [
            "0.9324250972647334\n",
            "{'C': 1.1}\n"
          ],
          "name": "stdout"
        }
      ]
    },
    {
      "cell_type": "code",
      "metadata": {
        "id": "QttWZjae4UW9"
      },
      "source": [
        "logistic_regression = LogisticRegression( C = 1.1, n_jobs = -1)"
      ],
      "execution_count": null,
      "outputs": []
    },
    {
      "cell_type": "code",
      "metadata": {
        "colab": {
          "base_uri": "https://localhost:8080/"
        },
        "id": "cftAeLJm4yiY",
        "outputId": "70d6837c-aba3-47a0-e723-bb6ec2ee69b3"
      },
      "source": [
        "logistic_regression.fit(X_train_pca, y_train)"
      ],
      "execution_count": null,
      "outputs": [
        {
          "output_type": "execute_result",
          "data": {
            "text/plain": [
              "LogisticRegression(C=1.1, class_weight=None, dual=False, fit_intercept=True,\n",
              "                   intercept_scaling=1, l1_ratio=None, max_iter=100,\n",
              "                   multi_class='auto', n_jobs=-1, penalty='l2',\n",
              "                   random_state=None, solver='lbfgs', tol=0.0001, verbose=0,\n",
              "                   warm_start=False)"
            ]
          },
          "metadata": {
            "tags": []
          },
          "execution_count": 481
        }
      ]
    },
    {
      "cell_type": "code",
      "metadata": {
        "colab": {
          "base_uri": "https://localhost:8080/"
        },
        "id": "ibDuFGEu5Gh4",
        "outputId": "62dde179-97ed-40c1-8cb4-fdc872b25a18"
      },
      "source": [
        "lr_train_predict=logistic_regression.predict(X_train_pca)\n",
        "lr_train_predict"
      ],
      "execution_count": null,
      "outputs": [
        {
          "output_type": "execute_result",
          "data": {
            "text/plain": [
              "array([1, 1, 1, ..., 1, 1, 1])"
            ]
          },
          "metadata": {
            "tags": []
          },
          "execution_count": 482
        }
      ]
    },
    {
      "cell_type": "code",
      "metadata": {
        "colab": {
          "base_uri": "https://localhost:8080/",
          "height": 275
        },
        "id": "BdeDHDVn5bWm",
        "outputId": "d0498d45-dd2b-4c33-98cf-00b402b87b0e"
      },
      "source": [
        "cf= confusion_matrix(y_train, lr_train_predict)\n",
        "\n",
        "# Visualizing the Confusion Matrix`\n",
        "\n",
        "plt.matshow(cf , cmap = plt.cm.gray, )\n",
        "plt.show()"
      ],
      "execution_count": null,
      "outputs": [
        {
          "output_type": "display_data",
          "data": {
            "image/png": "[encoded data removed]",
            "text/plain": [
              "<Figure size 288x288 with 1 Axes>"
            ]
          },
          "metadata": {
            "tags": [],
            "needs_background": "light"
          }
        }
      ]
    },
    {
      "cell_type": "code",
      "metadata": {
        "colab": {
          "base_uri": "https://localhost:8080/",
          "height": 285
        },
        "id": "Q2x1ahOH5kU0",
        "outputId": "3abe4a00-6dfc-496f-c4e8-c098f4f3d74b"
      },
      "source": [
        "# Analyzing the Errors\n",
        "row_sums = cf.sum(axis=1 , keepdims = True)\n",
        "normal_cf = cf/row_sums\n",
        "\n",
        "np.fill_diagonal(normal_cf,0)\n",
        "plt.matshow(normal_cf,cmap = plt.cm.gray)\n",
        "\n",
        "plt.title(\"error Analysis\")\n",
        "plt.show()"
      ],
      "execution_count": null,
      "outputs": [
        {
          "output_type": "display_data",
          "data": {
            "image/png": "[encoded data removed]",
            "text/plain": [
              "<Figure size 288x288 with 1 Axes>"
            ]
          },
          "metadata": {
            "tags": [],
            "needs_background": "light"
          }
        }
      ]
    },
    {
      "cell_type": "code",
      "metadata": {
        "colab": {
          "base_uri": "https://localhost:8080/"
        },
        "id": "UJ1clsb25vKU",
        "outputId": "576bf1a3-0346-4b85-a577-7b954574c512"
      },
      "source": [
        "k = logistic_regression.score(X_train_pca, y_train)\n",
        "print('the Accuracy on the Training set come out to be : ' + str(k))"
      ],
      "execution_count": null,
      "outputs": [
        {
          "output_type": "stream",
          "text": [
            "the Accuracy on the Training set come out to be : 0.9330445544554455\n"
          ],
          "name": "stdout"
        }
      ]
    },
    {
      "cell_type": "code",
      "metadata": {
        "colab": {
          "base_uri": "https://localhost:8080/"
        },
        "id": "ZIk_vsqZ58ks",
        "outputId": "99e384a5-4e3f-4d9e-f457-9dcc7bdfac3b"
      },
      "source": [
        "import sklearn.metrics as skm\n",
        "print(skm.classification_report( y_train , lr_train_predict ))"
      ],
      "execution_count": null,
      "outputs": [
        {
          "output_type": "stream",
          "text": [
            "              precision    recall  f1-score   support\n",
            "\n",
            "           0       0.94      0.92      0.93      4040\n",
            "           1       0.92      0.95      0.93      4040\n",
            "\n",
            "    accuracy                           0.93      8080\n",
            "   macro avg       0.93      0.93      0.93      8080\n",
            "weighted avg       0.93      0.93      0.93      8080\n",
            "\n"
          ],
          "name": "stdout"
        }
      ]
    },
    {
      "cell_type": "code",
      "metadata": {
        "colab": {
          "base_uri": "https://localhost:8080/"
        },
        "id": "uiDFvFJ05_lF",
        "outputId": "bca7f18a-740f-467b-a476-2507de512124"
      },
      "source": [
        "# running model on the test set\n",
        "predict = logistic_regression.predict(X_test_pca)\n",
        "print(predict)"
      ],
      "execution_count": null,
      "outputs": [
        {
          "output_type": "stream",
          "text": [
            "[0 0 0 ... 0 0 1]\n"
          ],
          "name": "stdout"
        }
      ]
    },
    {
      "cell_type": "markdown",
      "metadata": {
        "id": "2DXnmPjyNAXC"
      },
      "source": [
        "## 3rd approach:"
      ]
    },
    {
      "cell_type": "code",
      "metadata": {
        "id": "OO4PVLaAQWM3"
      },
      "source": [
        "sc = StandardScaler()\n",
        "pca = PCA()\n",
        "lr_model_p = LogisticRegression().fit(X_train, y_train)\n",
        "yp_lr = lr_model_p.predict(X_test)"
      ],
      "execution_count": null,
      "outputs": []
    },
    {
      "cell_type": "code",
      "metadata": {
        "id": "5L_68em0QHPn"
      },
      "source": [
        "pipe = Pipeline(steps=[('sc',sc),\n",
        "                      ('pca',pca),\n",
        "                      ('logistic', logistic)])\n",
        "\n",
        "n_components = list(range(1,X.shape[1]+1,1))\n",
        "param_grid = {\n",
        "    'pca__n_components': n_components,\n",
        "    'logistic__C': np.logspace(-4, 4, 4),\n",
        "}\n",
        "\n",
        "\n",
        "clf = GridSearchCV(pipe, param_grid)"
      ],
      "execution_count": null,
      "outputs": []
    },
    {
      "cell_type": "code",
      "metadata": {
        "colab": {
          "base_uri": "https://localhost:8080/"
        },
        "id": "U1pyDYwuUOuM",
        "outputId": "408687ef-d7f7-49d3-a84e-b3e5c9661fd4"
      },
      "source": [
        "clf.fit(X_train,y_train)"
      ],
      "execution_count": null,
      "outputs": [
        {
          "output_type": "execute_result",
          "data": {
            "text/plain": [
              "GridSearchCV(cv=None, error_score=nan,\n",
              "             estimator=Pipeline(memory=None,\n",
              "                                steps=[('sc',\n",
              "                                        StandardScaler(copy=True,\n",
              "                                                       with_mean=True,\n",
              "                                                       with_std=True)),\n",
              "                                       ('pca',\n",
              "                                        PCA(copy=True, iterated_power='auto',\n",
              "                                            n_components=None,\n",
              "                                            random_state=None,\n",
              "                                            svd_solver='auto', tol=0.0,\n",
              "                                            whiten=False)),\n",
              "                                       ('logistic',\n",
              "                                        LogisticRegression(C=1.0,\n",
              "                                                           class_weight=None,\n",
              "                                                           dual=False,\n",
              "                                                           fit_intercept=True,\n",
              "                                                           intercep...\n",
              "                                                           solver='lbfgs',\n",
              "                                                           tol=0.1, verbose=0,\n",
              "                                                           warm_start=False))],\n",
              "                                verbose=False),\n",
              "             iid='deprecated', n_jobs=None,\n",
              "             param_grid={'logistic__C': array([1.000e-04, 4.642e-02, 2.154e+01, 1.000e+04]),\n",
              "                         'pca__n_components': [1, 2, 3, 4, 5, 6, 7, 8, 9, 10,\n",
              "                                               11, 12, 13, 14, 15, 16, 17, 18,\n",
              "                                               19, 20, 21, 22, 23, 24, 25, 26,\n",
              "                                               27, 28]},\n",
              "             pre_dispatch='2*n_jobs', refit=True, return_train_score=False,\n",
              "             scoring=None, verbose=0)"
            ]
          },
          "metadata": {
            "tags": []
          },
          "execution_count": 490
        }
      ]
    },
    {
      "cell_type": "code",
      "metadata": {
        "colab": {
          "base_uri": "https://localhost:8080/"
        },
        "id": "F2gUVO7NM_rl",
        "outputId": "089253aa-b188-449f-ba13-93fb0e93ca48"
      },
      "source": [
        "# Viewing The Best Parameters\n",
        "\n",
        "#print('Best Criterion:', clf.best_estimator_.get_params()['decisiontree__criterion'])\n",
        "print('Best max_depth:', clf.best_estimator_.get_params()['logistic__C'])\n",
        "print('Best Number Of Components:', clf.best_estimator_.get_params()['pca__n_components'])\n",
        "print(); print(clf.best_estimator_.get_params()['logistic'])\n",
        "\n"
      ],
      "execution_count": null,
      "outputs": [
        {
          "output_type": "stream",
          "text": [
            "Best max_depth: 0.046415888336127774\n",
            "Best Number Of Components: 20\n",
            "\n",
            "LogisticRegression(C=0.046415888336127774, class_weight=None, dual=False,\n",
            "                   fit_intercept=True, intercept_scaling=1, l1_ratio=None,\n",
            "                   max_iter=10000, multi_class='auto', n_jobs=None,\n",
            "                   penalty='l2', random_state=None, solver='lbfgs', tol=0.1,\n",
            "                   verbose=0, warm_start=False)\n"
          ],
          "name": "stdout"
        }
      ]
    },
    {
      "cell_type": "code",
      "metadata": {
        "colab": {
          "base_uri": "https://localhost:8080/"
        },
        "id": "Jl2OhqqbU_ks",
        "outputId": "c2d366ee-061e-4e47-97c3-6e8240c7f897"
      },
      "source": [
        "clf_lr_1 = LogisticRegression(C=0.046415888336127774, class_weight=None, dual=False,\n",
        "                   fit_intercept=True, intercept_scaling=1, l1_ratio=None,\n",
        "                   max_iter=10000, multi_class='auto', n_jobs=None,\n",
        "                   penalty='l2', random_state=None, solver='lbfgs', tol=0.1,\n",
        "                   verbose=0, warm_start=False)\n",
        "clf_lr_1.fit(X_train, y_train)\n",
        "print(clf_lr_1.score(X_test, y_test))"
      ],
      "execution_count": null,
      "outputs": [
        {
          "output_type": "stream",
          "text": [
            "0.903960396039604\n"
          ],
          "name": "stdout"
        }
      ]
    },
    {
      "cell_type": "code",
      "metadata": {
        "colab": {
          "base_uri": "https://localhost:8080/"
        },
        "id": "wcWHRItLVkTc",
        "outputId": "55c27352-fbb8-46a9-cb9e-09aae4e84bcd"
      },
      "source": [
        "results = cross_val_score(clf_lr_1, X, y, cv=KFold_validation)\n",
        "print (results)\n",
        "print(np.mean(results))"
      ],
      "execution_count": null,
      "outputs": [
        {
          "output_type": "stream",
          "text": [
            "[0.639 0.645 0.788 0.936 0.949 0.945 0.945 0.937 0.949 0.943]\n",
            "0.8675271563429459\n"
          ],
          "name": "stdout"
        }
      ]
    },
    {
      "cell_type": "code",
      "metadata": {
        "colab": {
          "base_uri": "https://localhost:8080/"
        },
        "id": "QpnIHQzSVqGS",
        "outputId": "9b2bb06d-02b1-4b15-f1d7-3200bca37cc2"
      },
      "source": [
        "print(confusion_matrix(y_test, yp_lr))\n",
        "print(accuracy_score(y_test, yp_lr))\n",
        "print(classification_report(y_test, yp_lr))"
      ],
      "execution_count": null,
      "outputs": [
        {
          "output_type": "stream",
          "text": [
            "[[927  83]\n",
            " [ 60 950]]\n",
            "0.9292079207920793\n",
            "              precision    recall  f1-score   support\n",
            "\n",
            "           0       0.94      0.92      0.93      1010\n",
            "           1       0.92      0.94      0.93      1010\n",
            "\n",
            "    accuracy                           0.93      2020\n",
            "   macro avg       0.93      0.93      0.93      2020\n",
            "weighted avg       0.93      0.93      0.93      2020\n",
            "\n"
          ],
          "name": "stdout"
        }
      ]
    },
    {
      "cell_type": "markdown",
      "metadata": {
        "id": "4icnG67ZGpWU"
      },
      "source": [
        "## 4. Decision Tree: "
      ]
    },
    {
      "cell_type": "code",
      "metadata": {
        "colab": {
          "base_uri": "https://localhost:8080/"
        },
        "id": "YOGX7OhiFjvy",
        "outputId": "d3896d9d-989e-438c-bd94-db02a0a99df6"
      },
      "source": [
        "from sklearn.tree import DecisionTreeClassifier\n",
        "sc = StandardScaler()\n",
        "pca = PCA()\n",
        "decisiontree = DecisionTreeClassifier().fit(X_train, y_train)\n",
        "yp_DT = decisiontree.predict(X_test)\n",
        "\n",
        "pipe = Pipeline(steps=[('sc',sc),\n",
        "                      ('pca',pca),\n",
        "                      ('decisiontree', decisiontree)])\n",
        "\n",
        "n_components = list(range(1,X.shape[1]+1,1))\n",
        "criterion = ['gini', 'entropy']\n",
        "max_depth = [4,6,8,12]\n",
        "\n",
        "parameters = dict(pca__n_components = n_components,\n",
        "                 decisiontree__criterion = criterion,\n",
        "                 decisiontree__max_depth = max_depth)\n",
        "\n",
        "clf = GridSearchCV(pipe, parameters)\n",
        "clf.fit(X_train,y_train)\n",
        "\n",
        "# Viewing The Best Parameters\n",
        "\n",
        "print('Best Criterion:', clf.best_estimator_.get_params()['decisiontree__criterion'])\n",
        "print('Best max_depth:', clf.best_estimator_.get_params()['decisiontree__max_depth'])\n",
        "print('Best Number Of Components:', clf.best_estimator_.get_params()['pca__n_components'])\n",
        "print(); print(clf.best_estimator_.get_params()['decisiontree'])\n",
        "\n"
      ],
      "execution_count": null,
      "outputs": [
        {
          "output_type": "stream",
          "text": [
            "Best Criterion: entropy\n",
            "Best max_depth: 12\n",
            "Best Number Of Components: 24\n",
            "\n",
            "DecisionTreeClassifier(ccp_alpha=0.0, class_weight=None, criterion='entropy',\n",
            "                       max_depth=12, max_features=None, max_leaf_nodes=None,\n",
            "                       min_impurity_decrease=0.0, min_impurity_split=None,\n",
            "                       min_samples_leaf=1, min_samples_split=2,\n",
            "                       min_weight_fraction_leaf=0.0, presort='deprecated',\n",
            "                       random_state=None, splitter='best')\n"
          ],
          "name": "stdout"
        }
      ]
    },
    {
      "cell_type": "code",
      "metadata": {
        "colab": {
          "base_uri": "https://localhost:8080/"
        },
        "id": "bWVbTRmdG-s2",
        "outputId": "7c724c07-c1b2-47bb-a3db-b5eec143867c"
      },
      "source": [
        "# building the model with the best parameters\n",
        "clf2 = DecisionTreeClassifier(ccp_alpha=0.0, class_weight=None, criterion='gini',\n",
        "                       max_depth=12, max_features=None, max_leaf_nodes=None,\n",
        "                       min_impurity_decrease=0.0, min_impurity_split=None,\n",
        "                       min_samples_leaf=1, min_samples_split=2,\n",
        "                       min_weight_fraction_leaf=0.0, presort='deprecated',\n",
        "                       random_state=None, splitter='best')\n",
        "clf2.fit(X_train, y_train)\n",
        "print(clf2.score(X_test, y_test))"
      ],
      "execution_count": null,
      "outputs": [
        {
          "output_type": "stream",
          "text": [
            "0.94009900990099\n"
          ],
          "name": "stdout"
        }
      ]
    },
    {
      "cell_type": "markdown",
      "metadata": {
        "id": "Q5rTdb3WGP3k"
      },
      "source": [
        "Model with the best parameters:"
      ]
    },
    {
      "cell_type": "markdown",
      "metadata": {
        "id": "5UWs80YoH9CA"
      },
      "source": [
        "Model evaluation:"
      ]
    },
    {
      "cell_type": "code",
      "metadata": {
        "colab": {
          "base_uri": "https://localhost:8080/"
        },
        "id": "D8OvLW7bH8aZ",
        "outputId": "9e492e37-8c0b-4a1f-861b-06bb78d0241f"
      },
      "source": [
        "results = cross_val_score(clf2, X, y, cv=KFold_validation)\n",
        "print (results)\n",
        "print(np.mean(results))"
      ],
      "execution_count": null,
      "outputs": [
        {
          "output_type": "stream",
          "text": [
            "[0.777 0.795 0.863 0.932 0.943 0.933 0.926 0.919 0.942 0.922]\n",
            "0.8952244035303245\n"
          ],
          "name": "stdout"
        }
      ]
    },
    {
      "cell_type": "code",
      "metadata": {
        "colab": {
          "base_uri": "https://localhost:8080/"
        },
        "id": "b5_7t3M9HKa9",
        "outputId": "e639dda9-9194-403e-ba49-1e17c30d7d3d"
      },
      "source": [
        "print(confusion_matrix(y_test, yp_DT))\n",
        "print(accuracy_score(y_test, yp_DT))\n",
        "print(classification_report(y_test, yp_DT))"
      ],
      "execution_count": null,
      "outputs": [
        {
          "output_type": "stream",
          "text": [
            "[[949  61]\n",
            " [ 67 943]]\n",
            "0.9366336633663367\n",
            "              precision    recall  f1-score   support\n",
            "\n",
            "           0       0.93      0.94      0.94      1010\n",
            "           1       0.94      0.93      0.94      1010\n",
            "\n",
            "    accuracy                           0.94      2020\n",
            "   macro avg       0.94      0.94      0.94      2020\n",
            "weighted avg       0.94      0.94      0.94      2020\n",
            "\n"
          ],
          "name": "stdout"
        }
      ]
    },
    {
      "cell_type": "markdown",
      "metadata": {
        "id": "rF9ICHmEdnbb"
      },
      "source": [
        "## 5. Gradient Boosting Model"
      ]
    },
    {
      "cell_type": "code",
      "metadata": {
        "id": "yXCyVhaqiiI-"
      },
      "source": [
        "from sklearn.ensemble import GradientBoostingClassifier\n",
        "sc = StandardScaler()\n",
        "pca = PCA()\n",
        "GB_clf = GradientBoostingClassifier().fit(X_train, y_train)"
      ],
      "execution_count": null,
      "outputs": []
    },
    {
      "cell_type": "code",
      "metadata": {
        "id": "iPTcNeLGvHhI"
      },
      "source": [
        "yp_GB = GB_clf.predict(X_test)"
      ],
      "execution_count": null,
      "outputs": []
    },
    {
      "cell_type": "code",
      "metadata": {
        "id": "GXnCYS9SLFZD"
      },
      "source": [
        "pipe = Pipeline([\n",
        "    ('reduce_dim', PCA()),\n",
        "    ('classify', GradientBoostingClassifier())\n",
        "])\n",
        "score = {'f1': 'f1', 'accuracy': 'accuracy'}\n",
        "N_FEATURES_OPTIONS = [2,4]\n",
        "max_dep = [3,4,6]\n",
        "n_est = [50]\n",
        "min_samp = [4,5]\n",
        "param_grid = [\n",
        "    {\n",
        "        'reduce_dim': [PCA()],\n",
        "        'reduce_dim__n_components': N_FEATURES_OPTIONS,\n",
        " #      'classify__n_estimators': n_est,\n",
        "        'classify__max_depth': max_dep,\n",
        " #       'classify__min_samples_split':min_samp\n",
        "    }]\n",
        "reducer_labels = ['PCA']\n",
        "\n",
        "grid_adc = GridSearchCV(pipe, cv=5, n_jobs=-1, param_grid=param_grid, scoring=score, refit='accuracy')"
      ],
      "execution_count": null,
      "outputs": []
    },
    {
      "cell_type": "code",
      "metadata": {
        "colab": {
          "base_uri": "https://localhost:8080/"
        },
        "id": "sxAgzqrdLRiI",
        "outputId": "c4d3e2aa-fe6f-4951-84e6-cf77d300ca7b"
      },
      "source": [
        "grid_adc.fit(X_train, y_train)\n",
        "grid_adc.best_params_"
      ],
      "execution_count": null,
      "outputs": [
        {
          "output_type": "execute_result",
          "data": {
            "text/plain": [
              "{'classify__max_depth': 6,\n",
              " 'reduce_dim': PCA(copy=True, iterated_power='auto', n_components=4, random_state=None,\n",
              "     svd_solver='auto', tol=0.0, whiten=False),\n",
              " 'reduce_dim__n_components': 4}"
            ]
          },
          "metadata": {
            "tags": []
          },
          "execution_count": 502
        }
      ]
    },
    {
      "cell_type": "code",
      "metadata": {
        "colab": {
          "base_uri": "https://localhost:8080/"
        },
        "id": "nPbV-aRVeclN",
        "outputId": "b1b4bcca-8b8f-44be-da5f-483e95e58868"
      },
      "source": [
        "\n",
        "# Viewing The Best Parameters\n",
        "\n",
        "#print('Best Criterion:', grid_adc.best_estimator_.get_params()['reduce_dim__n_components'])\n",
        "print('Best max_depth:', grid_adc.best_estimator_.get_params()['classify__max_depth'])\n",
        "print('Best Number Of Components:', grid_adc.best_estimator_.get_params()['reduce_dim__n_components'])\n",
        "print(); print(grid_adc.best_estimator_.get_params()['classify'])\n",
        "\n"
      ],
      "execution_count": null,
      "outputs": [
        {
          "output_type": "stream",
          "text": [
            "Best max_depth: 6\n",
            "Best Number Of Components: 4\n",
            "\n",
            "GradientBoostingClassifier(ccp_alpha=0.0, criterion='friedman_mse', init=None,\n",
            "                           learning_rate=0.1, loss='deviance', max_depth=6,\n",
            "                           max_features=None, max_leaf_nodes=None,\n",
            "                           min_impurity_decrease=0.0, min_impurity_split=None,\n",
            "                           min_samples_leaf=1, min_samples_split=2,\n",
            "                           min_weight_fraction_leaf=0.0, n_estimators=100,\n",
            "                           n_iter_no_change=None, presort='deprecated',\n",
            "                           random_state=None, subsample=1.0, tol=0.0001,\n",
            "                           validation_fraction=0.1, verbose=0,\n",
            "                           warm_start=False)\n"
          ],
          "name": "stdout"
        }
      ]
    },
    {
      "cell_type": "code",
      "metadata": {
        "colab": {
          "base_uri": "https://localhost:8080/"
        },
        "id": "6ivpZhsfj4XS",
        "outputId": "6d37cd35-2a66-45f6-aa3e-8f44c468cc12"
      },
      "source": [
        "# building the model with the best parameters\n",
        "GB_clf = GradientBoostingClassifier(ccp_alpha=0.0, criterion='friedman_mse', init=None,\n",
        "                           learning_rate=0.1, loss='deviance', max_depth=6,\n",
        "                           max_features=None, max_leaf_nodes=None,\n",
        "                           min_impurity_decrease=0.0, min_impurity_split=None,\n",
        "                           min_samples_leaf=1, min_samples_split=2,\n",
        "                           min_weight_fraction_leaf=0.0, n_estimators=100,\n",
        "                           n_iter_no_change=None, presort='deprecated',\n",
        "                           random_state=None, subsample=1.0, tol=0.0001,\n",
        "                           validation_fraction=0.1, verbose=0,\n",
        "                           warm_start=False)\n",
        "GB_clf.fit(X_train, y_train)\n",
        "print(GB_clf.score(X_test, y_test))"
      ],
      "execution_count": null,
      "outputs": [
        {
          "output_type": "stream",
          "text": [
            "0.9569306930693069\n"
          ],
          "name": "stdout"
        }
      ]
    },
    {
      "cell_type": "markdown",
      "metadata": {
        "id": "V-bEVgRd4ZzJ"
      },
      "source": [
        "### evaluation and comparison of models with selectKBest and PCA all together:"
      ]
    },
    {
      "cell_type": "markdown",
      "metadata": {
        "id": "7fKyjplBtcqL"
      },
      "source": [
        "SelectKBest:"
      ]
    },
    {
      "cell_type": "code",
      "metadata": {
        "colab": {
          "base_uri": "https://localhost:8080/"
        },
        "id": "BEx4FMRv4UPt",
        "outputId": "cfc7bfd6-8d70-4ef6-c6a4-dd6ce1e04403"
      },
      "source": [
        "print (f'Linear regression Classifier : { round (lr_grid_model.score(X_test, y_test) *100,0)}%')\n",
        "print(confusion_matrix(y_test, yp_lr_grid_model))\n",
        "print(accuracy_score(y_test, yp_lr_grid_model))\n",
        "print(classification_report(y_test, yp_lr_grid_model))\n",
        "print ('--------------------------------------------------------------------------')\n",
        "print (f'Desicion Tree Classifier : { round (rf_model_1.score(X_test, y_test) *100,0)}%')\n",
        "print(confusion_matrix(y_test, yp_rf_2))\n",
        "print(accuracy_score(y_test, yp_rf_2))\n",
        "print(classification_report(y_test, yp_rf_2))\n",
        "print ('--------------------------------------------------------------------------')\n",
        "print (f'Support Vector Machine Classifier : { round (Model_SVC_1.score(X_test, y_test) *100,0)}%')\n",
        "print(confusion_matrix(y_test, yp_SVC_1))\n",
        "print(accuracy_score(y_test, yp_SVC_1))\n",
        "print(classification_report(y_test, yp_SVC_1))\n",
        "print ('--------------------------------------------------------------------------')\n",
        "print (f'Gradient Boosting Classifier : { round (clf_GB_2.score(X_test, y_test) *100,0)}%')\n",
        "print(confusion_matrix(y_test, yp_GB_2))\n",
        "print(accuracy_score(y_test, yp_GB_2))\n",
        "print(classification_report(y_test, yp_GB_2))"
      ],
      "execution_count": null,
      "outputs": [
        {
          "output_type": "stream",
          "text": [
            "Linear regression Classifier : 93.0%\n",
            "[[930  80]\n",
            " [ 59 951]]\n",
            "0.9311881188118812\n",
            "              precision    recall  f1-score   support\n",
            "\n",
            "           0       0.94      0.92      0.93      1010\n",
            "           1       0.92      0.94      0.93      1010\n",
            "\n",
            "    accuracy                           0.93      2020\n",
            "   macro avg       0.93      0.93      0.93      2020\n",
            "weighted avg       0.93      0.93      0.93      2020\n",
            "\n",
            "--------------------------------------------------------------------------\n",
            "Desicion Tree Classifier : 95.0%\n",
            "[[955  55]\n",
            " [ 39 971]]\n",
            "0.9534653465346534\n",
            "              precision    recall  f1-score   support\n",
            "\n",
            "           0       0.96      0.95      0.95      1010\n",
            "           1       0.95      0.96      0.95      1010\n",
            "\n",
            "    accuracy                           0.95      2020\n",
            "   macro avg       0.95      0.95      0.95      2020\n",
            "weighted avg       0.95      0.95      0.95      2020\n",
            "\n",
            "--------------------------------------------------------------------------\n",
            "Support Vector Machine Classifier : 94.0%\n",
            "[[937  73]\n",
            " [ 41 969]]\n",
            "0.9435643564356435\n",
            "              precision    recall  f1-score   support\n",
            "\n",
            "           0       0.96      0.93      0.94      1010\n",
            "           1       0.93      0.96      0.94      1010\n",
            "\n",
            "    accuracy                           0.94      2020\n",
            "   macro avg       0.94      0.94      0.94      2020\n",
            "weighted avg       0.94      0.94      0.94      2020\n",
            "\n",
            "--------------------------------------------------------------------------\n",
            "Gradient Boosting Classifier : 94.0%\n",
            "[[946  64]\n",
            " [ 47 963]]\n",
            "0.945049504950495\n",
            "              precision    recall  f1-score   support\n",
            "\n",
            "           0       0.95      0.94      0.94      1010\n",
            "           1       0.94      0.95      0.95      1010\n",
            "\n",
            "    accuracy                           0.95      2020\n",
            "   macro avg       0.95      0.95      0.95      2020\n",
            "weighted avg       0.95      0.95      0.95      2020\n",
            "\n"
          ],
          "name": "stdout"
        }
      ]
    },
    {
      "cell_type": "markdown",
      "metadata": {
        "id": "xXGBGbDttao8"
      },
      "source": [
        "PCA:"
      ]
    },
    {
      "cell_type": "code",
      "metadata": {
        "colab": {
          "base_uri": "https://localhost:8080/"
        },
        "id": "4YJzuEndOjYQ",
        "outputId": "a09771dd-f435-419e-ae2a-6f056c8673a9"
      },
      "source": [
        "print (f'Gradient boosting Classifier : { round (GB_clf.score(X_test, y_test) *100,0)}%')\n",
        "print(confusion_matrix(y_test, yp_lr))\n",
        "print(accuracy_score(y_test, yp_lr))\n",
        "print(classification_report(y_test, yp_lr))\n",
        "print ('--------------------------------------------------------------------------')\n",
        "print (f'Decision tree  Classifier : { round (clf2.score(X_test, y_test) *100,0)}%')\n",
        "print(confusion_matrix(y_test, yp_DT))\n",
        "print(accuracy_score(y_test, yp_DT))\n",
        "print(classification_report(y_test, yp_DT))\n",
        "print ('--------------------------------------------------------------------------')\n",
        "print (f'Logistic regression Classifier : { round (clf_lr_1.score(X_test, y_test) *100,0)}%')\n",
        "print(confusion_matrix(y_test, yp_GB))\n",
        "print(accuracy_score(y_test, yp_GB))\n",
        "print(classification_report(y_test, yp_DT))\n",
        "print ('--------------------------------------------------------------------------')\n",
        "print (f'Support vector machine Classifier : { round (create_grid.score(X_test, y_test) *100,0)}%')\n",
        "print(confusion_matrix(y_test, y_pred))\n",
        "print(accuracy_score(y_test, y_pred))\n",
        "print(classification_report(y_test, y_pred))"
      ],
      "execution_count": null,
      "outputs": [
        {
          "output_type": "stream",
          "text": [
            "Gradient boosting Classifier : 96.0%\n",
            "[[927  83]\n",
            " [ 60 950]]\n",
            "0.9292079207920793\n",
            "              precision    recall  f1-score   support\n",
            "\n",
            "           0       0.94      0.92      0.93      1010\n",
            "           1       0.92      0.94      0.93      1010\n",
            "\n",
            "    accuracy                           0.93      2020\n",
            "   macro avg       0.93      0.93      0.93      2020\n",
            "weighted avg       0.93      0.93      0.93      2020\n",
            "\n",
            "--------------------------------------------------------------------------\n",
            "Decision tree  Classifier : 94.0%\n",
            "[[949  61]\n",
            " [ 67 943]]\n",
            "0.9366336633663367\n",
            "              precision    recall  f1-score   support\n",
            "\n",
            "           0       0.93      0.94      0.94      1010\n",
            "           1       0.94      0.93      0.94      1010\n",
            "\n",
            "    accuracy                           0.94      2020\n",
            "   macro avg       0.94      0.94      0.94      2020\n",
            "weighted avg       0.94      0.94      0.94      2020\n",
            "\n",
            "--------------------------------------------------------------------------\n",
            "Logistic regression Classifier : 90.0%\n",
            "[[946  64]\n",
            " [ 47 963]]\n",
            "0.945049504950495\n",
            "              precision    recall  f1-score   support\n",
            "\n",
            "           0       0.93      0.94      0.94      1010\n",
            "           1       0.94      0.93      0.94      1010\n",
            "\n",
            "    accuracy                           0.94      2020\n",
            "   macro avg       0.94      0.94      0.94      2020\n",
            "weighted avg       0.94      0.94      0.94      2020\n",
            "\n",
            "--------------------------------------------------------------------------\n",
            "Support vector machine Classifier : 82.0%\n",
            "[[800 210]\n",
            " [152 858]]\n",
            "0.8207920792079207\n",
            "              precision    recall  f1-score   support\n",
            "\n",
            "           0       0.84      0.79      0.82      1010\n",
            "           1       0.80      0.85      0.83      1010\n",
            "\n",
            "    accuracy                           0.82      2020\n",
            "   macro avg       0.82      0.82      0.82      2020\n",
            "weighted avg       0.82      0.82      0.82      2020\n",
            "\n"
          ],
          "name": "stdout"
        }
      ]
    },
    {
      "cell_type": "markdown",
      "metadata": {
        "id": "xE1C0LOx28Uh"
      },
      "source": [
        "### Analysis and Conclusion:\n",
        "* Decsion Tree algorithm has the highest accuracy and f1 score and we get better True positive and negative than other algorithms after hyperparameter tuning by GridSearchCV when we use SelectKBest as a feature selector. and we almost get a equal score between our training set and testing set, which indicates that there is no overfitting when we use either SelectKBest or PCA. also when we use PCA, we get a more accurate result and better True positive and negative with Decision tree and lowest score with Support vector machine algorithm. \n"
      ]
    },
    {
      "cell_type": "code",
      "metadata": {
        "colab": {
          "base_uri": "https://localhost:8080/",
          "height": 312
        },
        "id": "uOvRweQoi41w",
        "outputId": "04a5cbd7-0f5d-4097-ec24-4b2107c7e3cb"
      },
      "source": [
        "import matplotlib.pyplot as plt\n",
        "from sklearn.datasets import load_digits\n",
        "from sklearn.pipeline import Pipeline\n",
        "from sklearn.svm import LinearSVC\n",
        "from sklearn.decomposition import PCA, NMF\n",
        "\n",
        "\n",
        "print(__doc__)\n",
        "\n",
        "pipe = Pipeline([\n",
        "    # the reduce_dim stage is populated by the param_grid\n",
        "    ('reduce_dim', 'passthrough'),\n",
        "    ('classify', LinearSVC(dual=False, max_iter=10000))\n",
        "])\n",
        "\n",
        "N_FEATURES_OPTIONS = [2, 4, 8]\n",
        "C_OPTIONS = [1, 10, 100, 1000]\n",
        "param_grid = [\n",
        "    {\n",
        "        'reduce_dim': [PCA(iterated_power=7), NMF()],\n",
        "        'reduce_dim__n_components': N_FEATURES_OPTIONS,\n",
        "        'classify__C': C_OPTIONS\n",
        "    },\n",
        "    {\n",
        "        'reduce_dim': [SelectKBest(chi2)],\n",
        "        'reduce_dim__k': N_FEATURES_OPTIONS,\n",
        "        'classify__C': C_OPTIONS\n",
        "    },\n",
        "]\n",
        "reducer_labels = ['PCA', 'NMF', 'KBest(chi2)']\n",
        "\n",
        "grid = GridSearchCV(pipe, n_jobs=1, param_grid=param_grid)\n",
        "X, y = load_digits(return_X_y=True)\n",
        "grid.fit(X, y)\n",
        "\n",
        "mean_scores = np.array(grid.cv_results_['mean_test_score'])\n",
        "# scores are in the order of param_grid iteration, which is alphabetical\n",
        "mean_scores = mean_scores.reshape(len(C_OPTIONS), -1, len(N_FEATURES_OPTIONS))\n",
        "# select score for best C\n",
        "mean_scores = mean_scores.max(axis=0)\n",
        "bar_offsets = (np.arange(len(N_FEATURES_OPTIONS)) *\n",
        "               (len(reducer_labels) + 1) + .5)\n",
        "\n",
        "plt.figure()\n",
        "COLORS = 'bgrcmyk'\n",
        "for i, (label, reducer_scores) in enumerate(zip(reducer_labels, mean_scores)):\n",
        "    plt.bar(bar_offsets + i, reducer_scores, label=label, color=COLORS[i])\n",
        "\n",
        "plt.title(\"Comparing feature reduction techniques\")\n",
        "plt.xlabel('Reduced number of features')\n",
        "plt.xticks(bar_offsets + len(reducer_labels) / 2, N_FEATURES_OPTIONS)\n",
        "plt.ylabel('Digit classification accuracy')\n",
        "plt.ylim((0, 1))\n",
        "plt.legend(loc='upper left')\n",
        "\n",
        "plt.show()"
      ],
      "execution_count": null,
      "outputs": [
        {
          "output_type": "stream",
          "text": [
            "Automatically created module for IPython interactive environment\n"
          ],
          "name": "stdout"
        },
        {
          "output_type": "display_data",
          "data": {
            "image/png": "[encoded data removed]",
            "text/plain": [
              "<Figure size 432x288 with 1 Axes>"
            ]
          },
          "metadata": {
            "tags": [],
            "needs_background": "light"
          }
        }
      ]
    }
  ]
}